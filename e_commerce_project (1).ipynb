{
 "cells": [
  {
   "cell_type": "markdown",
   "metadata": {
    "colab_type": "text",
    "id": "view-in-github"
   },
   "source": [
    "<a href=\"https://colab.research.google.com/github/malofeevakate/E-commerce_project/blob/main/e_commerce_project.ipynb\" target=\"_parent\"><img src=\"https://colab.research.google.com/assets/colab-badge.svg\" alt=\"Open In Colab\"/></a>"
   ]
  },
  {
   "cell_type": "code",
   "execution_count": null,
   "metadata": {
    "id": "w0LPrVqH1Gvx"
   },
   "outputs": [],
   "source": [
    "import pandas as pd\n",
    "import numpy as np\n",
    "import matplotlib.pyplot as plt\n",
    "import warnings\n",
    "import seaborn as sns\n",
    "from operator import attrgetter\n",
    "import matplotlib.colors as mcolors\n",
    "from datetime import timedelta"
   ]
  },
  {
   "cell_type": "markdown",
   "metadata": {
    "id": "Uyd62aTK1Gv0"
   },
   "source": [
    "### Посмотрим на таблицу с уникальными идентификаторами пользователей"
   ]
  },
  {
   "cell_type": "code",
   "execution_count": null,
   "metadata": {
    "id": "5plldOns1Gv2"
   },
   "outputs": [],
   "source": [
    "df_customers = pd.read_csv('olist_customers_dataset.csv')"
   ]
  },
  {
   "cell_type": "code",
   "execution_count": null,
   "metadata": {
    "id": "B6_jxhou1Gv3",
    "outputId": "f621cb38-5b8a-40ee-9f41-5d0d8188f216"
   },
   "outputs": [
    {
     "data": {
      "text/html": [
       "<div>\n",
       "<style scoped>\n",
       "    .dataframe tbody tr th:only-of-type {\n",
       "        vertical-align: middle;\n",
       "    }\n",
       "\n",
       "    .dataframe tbody tr th {\n",
       "        vertical-align: top;\n",
       "    }\n",
       "\n",
       "    .dataframe thead th {\n",
       "        text-align: right;\n",
       "    }\n",
       "</style>\n",
       "<table border=\"1\" class=\"dataframe\">\n",
       "  <thead>\n",
       "    <tr style=\"text-align: right;\">\n",
       "      <th></th>\n",
       "      <th>customer_id</th>\n",
       "      <th>customer_unique_id</th>\n",
       "      <th>customer_zip_code_prefix</th>\n",
       "      <th>customer_city</th>\n",
       "      <th>customer_state</th>\n",
       "    </tr>\n",
       "  </thead>\n",
       "  <tbody>\n",
       "    <tr>\n",
       "      <th>0</th>\n",
       "      <td>06b8999e2fba1a1fbc88172c00ba8bc7</td>\n",
       "      <td>861eff4711a542e4b93843c6dd7febb0</td>\n",
       "      <td>14409</td>\n",
       "      <td>franca</td>\n",
       "      <td>SP</td>\n",
       "    </tr>\n",
       "    <tr>\n",
       "      <th>1</th>\n",
       "      <td>18955e83d337fd6b2def6b18a428ac77</td>\n",
       "      <td>290c77bc529b7ac935b93aa66c333dc3</td>\n",
       "      <td>9790</td>\n",
       "      <td>sao bernardo do campo</td>\n",
       "      <td>SP</td>\n",
       "    </tr>\n",
       "    <tr>\n",
       "      <th>2</th>\n",
       "      <td>4e7b3e00288586ebd08712fdd0374a03</td>\n",
       "      <td>060e732b5b29e8181a18229c7b0b2b5e</td>\n",
       "      <td>1151</td>\n",
       "      <td>sao paulo</td>\n",
       "      <td>SP</td>\n",
       "    </tr>\n",
       "    <tr>\n",
       "      <th>3</th>\n",
       "      <td>b2b6027bc5c5109e529d4dc6358b12c3</td>\n",
       "      <td>259dac757896d24d7702b9acbbff3f3c</td>\n",
       "      <td>8775</td>\n",
       "      <td>mogi das cruzes</td>\n",
       "      <td>SP</td>\n",
       "    </tr>\n",
       "    <tr>\n",
       "      <th>4</th>\n",
       "      <td>4f2d8ab171c80ec8364f7c12e35b23ad</td>\n",
       "      <td>345ecd01c38d18a9036ed96c73b8d066</td>\n",
       "      <td>13056</td>\n",
       "      <td>campinas</td>\n",
       "      <td>SP</td>\n",
       "    </tr>\n",
       "  </tbody>\n",
       "</table>\n",
       "</div>"
      ],
      "text/plain": [
       "                        customer_id                customer_unique_id  \\\n",
       "0  06b8999e2fba1a1fbc88172c00ba8bc7  861eff4711a542e4b93843c6dd7febb0   \n",
       "1  18955e83d337fd6b2def6b18a428ac77  290c77bc529b7ac935b93aa66c333dc3   \n",
       "2  4e7b3e00288586ebd08712fdd0374a03  060e732b5b29e8181a18229c7b0b2b5e   \n",
       "3  b2b6027bc5c5109e529d4dc6358b12c3  259dac757896d24d7702b9acbbff3f3c   \n",
       "4  4f2d8ab171c80ec8364f7c12e35b23ad  345ecd01c38d18a9036ed96c73b8d066   \n",
       "\n",
       "   customer_zip_code_prefix          customer_city customer_state  \n",
       "0                     14409                 franca             SP  \n",
       "1                      9790  sao bernardo do campo             SP  \n",
       "2                      1151              sao paulo             SP  \n",
       "3                      8775        mogi das cruzes             SP  \n",
       "4                     13056               campinas             SP  "
      ]
     },
     "execution_count": 3,
     "metadata": {},
     "output_type": "execute_result"
    }
   ],
   "source": [
    "df_customers.head()"
   ]
  },
  {
   "cell_type": "code",
   "execution_count": null,
   "metadata": {
    "id": "oieWVjG41Gv4",
    "outputId": "33417b28-4e40-43ab-a9af-930032b0d5cb"
   },
   "outputs": [
    {
     "data": {
      "text/plain": [
       "(99441, 5)"
      ]
     },
     "execution_count": 4,
     "metadata": {},
     "output_type": "execute_result"
    }
   ],
   "source": [
    "df_customers.shape"
   ]
  },
  {
   "cell_type": "code",
   "execution_count": null,
   "metadata": {
    "id": "5jkFAhNH1Gv4",
    "outputId": "64db665f-a63a-4e8d-c1b7-74c2bda7db6f"
   },
   "outputs": [
    {
     "data": {
      "text/plain": [
       "customer_id                 0\n",
       "customer_unique_id          0\n",
       "customer_zip_code_prefix    0\n",
       "customer_city               0\n",
       "customer_state              0\n",
       "dtype: int64"
      ]
     },
     "execution_count": 5,
     "metadata": {},
     "output_type": "execute_result"
    }
   ],
   "source": [
    "# пропущенные значения отсутствуют\n",
    "df_customers.isna().sum()"
   ]
  },
  {
   "cell_type": "code",
   "execution_count": null,
   "metadata": {
    "id": "IvCq3aOp1Gv5",
    "outputId": "3b0dd4b1-b002-4cd3-90c1-3a4fcf2ef32c"
   },
   "outputs": [
    {
     "data": {
      "text/plain": [
       "99441"
      ]
     },
     "execution_count": 6,
     "metadata": {},
     "output_type": "execute_result"
    }
   ],
   "source": [
    "# сравним число юников айди юзеров и айди юзеров, связанных с заказами\n",
    "df_customers.customer_id.nunique()"
   ]
  },
  {
   "cell_type": "code",
   "execution_count": null,
   "metadata": {
    "id": "Kfy0-upF1Gv5",
    "outputId": "ef3a3dba-30a8-4d8f-e652-f586fb1b6de9"
   },
   "outputs": [
    {
     "data": {
      "text/plain": [
       "96096"
      ]
     },
     "execution_count": 7,
     "metadata": {},
     "output_type": "execute_result"
    }
   ],
   "source": [
    "df_customers.customer_unique_id.nunique()"
   ]
  },
  {
   "cell_type": "markdown",
   "metadata": {
    "id": "D0-gVXzo1Gv5"
   },
   "source": [
    "Мы видим, что юников меньше, чем айди юзеров, связанных с заказами, что логично (некоторые пользователи делают больше одного заказа)"
   ]
  },
  {
   "cell_type": "markdown",
   "metadata": {
    "id": "l94xwzxD1Gv6"
   },
   "source": [
    "## Посмотрим на таблицу с данными заказов"
   ]
  },
  {
   "cell_type": "code",
   "execution_count": null,
   "metadata": {
    "id": "CYrQlpgt1Gv6"
   },
   "outputs": [],
   "source": [
    "df_orders = pd.read_csv('olist_orders_dataset.csv')"
   ]
  },
  {
   "cell_type": "code",
   "execution_count": null,
   "metadata": {
    "id": "D3rkRXCS1Gv7",
    "outputId": "79d563d2-10b0-4b56-a33d-116b72eeaf07"
   },
   "outputs": [
    {
     "data": {
      "text/html": [
       "<div>\n",
       "<style scoped>\n",
       "    .dataframe tbody tr th:only-of-type {\n",
       "        vertical-align: middle;\n",
       "    }\n",
       "\n",
       "    .dataframe tbody tr th {\n",
       "        vertical-align: top;\n",
       "    }\n",
       "\n",
       "    .dataframe thead th {\n",
       "        text-align: right;\n",
       "    }\n",
       "</style>\n",
       "<table border=\"1\" class=\"dataframe\">\n",
       "  <thead>\n",
       "    <tr style=\"text-align: right;\">\n",
       "      <th></th>\n",
       "      <th>order_id</th>\n",
       "      <th>customer_id</th>\n",
       "      <th>order_status</th>\n",
       "      <th>order_purchase_timestamp</th>\n",
       "      <th>order_approved_at</th>\n",
       "      <th>order_delivered_carrier_date</th>\n",
       "      <th>order_delivered_customer_date</th>\n",
       "      <th>order_estimated_delivery_date</th>\n",
       "    </tr>\n",
       "  </thead>\n",
       "  <tbody>\n",
       "    <tr>\n",
       "      <th>0</th>\n",
       "      <td>e481f51cbdc54678b7cc49136f2d6af7</td>\n",
       "      <td>9ef432eb6251297304e76186b10a928d</td>\n",
       "      <td>delivered</td>\n",
       "      <td>2017-10-02 10:56:33</td>\n",
       "      <td>2017-10-02 11:07:15</td>\n",
       "      <td>2017-10-04 19:55:00</td>\n",
       "      <td>2017-10-10 21:25:13</td>\n",
       "      <td>2017-10-18 00:00:00</td>\n",
       "    </tr>\n",
       "    <tr>\n",
       "      <th>1</th>\n",
       "      <td>53cdb2fc8bc7dce0b6741e2150273451</td>\n",
       "      <td>b0830fb4747a6c6d20dea0b8c802d7ef</td>\n",
       "      <td>delivered</td>\n",
       "      <td>2018-07-24 20:41:37</td>\n",
       "      <td>2018-07-26 03:24:27</td>\n",
       "      <td>2018-07-26 14:31:00</td>\n",
       "      <td>2018-08-07 15:27:45</td>\n",
       "      <td>2018-08-13 00:00:00</td>\n",
       "    </tr>\n",
       "    <tr>\n",
       "      <th>2</th>\n",
       "      <td>47770eb9100c2d0c44946d9cf07ec65d</td>\n",
       "      <td>41ce2a54c0b03bf3443c3d931a367089</td>\n",
       "      <td>delivered</td>\n",
       "      <td>2018-08-08 08:38:49</td>\n",
       "      <td>2018-08-08 08:55:23</td>\n",
       "      <td>2018-08-08 13:50:00</td>\n",
       "      <td>2018-08-17 18:06:29</td>\n",
       "      <td>2018-09-04 00:00:00</td>\n",
       "    </tr>\n",
       "    <tr>\n",
       "      <th>3</th>\n",
       "      <td>949d5b44dbf5de918fe9c16f97b45f8a</td>\n",
       "      <td>f88197465ea7920adcdbec7375364d82</td>\n",
       "      <td>delivered</td>\n",
       "      <td>2017-11-18 19:28:06</td>\n",
       "      <td>2017-11-18 19:45:59</td>\n",
       "      <td>2017-11-22 13:39:59</td>\n",
       "      <td>2017-12-02 00:28:42</td>\n",
       "      <td>2017-12-15 00:00:00</td>\n",
       "    </tr>\n",
       "    <tr>\n",
       "      <th>4</th>\n",
       "      <td>ad21c59c0840e6cb83a9ceb5573f8159</td>\n",
       "      <td>8ab97904e6daea8866dbdbc4fb7aad2c</td>\n",
       "      <td>delivered</td>\n",
       "      <td>2018-02-13 21:18:39</td>\n",
       "      <td>2018-02-13 22:20:29</td>\n",
       "      <td>2018-02-14 19:46:34</td>\n",
       "      <td>2018-02-16 18:17:02</td>\n",
       "      <td>2018-02-26 00:00:00</td>\n",
       "    </tr>\n",
       "  </tbody>\n",
       "</table>\n",
       "</div>"
      ],
      "text/plain": [
       "                           order_id                       customer_id  \\\n",
       "0  e481f51cbdc54678b7cc49136f2d6af7  9ef432eb6251297304e76186b10a928d   \n",
       "1  53cdb2fc8bc7dce0b6741e2150273451  b0830fb4747a6c6d20dea0b8c802d7ef   \n",
       "2  47770eb9100c2d0c44946d9cf07ec65d  41ce2a54c0b03bf3443c3d931a367089   \n",
       "3  949d5b44dbf5de918fe9c16f97b45f8a  f88197465ea7920adcdbec7375364d82   \n",
       "4  ad21c59c0840e6cb83a9ceb5573f8159  8ab97904e6daea8866dbdbc4fb7aad2c   \n",
       "\n",
       "  order_status order_purchase_timestamp    order_approved_at  \\\n",
       "0    delivered      2017-10-02 10:56:33  2017-10-02 11:07:15   \n",
       "1    delivered      2018-07-24 20:41:37  2018-07-26 03:24:27   \n",
       "2    delivered      2018-08-08 08:38:49  2018-08-08 08:55:23   \n",
       "3    delivered      2017-11-18 19:28:06  2017-11-18 19:45:59   \n",
       "4    delivered      2018-02-13 21:18:39  2018-02-13 22:20:29   \n",
       "\n",
       "  order_delivered_carrier_date order_delivered_customer_date  \\\n",
       "0          2017-10-04 19:55:00           2017-10-10 21:25:13   \n",
       "1          2018-07-26 14:31:00           2018-08-07 15:27:45   \n",
       "2          2018-08-08 13:50:00           2018-08-17 18:06:29   \n",
       "3          2017-11-22 13:39:59           2017-12-02 00:28:42   \n",
       "4          2018-02-14 19:46:34           2018-02-16 18:17:02   \n",
       "\n",
       "  order_estimated_delivery_date  \n",
       "0           2017-10-18 00:00:00  \n",
       "1           2018-08-13 00:00:00  \n",
       "2           2018-09-04 00:00:00  \n",
       "3           2017-12-15 00:00:00  \n",
       "4           2018-02-26 00:00:00  "
      ]
     },
     "execution_count": 9,
     "metadata": {},
     "output_type": "execute_result"
    }
   ],
   "source": [
    "df_orders.head()"
   ]
  },
  {
   "cell_type": "code",
   "execution_count": null,
   "metadata": {
    "id": "ycgX3VIf1Gv7",
    "outputId": "e6afd20e-8a17-49ad-d260-9fdbafee3ee8"
   },
   "outputs": [
    {
     "data": {
      "text/plain": [
       "(99441, 8)"
      ]
     },
     "execution_count": 10,
     "metadata": {},
     "output_type": "execute_result"
    }
   ],
   "source": [
    "df_orders.shape"
   ]
  },
  {
   "cell_type": "code",
   "execution_count": null,
   "metadata": {
    "id": "TZJNZofP1Gv8",
    "outputId": "605105ce-9779-47c4-ab7c-a67f158e7bfd"
   },
   "outputs": [
    {
     "data": {
      "text/plain": [
       "order_id                         object\n",
       "customer_id                      object\n",
       "order_status                     object\n",
       "order_purchase_timestamp         object\n",
       "order_approved_at                object\n",
       "order_delivered_carrier_date     object\n",
       "order_delivered_customer_date    object\n",
       "order_estimated_delivery_date    object\n",
       "dtype: object"
      ]
     },
     "execution_count": 11,
     "metadata": {},
     "output_type": "execute_result"
    }
   ],
   "source": [
    "# посмотрим на типы данных, в первую очередь нас интересует тип временных переменных\n",
    "df_orders.dtypes"
   ]
  },
  {
   "cell_type": "code",
   "execution_count": null,
   "metadata": {
    "id": "GD74ktML1Gv8"
   },
   "outputs": [],
   "source": [
    "# преобразуем форматы временных переменных в timestamp\n",
    "df_orders.order_purchase_timestamp = pd.to_datetime(df_orders.order_purchase_timestamp)\n",
    "df_orders.order_approved_at = pd.to_datetime(df_orders.order_approved_at)\n",
    "df_orders.order_delivered_carrier_date = pd.to_datetime(df_orders.order_delivered_carrier_date)\n",
    "df_orders.order_delivered_customer_date = pd.to_datetime(df_orders.order_delivered_customer_date)\n",
    "df_orders.order_estimated_delivery_date = pd.to_datetime(df_orders.order_estimated_delivery_date)"
   ]
  },
  {
   "cell_type": "code",
   "execution_count": null,
   "metadata": {
    "id": "OFmoNB4u1Gv8",
    "outputId": "93c6d8c8-1274-481c-81e2-eea6224c1eba"
   },
   "outputs": [
    {
     "data": {
      "text/plain": [
       "order_id                            0\n",
       "customer_id                         0\n",
       "order_status                        0\n",
       "order_purchase_timestamp            0\n",
       "order_approved_at                 160\n",
       "order_delivered_carrier_date     1783\n",
       "order_delivered_customer_date    2965\n",
       "order_estimated_delivery_date       0\n",
       "dtype: int64"
      ]
     },
     "execution_count": 13,
     "metadata": {},
     "output_type": "execute_result"
    }
   ],
   "source": [
    "df_orders.isna().sum()"
   ]
  },
  {
   "cell_type": "markdown",
   "metadata": {
    "id": "O1H9xiUi1Gv9"
   },
   "source": [
    "Обратим внимание, что имеются пропущенные данные в датах перемещения заказов:  \n",
    "    - из всех созданных заказов по 160 заказам не подтвердилась оплата,  \n",
    "    - 1783 заказа не переданы в доставку,  \n",
    "    - 2965 заказов не доставлены конечным пользователям"
   ]
  },
  {
   "cell_type": "code",
   "execution_count": null,
   "metadata": {
    "id": "zE6fWyKc1Gv9",
    "outputId": "5333198e-b83f-4b34-8a18-db7524348a86"
   },
   "outputs": [
    {
     "data": {
      "text/plain": [
       "delivered      96478\n",
       "shipped         1107\n",
       "canceled         625\n",
       "unavailable      609\n",
       "invoiced         314\n",
       "processing       301\n",
       "created            5\n",
       "approved           2\n",
       "Name: order_status, dtype: int64"
      ]
     },
     "execution_count": 14,
     "metadata": {},
     "output_type": "execute_result"
    }
   ],
   "source": [
    "# а что вобще по статусам заказов?\n",
    "df_orders.order_status.value_counts()"
   ]
  },
  {
   "cell_type": "code",
   "execution_count": null,
   "metadata": {
    "id": "u6SI2hM61Gv9",
    "outputId": "2067f28d-c93b-456b-9a37-fddafc75cca3"
   },
   "outputs": [
    {
     "data": {
      "text/plain": [
       "order_id                          0\n",
       "customer_id                       0\n",
       "order_status                      0\n",
       "order_purchase_timestamp          0\n",
       "order_approved_at                14\n",
       "order_delivered_carrier_date      2\n",
       "order_delivered_customer_date     8\n",
       "order_estimated_delivery_date     0\n",
       "dtype: int64"
      ]
     },
     "execution_count": 15,
     "metadata": {},
     "output_type": "execute_result"
    }
   ],
   "source": [
    "# посмотрим подробнее на заказы со статусом delivered:\n",
    "df_orders.query('order_status == \"delivered\"').isna().sum()"
   ]
  },
  {
   "cell_type": "code",
   "execution_count": null,
   "metadata": {
    "id": "g9A_5vI71Gv-",
    "outputId": "15d51568-7e0c-4112-b3a4-99ae85eee2c9"
   },
   "outputs": [
    {
     "data": {
      "text/plain": [
       "order_status\n",
       "delivered    96470\n",
       "canceled         6\n",
       "dtype: int64"
      ]
     },
     "execution_count": 16,
     "metadata": {},
     "output_type": "execute_result"
    }
   ],
   "source": [
    "df_orders.query('order_delivered_customer_date == order_delivered_customer_date').value_counts('order_status')"
   ]
  },
  {
   "cell_type": "code",
   "execution_count": null,
   "metadata": {
    "id": "l7rk65dI1Gv-",
    "outputId": "0956f8c2-6e41-419e-e0be-e9ee474b65fa"
   },
   "outputs": [
    {
     "data": {
      "text/html": [
       "<div>\n",
       "<style scoped>\n",
       "    .dataframe tbody tr th:only-of-type {\n",
       "        vertical-align: middle;\n",
       "    }\n",
       "\n",
       "    .dataframe tbody tr th {\n",
       "        vertical-align: top;\n",
       "    }\n",
       "\n",
       "    .dataframe thead th {\n",
       "        text-align: right;\n",
       "    }\n",
       "</style>\n",
       "<table border=\"1\" class=\"dataframe\">\n",
       "  <thead>\n",
       "    <tr style=\"text-align: right;\">\n",
       "      <th></th>\n",
       "      <th>order_status</th>\n",
       "      <th>order_id</th>\n",
       "      <th>customer_id</th>\n",
       "      <th>order_purchase_timestamp</th>\n",
       "      <th>order_approved_at</th>\n",
       "      <th>order_delivered_carrier_date</th>\n",
       "      <th>order_delivered_customer_date</th>\n",
       "      <th>order_estimated_delivery_date</th>\n",
       "    </tr>\n",
       "  </thead>\n",
       "  <tbody>\n",
       "    <tr>\n",
       "      <th>0</th>\n",
       "      <td>approved</td>\n",
       "      <td>2</td>\n",
       "      <td>2</td>\n",
       "      <td>2</td>\n",
       "      <td>2</td>\n",
       "      <td>0</td>\n",
       "      <td>0</td>\n",
       "      <td>2</td>\n",
       "    </tr>\n",
       "    <tr>\n",
       "      <th>1</th>\n",
       "      <td>canceled</td>\n",
       "      <td>625</td>\n",
       "      <td>625</td>\n",
       "      <td>625</td>\n",
       "      <td>484</td>\n",
       "      <td>75</td>\n",
       "      <td>6</td>\n",
       "      <td>625</td>\n",
       "    </tr>\n",
       "    <tr>\n",
       "      <th>2</th>\n",
       "      <td>created</td>\n",
       "      <td>5</td>\n",
       "      <td>5</td>\n",
       "      <td>5</td>\n",
       "      <td>0</td>\n",
       "      <td>0</td>\n",
       "      <td>0</td>\n",
       "      <td>5</td>\n",
       "    </tr>\n",
       "    <tr>\n",
       "      <th>3</th>\n",
       "      <td>delivered</td>\n",
       "      <td>96478</td>\n",
       "      <td>96478</td>\n",
       "      <td>96478</td>\n",
       "      <td>96464</td>\n",
       "      <td>96476</td>\n",
       "      <td>96470</td>\n",
       "      <td>96478</td>\n",
       "    </tr>\n",
       "    <tr>\n",
       "      <th>4</th>\n",
       "      <td>invoiced</td>\n",
       "      <td>314</td>\n",
       "      <td>314</td>\n",
       "      <td>314</td>\n",
       "      <td>314</td>\n",
       "      <td>0</td>\n",
       "      <td>0</td>\n",
       "      <td>314</td>\n",
       "    </tr>\n",
       "    <tr>\n",
       "      <th>5</th>\n",
       "      <td>processing</td>\n",
       "      <td>301</td>\n",
       "      <td>301</td>\n",
       "      <td>301</td>\n",
       "      <td>301</td>\n",
       "      <td>0</td>\n",
       "      <td>0</td>\n",
       "      <td>301</td>\n",
       "    </tr>\n",
       "    <tr>\n",
       "      <th>6</th>\n",
       "      <td>shipped</td>\n",
       "      <td>1107</td>\n",
       "      <td>1107</td>\n",
       "      <td>1107</td>\n",
       "      <td>1107</td>\n",
       "      <td>1107</td>\n",
       "      <td>0</td>\n",
       "      <td>1107</td>\n",
       "    </tr>\n",
       "    <tr>\n",
       "      <th>7</th>\n",
       "      <td>unavailable</td>\n",
       "      <td>609</td>\n",
       "      <td>609</td>\n",
       "      <td>609</td>\n",
       "      <td>609</td>\n",
       "      <td>0</td>\n",
       "      <td>0</td>\n",
       "      <td>609</td>\n",
       "    </tr>\n",
       "  </tbody>\n",
       "</table>\n",
       "</div>"
      ],
      "text/plain": [
       "  order_status  order_id  customer_id  order_purchase_timestamp  \\\n",
       "0     approved         2            2                         2   \n",
       "1     canceled       625          625                       625   \n",
       "2      created         5            5                         5   \n",
       "3    delivered     96478        96478                     96478   \n",
       "4     invoiced       314          314                       314   \n",
       "5   processing       301          301                       301   \n",
       "6      shipped      1107         1107                      1107   \n",
       "7  unavailable       609          609                       609   \n",
       "\n",
       "   order_approved_at  order_delivered_carrier_date  \\\n",
       "0                  2                             0   \n",
       "1                484                            75   \n",
       "2                  0                             0   \n",
       "3              96464                         96476   \n",
       "4                314                             0   \n",
       "5                301                             0   \n",
       "6               1107                          1107   \n",
       "7                609                             0   \n",
       "\n",
       "   order_delivered_customer_date  order_estimated_delivery_date  \n",
       "0                              0                              2  \n",
       "1                              6                            625  \n",
       "2                              0                              5  \n",
       "3                          96470                          96478  \n",
       "4                              0                            314  \n",
       "5                              0                            301  \n",
       "6                              0                           1107  \n",
       "7                              0                            609  "
      ]
     },
     "execution_count": 17,
     "metadata": {},
     "output_type": "execute_result"
    }
   ],
   "source": [
    "df_orders.groupby('order_status', as_index = False).count()"
   ]
  },
  {
   "cell_type": "markdown",
   "metadata": {
    "id": "UvJcG_To1Gv-"
   },
   "source": [
    "Анализ данных в разрезе статусов заказов показал, что порядка 97 % заказов с датой доставки клиенту имеют статус delivered. При этом, если опираться только на статус delivered, мы видим, что:  \n",
    "- доставлено 14 заказов с отсутствующей датой подтверждения оплаты. Все они приходятся на даты заказов 19.01.2017, 17.02.2017 - 19.02.2017, разные юники, разные города. Если предположить, что эти юзеры - должники нашей системы (товар получили, но не оплатили), значит, эта опция доступна какому-то количеству пользователей, почему воспользовавшихся ею так мало за рассматриваемый период? Скорее всего какой - то баг в системе подтверждения оплаты или ее учета, поэтому оставляю в выборке доставленных и оплаченных заказов),\n",
    "- 2 заказа с отсутствующей датой передачи заказа в логистику,  \n",
    "- 8 заказов с отсутствующей датой вручения клиенту (почти все невручения приходятся на один и тот же штат - Сан Паулу, вроде и небольшая доля в общем объеме наших заказов, но брать их в выборку купленных не хочется).\n",
    "Ввиду того, что покупка - это оплата и получение товара клиентом (в совокупности), а также необходимости сделать метрику более чувствительной к отказам от покупки заказов на разных этапах, целесообразно **признать покупкой транзакцию, у которой статус \"доставлено\" + имеется дата передачи клиенту**"
   ]
  },
  {
   "cell_type": "markdown",
   "metadata": {
    "id": "9Z7Hjj5T1Gv_"
   },
   "source": [
    "## Посмотрим на таблицу с данными товарных позиций, входящих в заказы"
   ]
  },
  {
   "cell_type": "code",
   "execution_count": null,
   "metadata": {
    "id": "P2Mn4hmY1Gv_"
   },
   "outputs": [],
   "source": [
    "df_items = pd.read_csv('olist_order_items_dataset.csv')"
   ]
  },
  {
   "cell_type": "code",
   "execution_count": null,
   "metadata": {
    "id": "DzhegSLU1Gv_",
    "outputId": "0c46c072-047a-4b1f-da53-4551cd116fec"
   },
   "outputs": [
    {
     "data": {
      "text/html": [
       "<div>\n",
       "<style scoped>\n",
       "    .dataframe tbody tr th:only-of-type {\n",
       "        vertical-align: middle;\n",
       "    }\n",
       "\n",
       "    .dataframe tbody tr th {\n",
       "        vertical-align: top;\n",
       "    }\n",
       "\n",
       "    .dataframe thead th {\n",
       "        text-align: right;\n",
       "    }\n",
       "</style>\n",
       "<table border=\"1\" class=\"dataframe\">\n",
       "  <thead>\n",
       "    <tr style=\"text-align: right;\">\n",
       "      <th></th>\n",
       "      <th>order_id</th>\n",
       "      <th>order_item_id</th>\n",
       "      <th>product_id</th>\n",
       "      <th>seller_id</th>\n",
       "      <th>shipping_limit_date</th>\n",
       "      <th>price</th>\n",
       "      <th>freight_value</th>\n",
       "    </tr>\n",
       "  </thead>\n",
       "  <tbody>\n",
       "    <tr>\n",
       "      <th>0</th>\n",
       "      <td>00010242fe8c5a6d1ba2dd792cb16214</td>\n",
       "      <td>1</td>\n",
       "      <td>4244733e06e7ecb4970a6e2683c13e61</td>\n",
       "      <td>48436dade18ac8b2bce089ec2a041202</td>\n",
       "      <td>2017-09-19 09:45:35</td>\n",
       "      <td>58.90</td>\n",
       "      <td>13.29</td>\n",
       "    </tr>\n",
       "    <tr>\n",
       "      <th>1</th>\n",
       "      <td>00018f77f2f0320c557190d7a144bdd3</td>\n",
       "      <td>1</td>\n",
       "      <td>e5f2d52b802189ee658865ca93d83a8f</td>\n",
       "      <td>dd7ddc04e1b6c2c614352b383efe2d36</td>\n",
       "      <td>2017-05-03 11:05:13</td>\n",
       "      <td>239.90</td>\n",
       "      <td>19.93</td>\n",
       "    </tr>\n",
       "    <tr>\n",
       "      <th>2</th>\n",
       "      <td>000229ec398224ef6ca0657da4fc703e</td>\n",
       "      <td>1</td>\n",
       "      <td>c777355d18b72b67abbeef9df44fd0fd</td>\n",
       "      <td>5b51032eddd242adc84c38acab88f23d</td>\n",
       "      <td>2018-01-18 14:48:30</td>\n",
       "      <td>199.00</td>\n",
       "      <td>17.87</td>\n",
       "    </tr>\n",
       "    <tr>\n",
       "      <th>3</th>\n",
       "      <td>00024acbcdf0a6daa1e931b038114c75</td>\n",
       "      <td>1</td>\n",
       "      <td>7634da152a4610f1595efa32f14722fc</td>\n",
       "      <td>9d7a1d34a5052409006425275ba1c2b4</td>\n",
       "      <td>2018-08-15 10:10:18</td>\n",
       "      <td>12.99</td>\n",
       "      <td>12.79</td>\n",
       "    </tr>\n",
       "    <tr>\n",
       "      <th>4</th>\n",
       "      <td>00042b26cf59d7ce69dfabb4e55b4fd9</td>\n",
       "      <td>1</td>\n",
       "      <td>ac6c3623068f30de03045865e4e10089</td>\n",
       "      <td>df560393f3a51e74553ab94004ba5c87</td>\n",
       "      <td>2017-02-13 13:57:51</td>\n",
       "      <td>199.90</td>\n",
       "      <td>18.14</td>\n",
       "    </tr>\n",
       "  </tbody>\n",
       "</table>\n",
       "</div>"
      ],
      "text/plain": [
       "                           order_id  order_item_id  \\\n",
       "0  00010242fe8c5a6d1ba2dd792cb16214              1   \n",
       "1  00018f77f2f0320c557190d7a144bdd3              1   \n",
       "2  000229ec398224ef6ca0657da4fc703e              1   \n",
       "3  00024acbcdf0a6daa1e931b038114c75              1   \n",
       "4  00042b26cf59d7ce69dfabb4e55b4fd9              1   \n",
       "\n",
       "                         product_id                         seller_id  \\\n",
       "0  4244733e06e7ecb4970a6e2683c13e61  48436dade18ac8b2bce089ec2a041202   \n",
       "1  e5f2d52b802189ee658865ca93d83a8f  dd7ddc04e1b6c2c614352b383efe2d36   \n",
       "2  c777355d18b72b67abbeef9df44fd0fd  5b51032eddd242adc84c38acab88f23d   \n",
       "3  7634da152a4610f1595efa32f14722fc  9d7a1d34a5052409006425275ba1c2b4   \n",
       "4  ac6c3623068f30de03045865e4e10089  df560393f3a51e74553ab94004ba5c87   \n",
       "\n",
       "   shipping_limit_date   price  freight_value  \n",
       "0  2017-09-19 09:45:35   58.90          13.29  \n",
       "1  2017-05-03 11:05:13  239.90          19.93  \n",
       "2  2018-01-18 14:48:30  199.00          17.87  \n",
       "3  2018-08-15 10:10:18   12.99          12.79  \n",
       "4  2017-02-13 13:57:51  199.90          18.14  "
      ]
     },
     "execution_count": 19,
     "metadata": {},
     "output_type": "execute_result"
    }
   ],
   "source": [
    "df_items.head()"
   ]
  },
  {
   "cell_type": "code",
   "execution_count": null,
   "metadata": {
    "id": "YxmQBDY-1Gv_",
    "outputId": "4c1301c2-f613-46b2-f071-cb0c279c4c0f"
   },
   "outputs": [
    {
     "data": {
      "text/plain": [
       "(112650, 7)"
      ]
     },
     "execution_count": 20,
     "metadata": {},
     "output_type": "execute_result"
    }
   ],
   "source": [
    "df_items.shape"
   ]
  },
  {
   "cell_type": "code",
   "execution_count": null,
   "metadata": {
    "id": "9MOpH9yv1GwA",
    "outputId": "11106428-ca1d-4fbb-c543-86d33f9bf134"
   },
   "outputs": [
    {
     "data": {
      "text/plain": [
       "order_id                object\n",
       "order_item_id            int64\n",
       "product_id              object\n",
       "seller_id               object\n",
       "shipping_limit_date     object\n",
       "price                  float64\n",
       "freight_value          float64\n",
       "dtype: object"
      ]
     },
     "execution_count": 21,
     "metadata": {},
     "output_type": "execute_result"
    }
   ],
   "source": [
    "df_items.dtypes"
   ]
  },
  {
   "cell_type": "code",
   "execution_count": null,
   "metadata": {
    "id": "ppCBJPy11GwA"
   },
   "outputs": [],
   "source": [
    "# переведем планируемую дату доставки в более подходящий формат\n",
    "df_items.shipping_limit_date = pd.to_datetime(df_items.shipping_limit_date)"
   ]
  },
  {
   "cell_type": "code",
   "execution_count": null,
   "metadata": {
    "id": "fOgCjK8p1GwA",
    "outputId": "6badff50-20f9-4c21-bf75-169ca521c244"
   },
   "outputs": [
    {
     "data": {
      "text/plain": [
       "order_id               0\n",
       "order_item_id          0\n",
       "product_id             0\n",
       "seller_id              0\n",
       "shipping_limit_date    0\n",
       "price                  0\n",
       "freight_value          0\n",
       "dtype: int64"
      ]
     },
     "execution_count": 23,
     "metadata": {},
     "output_type": "execute_result"
    }
   ],
   "source": [
    "df_items.isna().sum()"
   ]
  },
  {
   "cell_type": "markdown",
   "metadata": {
    "id": "3JQMIH-S1GwA"
   },
   "source": [
    "что такое order_item_id? посмотрим на примере order_id == 00143d0f86d6fbd9f9b38ab440ac16f5:"
   ]
  },
  {
   "cell_type": "code",
   "execution_count": null,
   "metadata": {
    "id": "ihul6Bn11GwB",
    "outputId": "84d43640-7e15-45a6-8269-bdcd293ef3b8"
   },
   "outputs": [
    {
     "data": {
      "text/html": [
       "<div>\n",
       "<style scoped>\n",
       "    .dataframe tbody tr th:only-of-type {\n",
       "        vertical-align: middle;\n",
       "    }\n",
       "\n",
       "    .dataframe tbody tr th {\n",
       "        vertical-align: top;\n",
       "    }\n",
       "\n",
       "    .dataframe thead th {\n",
       "        text-align: right;\n",
       "    }\n",
       "</style>\n",
       "<table border=\"1\" class=\"dataframe\">\n",
       "  <thead>\n",
       "    <tr style=\"text-align: right;\">\n",
       "      <th></th>\n",
       "      <th>order_id</th>\n",
       "      <th>customer_id</th>\n",
       "      <th>order_status</th>\n",
       "      <th>order_purchase_timestamp</th>\n",
       "      <th>order_approved_at</th>\n",
       "      <th>order_delivered_carrier_date</th>\n",
       "      <th>order_delivered_customer_date</th>\n",
       "      <th>order_estimated_delivery_date</th>\n",
       "    </tr>\n",
       "  </thead>\n",
       "  <tbody>\n",
       "    <tr>\n",
       "      <th>36265</th>\n",
       "      <td>00143d0f86d6fbd9f9b38ab440ac16f5</td>\n",
       "      <td>2e45292979b9b2700ea09560eeb0f803</td>\n",
       "      <td>delivered</td>\n",
       "      <td>2017-10-16 15:29:43</td>\n",
       "      <td>2017-10-16 16:07:52</td>\n",
       "      <td>2017-10-16 23:04:43</td>\n",
       "      <td>2017-10-27 18:43:56</td>\n",
       "      <td>2017-11-06</td>\n",
       "    </tr>\n",
       "  </tbody>\n",
       "</table>\n",
       "</div>"
      ],
      "text/plain": [
       "                               order_id                       customer_id  \\\n",
       "36265  00143d0f86d6fbd9f9b38ab440ac16f5  2e45292979b9b2700ea09560eeb0f803   \n",
       "\n",
       "      order_status order_purchase_timestamp   order_approved_at  \\\n",
       "36265    delivered      2017-10-16 15:29:43 2017-10-16 16:07:52   \n",
       "\n",
       "      order_delivered_carrier_date order_delivered_customer_date  \\\n",
       "36265          2017-10-16 23:04:43           2017-10-27 18:43:56   \n",
       "\n",
       "      order_estimated_delivery_date  \n",
       "36265                    2017-11-06  "
      ]
     },
     "execution_count": 24,
     "metadata": {},
     "output_type": "execute_result"
    }
   ],
   "source": [
    "# данный заказ хранится в таблице заказов\n",
    "df_orders.query('order_id == \"00143d0f86d6fbd9f9b38ab440ac16f5\"')"
   ]
  },
  {
   "cell_type": "code",
   "execution_count": null,
   "metadata": {
    "id": "VfbpmMhI1GwB",
    "outputId": "8d0fdbe4-b7a7-4798-f79c-6c0994ca8398"
   },
   "outputs": [
    {
     "data": {
      "text/html": [
       "<div>\n",
       "<style scoped>\n",
       "    .dataframe tbody tr th:only-of-type {\n",
       "        vertical-align: middle;\n",
       "    }\n",
       "\n",
       "    .dataframe tbody tr th {\n",
       "        vertical-align: top;\n",
       "    }\n",
       "\n",
       "    .dataframe thead th {\n",
       "        text-align: right;\n",
       "    }\n",
       "</style>\n",
       "<table border=\"1\" class=\"dataframe\">\n",
       "  <thead>\n",
       "    <tr style=\"text-align: right;\">\n",
       "      <th></th>\n",
       "      <th>order_id</th>\n",
       "      <th>order_item_id</th>\n",
       "      <th>product_id</th>\n",
       "      <th>seller_id</th>\n",
       "      <th>shipping_limit_date</th>\n",
       "      <th>price</th>\n",
       "      <th>freight_value</th>\n",
       "    </tr>\n",
       "  </thead>\n",
       "  <tbody>\n",
       "    <tr>\n",
       "      <th>32</th>\n",
       "      <td>00143d0f86d6fbd9f9b38ab440ac16f5</td>\n",
       "      <td>1</td>\n",
       "      <td>e95ee6822b66ac6058e2e4aff656071a</td>\n",
       "      <td>a17f621c590ea0fab3d5d883e1630ec6</td>\n",
       "      <td>2017-10-20 16:07:52</td>\n",
       "      <td>21.33</td>\n",
       "      <td>15.1</td>\n",
       "    </tr>\n",
       "    <tr>\n",
       "      <th>33</th>\n",
       "      <td>00143d0f86d6fbd9f9b38ab440ac16f5</td>\n",
       "      <td>2</td>\n",
       "      <td>e95ee6822b66ac6058e2e4aff656071a</td>\n",
       "      <td>a17f621c590ea0fab3d5d883e1630ec6</td>\n",
       "      <td>2017-10-20 16:07:52</td>\n",
       "      <td>21.33</td>\n",
       "      <td>15.1</td>\n",
       "    </tr>\n",
       "    <tr>\n",
       "      <th>34</th>\n",
       "      <td>00143d0f86d6fbd9f9b38ab440ac16f5</td>\n",
       "      <td>3</td>\n",
       "      <td>e95ee6822b66ac6058e2e4aff656071a</td>\n",
       "      <td>a17f621c590ea0fab3d5d883e1630ec6</td>\n",
       "      <td>2017-10-20 16:07:52</td>\n",
       "      <td>21.33</td>\n",
       "      <td>15.1</td>\n",
       "    </tr>\n",
       "  </tbody>\n",
       "</table>\n",
       "</div>"
      ],
      "text/plain": [
       "                            order_id  order_item_id  \\\n",
       "32  00143d0f86d6fbd9f9b38ab440ac16f5              1   \n",
       "33  00143d0f86d6fbd9f9b38ab440ac16f5              2   \n",
       "34  00143d0f86d6fbd9f9b38ab440ac16f5              3   \n",
       "\n",
       "                          product_id                         seller_id  \\\n",
       "32  e95ee6822b66ac6058e2e4aff656071a  a17f621c590ea0fab3d5d883e1630ec6   \n",
       "33  e95ee6822b66ac6058e2e4aff656071a  a17f621c590ea0fab3d5d883e1630ec6   \n",
       "34  e95ee6822b66ac6058e2e4aff656071a  a17f621c590ea0fab3d5d883e1630ec6   \n",
       "\n",
       "   shipping_limit_date  price  freight_value  \n",
       "32 2017-10-20 16:07:52  21.33           15.1  \n",
       "33 2017-10-20 16:07:52  21.33           15.1  \n",
       "34 2017-10-20 16:07:52  21.33           15.1  "
      ]
     },
     "execution_count": 25,
     "metadata": {},
     "output_type": "execute_result"
    }
   ],
   "source": [
    "# и в таблице товаров, входящих в заказы. При чем мы видим, что в данный заказ входит 3 единицы одного и того же товара\n",
    "# таким образом, в order_item_id хранится порядковый номер заказанного товара (а количество строк в данном заказе = количество товаров)\n",
    "df_items.query('order_id == \"00143d0f86d6fbd9f9b38ab440ac16f5\"')"
   ]
  },
  {
   "cell_type": "markdown",
   "metadata": {
    "id": "VnE9O4GA1GwB"
   },
   "source": [
    "Заметим, что в таблице товаров, входящих в заказы, есть информация не обо всех заказах (по 775 заказам данных нет):"
   ]
  },
  {
   "cell_type": "code",
   "execution_count": null,
   "metadata": {
    "id": "vPl-mjU11GwB",
    "outputId": "ecb6ac93-13b0-4b3e-c5cd-11ff86b3993f"
   },
   "outputs": [
    {
     "data": {
      "text/plain": [
       "99441"
      ]
     },
     "execution_count": 26,
     "metadata": {},
     "output_type": "execute_result"
    }
   ],
   "source": [
    "df_orders.order_id.nunique()"
   ]
  },
  {
   "cell_type": "code",
   "execution_count": null,
   "metadata": {
    "id": "PuaGM4PC1GwC",
    "outputId": "90782890-eb8d-4d89-d3db-c5062f339971"
   },
   "outputs": [
    {
     "data": {
      "text/plain": [
       "98666"
      ]
     },
     "execution_count": 27,
     "metadata": {},
     "output_type": "execute_result"
    }
   ],
   "source": [
    "df_items.order_id.nunique()"
   ]
  },
  {
   "cell_type": "markdown",
   "metadata": {
    "id": "ivkZieEi1GwC"
   },
   "source": [
    "### Для определения пользователей, совершивших покупку только один раз, смержим дату клиентов с датой заказов:"
   ]
  },
  {
   "cell_type": "code",
   "execution_count": null,
   "metadata": {
    "id": "gfSBxl6X1GwC"
   },
   "outputs": [],
   "source": [
    "df_customers_orders = df_orders.merge(df_customers)"
   ]
  },
  {
   "cell_type": "code",
   "execution_count": null,
   "metadata": {
    "id": "X_4hhDvy1GwC",
    "outputId": "01d6c77d-1978-45f3-f686-cfcd14927470"
   },
   "outputs": [
    {
     "data": {
      "text/html": [
       "<div>\n",
       "<style scoped>\n",
       "    .dataframe tbody tr th:only-of-type {\n",
       "        vertical-align: middle;\n",
       "    }\n",
       "\n",
       "    .dataframe tbody tr th {\n",
       "        vertical-align: top;\n",
       "    }\n",
       "\n",
       "    .dataframe thead th {\n",
       "        text-align: right;\n",
       "    }\n",
       "</style>\n",
       "<table border=\"1\" class=\"dataframe\">\n",
       "  <thead>\n",
       "    <tr style=\"text-align: right;\">\n",
       "      <th></th>\n",
       "      <th>order_id</th>\n",
       "      <th>customer_id</th>\n",
       "      <th>order_status</th>\n",
       "      <th>order_purchase_timestamp</th>\n",
       "      <th>order_approved_at</th>\n",
       "      <th>order_delivered_carrier_date</th>\n",
       "      <th>order_delivered_customer_date</th>\n",
       "      <th>order_estimated_delivery_date</th>\n",
       "      <th>customer_unique_id</th>\n",
       "      <th>customer_zip_code_prefix</th>\n",
       "      <th>customer_city</th>\n",
       "      <th>customer_state</th>\n",
       "    </tr>\n",
       "  </thead>\n",
       "  <tbody>\n",
       "    <tr>\n",
       "      <th>0</th>\n",
       "      <td>e481f51cbdc54678b7cc49136f2d6af7</td>\n",
       "      <td>9ef432eb6251297304e76186b10a928d</td>\n",
       "      <td>delivered</td>\n",
       "      <td>2017-10-02 10:56:33</td>\n",
       "      <td>2017-10-02 11:07:15</td>\n",
       "      <td>2017-10-04 19:55:00</td>\n",
       "      <td>2017-10-10 21:25:13</td>\n",
       "      <td>2017-10-18</td>\n",
       "      <td>7c396fd4830fd04220f754e42b4e5bff</td>\n",
       "      <td>3149</td>\n",
       "      <td>sao paulo</td>\n",
       "      <td>SP</td>\n",
       "    </tr>\n",
       "    <tr>\n",
       "      <th>1</th>\n",
       "      <td>53cdb2fc8bc7dce0b6741e2150273451</td>\n",
       "      <td>b0830fb4747a6c6d20dea0b8c802d7ef</td>\n",
       "      <td>delivered</td>\n",
       "      <td>2018-07-24 20:41:37</td>\n",
       "      <td>2018-07-26 03:24:27</td>\n",
       "      <td>2018-07-26 14:31:00</td>\n",
       "      <td>2018-08-07 15:27:45</td>\n",
       "      <td>2018-08-13</td>\n",
       "      <td>af07308b275d755c9edb36a90c618231</td>\n",
       "      <td>47813</td>\n",
       "      <td>barreiras</td>\n",
       "      <td>BA</td>\n",
       "    </tr>\n",
       "    <tr>\n",
       "      <th>2</th>\n",
       "      <td>47770eb9100c2d0c44946d9cf07ec65d</td>\n",
       "      <td>41ce2a54c0b03bf3443c3d931a367089</td>\n",
       "      <td>delivered</td>\n",
       "      <td>2018-08-08 08:38:49</td>\n",
       "      <td>2018-08-08 08:55:23</td>\n",
       "      <td>2018-08-08 13:50:00</td>\n",
       "      <td>2018-08-17 18:06:29</td>\n",
       "      <td>2018-09-04</td>\n",
       "      <td>3a653a41f6f9fc3d2a113cf8398680e8</td>\n",
       "      <td>75265</td>\n",
       "      <td>vianopolis</td>\n",
       "      <td>GO</td>\n",
       "    </tr>\n",
       "    <tr>\n",
       "      <th>3</th>\n",
       "      <td>949d5b44dbf5de918fe9c16f97b45f8a</td>\n",
       "      <td>f88197465ea7920adcdbec7375364d82</td>\n",
       "      <td>delivered</td>\n",
       "      <td>2017-11-18 19:28:06</td>\n",
       "      <td>2017-11-18 19:45:59</td>\n",
       "      <td>2017-11-22 13:39:59</td>\n",
       "      <td>2017-12-02 00:28:42</td>\n",
       "      <td>2017-12-15</td>\n",
       "      <td>7c142cf63193a1473d2e66489a9ae977</td>\n",
       "      <td>59296</td>\n",
       "      <td>sao goncalo do amarante</td>\n",
       "      <td>RN</td>\n",
       "    </tr>\n",
       "    <tr>\n",
       "      <th>4</th>\n",
       "      <td>ad21c59c0840e6cb83a9ceb5573f8159</td>\n",
       "      <td>8ab97904e6daea8866dbdbc4fb7aad2c</td>\n",
       "      <td>delivered</td>\n",
       "      <td>2018-02-13 21:18:39</td>\n",
       "      <td>2018-02-13 22:20:29</td>\n",
       "      <td>2018-02-14 19:46:34</td>\n",
       "      <td>2018-02-16 18:17:02</td>\n",
       "      <td>2018-02-26</td>\n",
       "      <td>72632f0f9dd73dfee390c9b22eb56dd6</td>\n",
       "      <td>9195</td>\n",
       "      <td>santo andre</td>\n",
       "      <td>SP</td>\n",
       "    </tr>\n",
       "  </tbody>\n",
       "</table>\n",
       "</div>"
      ],
      "text/plain": [
       "                           order_id                       customer_id  \\\n",
       "0  e481f51cbdc54678b7cc49136f2d6af7  9ef432eb6251297304e76186b10a928d   \n",
       "1  53cdb2fc8bc7dce0b6741e2150273451  b0830fb4747a6c6d20dea0b8c802d7ef   \n",
       "2  47770eb9100c2d0c44946d9cf07ec65d  41ce2a54c0b03bf3443c3d931a367089   \n",
       "3  949d5b44dbf5de918fe9c16f97b45f8a  f88197465ea7920adcdbec7375364d82   \n",
       "4  ad21c59c0840e6cb83a9ceb5573f8159  8ab97904e6daea8866dbdbc4fb7aad2c   \n",
       "\n",
       "  order_status order_purchase_timestamp   order_approved_at  \\\n",
       "0    delivered      2017-10-02 10:56:33 2017-10-02 11:07:15   \n",
       "1    delivered      2018-07-24 20:41:37 2018-07-26 03:24:27   \n",
       "2    delivered      2018-08-08 08:38:49 2018-08-08 08:55:23   \n",
       "3    delivered      2017-11-18 19:28:06 2017-11-18 19:45:59   \n",
       "4    delivered      2018-02-13 21:18:39 2018-02-13 22:20:29   \n",
       "\n",
       "  order_delivered_carrier_date order_delivered_customer_date  \\\n",
       "0          2017-10-04 19:55:00           2017-10-10 21:25:13   \n",
       "1          2018-07-26 14:31:00           2018-08-07 15:27:45   \n",
       "2          2018-08-08 13:50:00           2018-08-17 18:06:29   \n",
       "3          2017-11-22 13:39:59           2017-12-02 00:28:42   \n",
       "4          2018-02-14 19:46:34           2018-02-16 18:17:02   \n",
       "\n",
       "  order_estimated_delivery_date                customer_unique_id  \\\n",
       "0                    2017-10-18  7c396fd4830fd04220f754e42b4e5bff   \n",
       "1                    2018-08-13  af07308b275d755c9edb36a90c618231   \n",
       "2                    2018-09-04  3a653a41f6f9fc3d2a113cf8398680e8   \n",
       "3                    2017-12-15  7c142cf63193a1473d2e66489a9ae977   \n",
       "4                    2018-02-26  72632f0f9dd73dfee390c9b22eb56dd6   \n",
       "\n",
       "   customer_zip_code_prefix            customer_city customer_state  \n",
       "0                      3149                sao paulo             SP  \n",
       "1                     47813                barreiras             BA  \n",
       "2                     75265               vianopolis             GO  \n",
       "3                     59296  sao goncalo do amarante             RN  \n",
       "4                      9195              santo andre             SP  "
      ]
     },
     "execution_count": 29,
     "metadata": {},
     "output_type": "execute_result"
    }
   ],
   "source": [
    "df_customers_orders.head()"
   ]
  },
  {
   "cell_type": "code",
   "execution_count": null,
   "metadata": {
    "id": "JO4-754O1GwD",
    "outputId": "14f55dca-7003-4023-9d44-eee98269a31f"
   },
   "outputs": [
    {
     "data": {
      "text/plain": [
       "(99441, 12)"
      ]
     },
     "execution_count": 30,
     "metadata": {},
     "output_type": "execute_result"
    }
   ],
   "source": [
    "df_customers_orders.shape"
   ]
  },
  {
   "cell_type": "code",
   "execution_count": null,
   "metadata": {
    "id": "iF-jIgmc1GwD",
    "outputId": "b01c037a-4d9e-4345-8613-f479836c08f9"
   },
   "outputs": [
    {
     "data": {
      "text/html": [
       "<div>\n",
       "<style scoped>\n",
       "    .dataframe tbody tr th:only-of-type {\n",
       "        vertical-align: middle;\n",
       "    }\n",
       "\n",
       "    .dataframe tbody tr th {\n",
       "        vertical-align: top;\n",
       "    }\n",
       "\n",
       "    .dataframe thead th {\n",
       "        text-align: right;\n",
       "    }\n",
       "</style>\n",
       "<table border=\"1\" class=\"dataframe\">\n",
       "  <thead>\n",
       "    <tr style=\"text-align: right;\">\n",
       "      <th></th>\n",
       "      <th>customer_unique_id</th>\n",
       "      <th>count_orders</th>\n",
       "    </tr>\n",
       "  </thead>\n",
       "  <tbody>\n",
       "    <tr>\n",
       "      <th>0</th>\n",
       "      <td>0000366f3b9a7992bf8c76cfdf3221e2</td>\n",
       "      <td>1</td>\n",
       "    </tr>\n",
       "    <tr>\n",
       "      <th>1</th>\n",
       "      <td>0000b849f77a49e4a4ce2b2a4ca5be3f</td>\n",
       "      <td>1</td>\n",
       "    </tr>\n",
       "    <tr>\n",
       "      <th>2</th>\n",
       "      <td>0000f46a3911fa3c0805444483337064</td>\n",
       "      <td>1</td>\n",
       "    </tr>\n",
       "    <tr>\n",
       "      <th>3</th>\n",
       "      <td>0000f6ccb0745a6a4b88665a16c9f078</td>\n",
       "      <td>1</td>\n",
       "    </tr>\n",
       "    <tr>\n",
       "      <th>4</th>\n",
       "      <td>0004aac84e0df4da2b147fca70cf8255</td>\n",
       "      <td>1</td>\n",
       "    </tr>\n",
       "    <tr>\n",
       "      <th>...</th>\n",
       "      <td>...</td>\n",
       "      <td>...</td>\n",
       "    </tr>\n",
       "    <tr>\n",
       "      <th>93345</th>\n",
       "      <td>fffcf5a5ff07b0908bd4e2dbc735a684</td>\n",
       "      <td>1</td>\n",
       "    </tr>\n",
       "    <tr>\n",
       "      <th>93346</th>\n",
       "      <td>fffea47cd6d3cc0a88bd621562a9d061</td>\n",
       "      <td>1</td>\n",
       "    </tr>\n",
       "    <tr>\n",
       "      <th>93347</th>\n",
       "      <td>ffff371b4d645b6ecea244b27531430a</td>\n",
       "      <td>1</td>\n",
       "    </tr>\n",
       "    <tr>\n",
       "      <th>93348</th>\n",
       "      <td>ffff5962728ec6157033ef9805bacc48</td>\n",
       "      <td>1</td>\n",
       "    </tr>\n",
       "    <tr>\n",
       "      <th>93349</th>\n",
       "      <td>ffffd2657e2aad2907e67c3e9daecbeb</td>\n",
       "      <td>1</td>\n",
       "    </tr>\n",
       "  </tbody>\n",
       "</table>\n",
       "<p>90549 rows × 2 columns</p>\n",
       "</div>"
      ],
      "text/plain": [
       "                     customer_unique_id  count_orders\n",
       "0      0000366f3b9a7992bf8c76cfdf3221e2             1\n",
       "1      0000b849f77a49e4a4ce2b2a4ca5be3f             1\n",
       "2      0000f46a3911fa3c0805444483337064             1\n",
       "3      0000f6ccb0745a6a4b88665a16c9f078             1\n",
       "4      0004aac84e0df4da2b147fca70cf8255             1\n",
       "...                                 ...           ...\n",
       "93345  fffcf5a5ff07b0908bd4e2dbc735a684             1\n",
       "93346  fffea47cd6d3cc0a88bd621562a9d061             1\n",
       "93347  ffff371b4d645b6ecea244b27531430a             1\n",
       "93348  ffff5962728ec6157033ef9805bacc48             1\n",
       "93349  ffffd2657e2aad2907e67c3e9daecbeb             1\n",
       "\n",
       "[90549 rows x 2 columns]"
      ]
     },
     "execution_count": 31,
     "metadata": {},
     "output_type": "execute_result"
    }
   ],
   "source": [
    "df_customers_orders.query('(order_status == \"delivered\") & (order_delivered_customer_date == order_delivered_customer_date)') \\\n",
    ".groupby('customer_unique_id', as_index = False) \\\n",
    ".agg({'customer_id' : 'count'}) \\\n",
    ".rename(columns = {'customer_id' : 'count_orders'}) \\\n",
    ".query('count_orders < 2')"
   ]
  },
  {
   "cell_type": "code",
   "execution_count": null,
   "metadata": {
    "id": "Zpt9MCj71GwE"
   },
   "outputs": [],
   "source": [
    "df_customers_orders['year'] = df_customers_orders.order_purchase_timestamp.dt.year"
   ]
  },
  {
   "cell_type": "code",
   "execution_count": null,
   "metadata": {
    "id": "6GjNYMrD1GwE",
    "outputId": "87175085-6271-45bd-ab75-742a05ee5a10"
   },
   "outputs": [
    {
     "data": {
      "text/plain": [
       "array([[<matplotlib.axes._subplots.AxesSubplot object at 0x7f1f06f4b978>]],\n",
       "      dtype=object)"
      ]
     },
     "execution_count": 33,
     "metadata": {},
     "output_type": "execute_result"
    },
    {
     "data": {
      "image/png": "[encoded data removed]",
      "text/plain": [
       "<Figure size 432x288 with 1 Axes>"
      ]
     },
     "metadata": {
      "needs_background": "light"
     },
     "output_type": "display_data"
    }
   ],
   "source": [
    "df_customers_orders.query('(order_status == \"delivered\") & (order_delivered_customer_date == order_delivered_customer_date)') \\\n",
    ".groupby('customer_unique_id', as_index = False) \\\n",
    ".agg({'customer_id' : 'count'}) \\\n",
    ".rename(columns = {'customer_id' : 'count_orders'}) \\\n",
    ".hist()"
   ]
  },
  {
   "cell_type": "code",
   "execution_count": null,
   "metadata": {
    "id": "eS2tCikA1GwE",
    "outputId": "37529d8a-1ce0-4fc9-8977-8d2f90852fe3"
   },
   "outputs": [
    {
     "data": {
      "text/html": [
       "<div>\n",
       "<style scoped>\n",
       "    .dataframe tbody tr th:only-of-type {\n",
       "        vertical-align: middle;\n",
       "    }\n",
       "\n",
       "    .dataframe tbody tr th {\n",
       "        vertical-align: top;\n",
       "    }\n",
       "\n",
       "    .dataframe thead th {\n",
       "        text-align: right;\n",
       "    }\n",
       "</style>\n",
       "<table border=\"1\" class=\"dataframe\">\n",
       "  <thead>\n",
       "    <tr style=\"text-align: right;\">\n",
       "      <th></th>\n",
       "      <th>customer_unique_id</th>\n",
       "      <th>count_orders</th>\n",
       "    </tr>\n",
       "  </thead>\n",
       "  <tbody>\n",
       "    <tr>\n",
       "      <th>0</th>\n",
       "      <td>0000366f3b9a7992bf8c76cfdf3221e2</td>\n",
       "      <td>1</td>\n",
       "    </tr>\n",
       "    <tr>\n",
       "      <th>1</th>\n",
       "      <td>0000b849f77a49e4a4ce2b2a4ca5be3f</td>\n",
       "      <td>1</td>\n",
       "    </tr>\n",
       "    <tr>\n",
       "      <th>2</th>\n",
       "      <td>0000f46a3911fa3c0805444483337064</td>\n",
       "      <td>1</td>\n",
       "    </tr>\n",
       "    <tr>\n",
       "      <th>3</th>\n",
       "      <td>0000f6ccb0745a6a4b88665a16c9f078</td>\n",
       "      <td>1</td>\n",
       "    </tr>\n",
       "    <tr>\n",
       "      <th>4</th>\n",
       "      <td>0004aac84e0df4da2b147fca70cf8255</td>\n",
       "      <td>1</td>\n",
       "    </tr>\n",
       "    <tr>\n",
       "      <th>...</th>\n",
       "      <td>...</td>\n",
       "      <td>...</td>\n",
       "    </tr>\n",
       "    <tr>\n",
       "      <th>93345</th>\n",
       "      <td>fffcf5a5ff07b0908bd4e2dbc735a684</td>\n",
       "      <td>1</td>\n",
       "    </tr>\n",
       "    <tr>\n",
       "      <th>93346</th>\n",
       "      <td>fffea47cd6d3cc0a88bd621562a9d061</td>\n",
       "      <td>1</td>\n",
       "    </tr>\n",
       "    <tr>\n",
       "      <th>93347</th>\n",
       "      <td>ffff371b4d645b6ecea244b27531430a</td>\n",
       "      <td>1</td>\n",
       "    </tr>\n",
       "    <tr>\n",
       "      <th>93348</th>\n",
       "      <td>ffff5962728ec6157033ef9805bacc48</td>\n",
       "      <td>1</td>\n",
       "    </tr>\n",
       "    <tr>\n",
       "      <th>93349</th>\n",
       "      <td>ffffd2657e2aad2907e67c3e9daecbeb</td>\n",
       "      <td>1</td>\n",
       "    </tr>\n",
       "  </tbody>\n",
       "</table>\n",
       "<p>90549 rows × 2 columns</p>\n",
       "</div>"
      ],
      "text/plain": [
       "                     customer_unique_id  count_orders\n",
       "0      0000366f3b9a7992bf8c76cfdf3221e2             1\n",
       "1      0000b849f77a49e4a4ce2b2a4ca5be3f             1\n",
       "2      0000f46a3911fa3c0805444483337064             1\n",
       "3      0000f6ccb0745a6a4b88665a16c9f078             1\n",
       "4      0004aac84e0df4da2b147fca70cf8255             1\n",
       "...                                 ...           ...\n",
       "93345  fffcf5a5ff07b0908bd4e2dbc735a684             1\n",
       "93346  fffea47cd6d3cc0a88bd621562a9d061             1\n",
       "93347  ffff371b4d645b6ecea244b27531430a             1\n",
       "93348  ffff5962728ec6157033ef9805bacc48             1\n",
       "93349  ffffd2657e2aad2907e67c3e9daecbeb             1\n",
       "\n",
       "[90549 rows x 2 columns]"
      ]
     },
     "execution_count": 34,
     "metadata": {},
     "output_type": "execute_result"
    }
   ],
   "source": [
    "df_customers_orders.query('(order_status == \"delivered\") & (order_delivered_customer_date == order_delivered_customer_date)') \\\n",
    ".groupby('customer_unique_id', as_index = False) \\\n",
    ".agg({'customer_id' : 'count'}) \\\n",
    ".rename(columns = {'customer_id' : 'count_orders'}) \\\n",
    ".query('count_orders < 2')"
   ]
  },
  {
   "cell_type": "markdown",
   "metadata": {
    "id": "uyWJstYs1GwF"
   },
   "source": [
    "Итак, больше 90 % наших юзеров (90 549) совершает покупку единожды"
   ]
  },
  {
   "cell_type": "markdown",
   "metadata": {
    "id": "eJYHQ67e1GwF"
   },
   "source": [
    "### Сколько заказов в месяц в среднем не доставляется по разным причинам (вывести детализацию по причинам):"
   ]
  },
  {
   "cell_type": "markdown",
   "metadata": {
    "id": "IEBeuJQJ1GwF"
   },
   "source": [
    "какие заказы мы можем считать недоставленными? Те, у кого нет статуса delivered, на дату доставки не смотрим, так как выше мы установили, что дата доставки имеется у двух видов заказов - доставленных и отмененных, а вторые нам потребуются"
   ]
  },
  {
   "cell_type": "code",
   "execution_count": null,
   "metadata": {
    "id": "dNF2-e2I1GwF"
   },
   "outputs": [],
   "source": [
    "df_not_delivered = df_orders.query('order_status != \"delivered\"') \\\n",
    ".groupby('order_status', as_index = False) \\\n",
    ".agg({'order_id' : 'count'}) \\\n",
    ".rename(columns={'order_id': 'total_not_delivered'})"
   ]
  },
  {
   "cell_type": "code",
   "execution_count": null,
   "metadata": {
    "id": "dIxo8lE51GwG"
   },
   "outputs": [],
   "source": [
    "# а сколько всего месяцев в рассматриваемой выборке?\n",
    "total_month= (df_orders.order_purchase_timestamp.max() - df_orders.order_purchase_timestamp.min())/np.timedelta64(1, 'M')"
   ]
  },
  {
   "cell_type": "code",
   "execution_count": null,
   "metadata": {
    "id": "p2W20Itp1GwG"
   },
   "outputs": [],
   "source": [
    "df_not_delivered['avg_not_delivered_per_month'] = df_not_delivered.total_not_delivered / total_month"
   ]
  },
  {
   "cell_type": "code",
   "execution_count": null,
   "metadata": {
    "id": "kcChmB5O1GwG",
    "outputId": "ebf3b198-a530-457c-ee76-1b174d438497"
   },
   "outputs": [
    {
     "data": {
      "text/html": [
       "<div>\n",
       "<style scoped>\n",
       "    .dataframe tbody tr th:only-of-type {\n",
       "        vertical-align: middle;\n",
       "    }\n",
       "\n",
       "    .dataframe tbody tr th {\n",
       "        vertical-align: top;\n",
       "    }\n",
       "\n",
       "    .dataframe thead th {\n",
       "        text-align: right;\n",
       "    }\n",
       "</style>\n",
       "<table border=\"1\" class=\"dataframe\">\n",
       "  <thead>\n",
       "    <tr style=\"text-align: right;\">\n",
       "      <th></th>\n",
       "      <th>order_status</th>\n",
       "      <th>total_not_delivered</th>\n",
       "      <th>avg_not_delivered_per_month</th>\n",
       "    </tr>\n",
       "  </thead>\n",
       "  <tbody>\n",
       "    <tr>\n",
       "      <th>5</th>\n",
       "      <td>shipped</td>\n",
       "      <td>1107</td>\n",
       "      <td>43.596938</td>\n",
       "    </tr>\n",
       "    <tr>\n",
       "      <th>1</th>\n",
       "      <td>canceled</td>\n",
       "      <td>625</td>\n",
       "      <td>24.614351</td>\n",
       "    </tr>\n",
       "    <tr>\n",
       "      <th>6</th>\n",
       "      <td>unavailable</td>\n",
       "      <td>609</td>\n",
       "      <td>23.984223</td>\n",
       "    </tr>\n",
       "    <tr>\n",
       "      <th>3</th>\n",
       "      <td>invoiced</td>\n",
       "      <td>314</td>\n",
       "      <td>12.366250</td>\n",
       "    </tr>\n",
       "    <tr>\n",
       "      <th>4</th>\n",
       "      <td>processing</td>\n",
       "      <td>301</td>\n",
       "      <td>11.854271</td>\n",
       "    </tr>\n",
       "    <tr>\n",
       "      <th>2</th>\n",
       "      <td>created</td>\n",
       "      <td>5</td>\n",
       "      <td>0.196915</td>\n",
       "    </tr>\n",
       "    <tr>\n",
       "      <th>0</th>\n",
       "      <td>approved</td>\n",
       "      <td>2</td>\n",
       "      <td>0.078766</td>\n",
       "    </tr>\n",
       "  </tbody>\n",
       "</table>\n",
       "</div>"
      ],
      "text/plain": [
       "  order_status  total_not_delivered  avg_not_delivered_per_month\n",
       "5      shipped                 1107                    43.596938\n",
       "1     canceled                  625                    24.614351\n",
       "6  unavailable                  609                    23.984223\n",
       "3     invoiced                  314                    12.366250\n",
       "4   processing                  301                    11.854271\n",
       "2      created                    5                     0.196915\n",
       "0     approved                    2                     0.078766"
      ]
     },
     "execution_count": 38,
     "metadata": {},
     "output_type": "execute_result"
    }
   ],
   "source": [
    "df_not_delivered.sort_values('avg_not_delivered_per_month', ascending = False)"
   ]
  },
  {
   "cell_type": "markdown",
   "metadata": {
    "id": "-eXmKZuq1GwG"
   },
   "source": [
    "Видно, что наибольшая доля недоставленных заказов застревает на этапе отгрузки со склада. Так же в топ - 3 есть отмененные заказы, и по каким-то причинам недоступные. Показательно, что доля неподтвержденных и неоплаченных заказов минимальна."
   ]
  },
  {
   "cell_type": "markdown",
   "metadata": {
    "id": "0ABG3Ebb1GwG"
   },
   "source": [
    "### Для опредения топового дня недели по каждому товару смерджим дату заказов с датой товаров в этих заказах (при этом учитываем, что по 775 заказам нет данных об их составе в таблице df_items):"
   ]
  },
  {
   "cell_type": "code",
   "execution_count": null,
   "metadata": {
    "id": "6_qB5-1f1GwH"
   },
   "outputs": [],
   "source": [
    "df_items_orders = df_items.merge(df_orders)"
   ]
  },
  {
   "cell_type": "code",
   "execution_count": null,
   "metadata": {
    "id": "5_PHwh9k1GwH",
    "outputId": "ddd49a62-a10c-4bb9-aa77-873d90b1747b"
   },
   "outputs": [
    {
     "data": {
      "text/html": [
       "<div>\n",
       "<style scoped>\n",
       "    .dataframe tbody tr th:only-of-type {\n",
       "        vertical-align: middle;\n",
       "    }\n",
       "\n",
       "    .dataframe tbody tr th {\n",
       "        vertical-align: top;\n",
       "    }\n",
       "\n",
       "    .dataframe thead th {\n",
       "        text-align: right;\n",
       "    }\n",
       "</style>\n",
       "<table border=\"1\" class=\"dataframe\">\n",
       "  <thead>\n",
       "    <tr style=\"text-align: right;\">\n",
       "      <th></th>\n",
       "      <th>order_id</th>\n",
       "      <th>order_item_id</th>\n",
       "      <th>product_id</th>\n",
       "      <th>seller_id</th>\n",
       "      <th>shipping_limit_date</th>\n",
       "      <th>price</th>\n",
       "      <th>freight_value</th>\n",
       "      <th>customer_id</th>\n",
       "      <th>order_status</th>\n",
       "      <th>order_purchase_timestamp</th>\n",
       "      <th>order_approved_at</th>\n",
       "      <th>order_delivered_carrier_date</th>\n",
       "      <th>order_delivered_customer_date</th>\n",
       "      <th>order_estimated_delivery_date</th>\n",
       "    </tr>\n",
       "  </thead>\n",
       "  <tbody>\n",
       "    <tr>\n",
       "      <th>0</th>\n",
       "      <td>00010242fe8c5a6d1ba2dd792cb16214</td>\n",
       "      <td>1</td>\n",
       "      <td>4244733e06e7ecb4970a6e2683c13e61</td>\n",
       "      <td>48436dade18ac8b2bce089ec2a041202</td>\n",
       "      <td>2017-09-19 09:45:35</td>\n",
       "      <td>58.90</td>\n",
       "      <td>13.29</td>\n",
       "      <td>3ce436f183e68e07877b285a838db11a</td>\n",
       "      <td>delivered</td>\n",
       "      <td>2017-09-13 08:59:02</td>\n",
       "      <td>2017-09-13 09:45:35</td>\n",
       "      <td>2017-09-19 18:34:16</td>\n",
       "      <td>2017-09-20 23:43:48</td>\n",
       "      <td>2017-09-29</td>\n",
       "    </tr>\n",
       "    <tr>\n",
       "      <th>1</th>\n",
       "      <td>00018f77f2f0320c557190d7a144bdd3</td>\n",
       "      <td>1</td>\n",
       "      <td>e5f2d52b802189ee658865ca93d83a8f</td>\n",
       "      <td>dd7ddc04e1b6c2c614352b383efe2d36</td>\n",
       "      <td>2017-05-03 11:05:13</td>\n",
       "      <td>239.90</td>\n",
       "      <td>19.93</td>\n",
       "      <td>f6dd3ec061db4e3987629fe6b26e5cce</td>\n",
       "      <td>delivered</td>\n",
       "      <td>2017-04-26 10:53:06</td>\n",
       "      <td>2017-04-26 11:05:13</td>\n",
       "      <td>2017-05-04 14:35:00</td>\n",
       "      <td>2017-05-12 16:04:24</td>\n",
       "      <td>2017-05-15</td>\n",
       "    </tr>\n",
       "    <tr>\n",
       "      <th>2</th>\n",
       "      <td>000229ec398224ef6ca0657da4fc703e</td>\n",
       "      <td>1</td>\n",
       "      <td>c777355d18b72b67abbeef9df44fd0fd</td>\n",
       "      <td>5b51032eddd242adc84c38acab88f23d</td>\n",
       "      <td>2018-01-18 14:48:30</td>\n",
       "      <td>199.00</td>\n",
       "      <td>17.87</td>\n",
       "      <td>6489ae5e4333f3693df5ad4372dab6d3</td>\n",
       "      <td>delivered</td>\n",
       "      <td>2018-01-14 14:33:31</td>\n",
       "      <td>2018-01-14 14:48:30</td>\n",
       "      <td>2018-01-16 12:36:48</td>\n",
       "      <td>2018-01-22 13:19:16</td>\n",
       "      <td>2018-02-05</td>\n",
       "    </tr>\n",
       "    <tr>\n",
       "      <th>3</th>\n",
       "      <td>00024acbcdf0a6daa1e931b038114c75</td>\n",
       "      <td>1</td>\n",
       "      <td>7634da152a4610f1595efa32f14722fc</td>\n",
       "      <td>9d7a1d34a5052409006425275ba1c2b4</td>\n",
       "      <td>2018-08-15 10:10:18</td>\n",
       "      <td>12.99</td>\n",
       "      <td>12.79</td>\n",
       "      <td>d4eb9395c8c0431ee92fce09860c5a06</td>\n",
       "      <td>delivered</td>\n",
       "      <td>2018-08-08 10:00:35</td>\n",
       "      <td>2018-08-08 10:10:18</td>\n",
       "      <td>2018-08-10 13:28:00</td>\n",
       "      <td>2018-08-14 13:32:39</td>\n",
       "      <td>2018-08-20</td>\n",
       "    </tr>\n",
       "    <tr>\n",
       "      <th>4</th>\n",
       "      <td>00042b26cf59d7ce69dfabb4e55b4fd9</td>\n",
       "      <td>1</td>\n",
       "      <td>ac6c3623068f30de03045865e4e10089</td>\n",
       "      <td>df560393f3a51e74553ab94004ba5c87</td>\n",
       "      <td>2017-02-13 13:57:51</td>\n",
       "      <td>199.90</td>\n",
       "      <td>18.14</td>\n",
       "      <td>58dbd0b2d70206bf40e62cd34e84d795</td>\n",
       "      <td>delivered</td>\n",
       "      <td>2017-02-04 13:57:51</td>\n",
       "      <td>2017-02-04 14:10:13</td>\n",
       "      <td>2017-02-16 09:46:09</td>\n",
       "      <td>2017-03-01 16:42:31</td>\n",
       "      <td>2017-03-17</td>\n",
       "    </tr>\n",
       "  </tbody>\n",
       "</table>\n",
       "</div>"
      ],
      "text/plain": [
       "                           order_id  order_item_id  \\\n",
       "0  00010242fe8c5a6d1ba2dd792cb16214              1   \n",
       "1  00018f77f2f0320c557190d7a144bdd3              1   \n",
       "2  000229ec398224ef6ca0657da4fc703e              1   \n",
       "3  00024acbcdf0a6daa1e931b038114c75              1   \n",
       "4  00042b26cf59d7ce69dfabb4e55b4fd9              1   \n",
       "\n",
       "                         product_id                         seller_id  \\\n",
       "0  4244733e06e7ecb4970a6e2683c13e61  48436dade18ac8b2bce089ec2a041202   \n",
       "1  e5f2d52b802189ee658865ca93d83a8f  dd7ddc04e1b6c2c614352b383efe2d36   \n",
       "2  c777355d18b72b67abbeef9df44fd0fd  5b51032eddd242adc84c38acab88f23d   \n",
       "3  7634da152a4610f1595efa32f14722fc  9d7a1d34a5052409006425275ba1c2b4   \n",
       "4  ac6c3623068f30de03045865e4e10089  df560393f3a51e74553ab94004ba5c87   \n",
       "\n",
       "  shipping_limit_date   price  freight_value  \\\n",
       "0 2017-09-19 09:45:35   58.90          13.29   \n",
       "1 2017-05-03 11:05:13  239.90          19.93   \n",
       "2 2018-01-18 14:48:30  199.00          17.87   \n",
       "3 2018-08-15 10:10:18   12.99          12.79   \n",
       "4 2017-02-13 13:57:51  199.90          18.14   \n",
       "\n",
       "                        customer_id order_status order_purchase_timestamp  \\\n",
       "0  3ce436f183e68e07877b285a838db11a    delivered      2017-09-13 08:59:02   \n",
       "1  f6dd3ec061db4e3987629fe6b26e5cce    delivered      2017-04-26 10:53:06   \n",
       "2  6489ae5e4333f3693df5ad4372dab6d3    delivered      2018-01-14 14:33:31   \n",
       "3  d4eb9395c8c0431ee92fce09860c5a06    delivered      2018-08-08 10:00:35   \n",
       "4  58dbd0b2d70206bf40e62cd34e84d795    delivered      2017-02-04 13:57:51   \n",
       "\n",
       "    order_approved_at order_delivered_carrier_date  \\\n",
       "0 2017-09-13 09:45:35          2017-09-19 18:34:16   \n",
       "1 2017-04-26 11:05:13          2017-05-04 14:35:00   \n",
       "2 2018-01-14 14:48:30          2018-01-16 12:36:48   \n",
       "3 2018-08-08 10:10:18          2018-08-10 13:28:00   \n",
       "4 2017-02-04 14:10:13          2017-02-16 09:46:09   \n",
       "\n",
       "  order_delivered_customer_date order_estimated_delivery_date  \n",
       "0           2017-09-20 23:43:48                    2017-09-29  \n",
       "1           2017-05-12 16:04:24                    2017-05-15  \n",
       "2           2018-01-22 13:19:16                    2018-02-05  \n",
       "3           2018-08-14 13:32:39                    2018-08-20  \n",
       "4           2017-03-01 16:42:31                    2017-03-17  "
      ]
     },
     "execution_count": 40,
     "metadata": {},
     "output_type": "execute_result"
    }
   ],
   "source": [
    "df_items_orders.head()"
   ]
  },
  {
   "cell_type": "code",
   "execution_count": null,
   "metadata": {
    "id": "j8ofMcxx1GwH"
   },
   "outputs": [],
   "source": [
    "df_items_orders['weekday'] = df_items_orders.order_purchase_timestamp.dt.day_name()"
   ]
  },
  {
   "cell_type": "code",
   "execution_count": null,
   "metadata": {
    "id": "g-7a4IOn1GwH"
   },
   "outputs": [],
   "source": [
    "df_products_weekday = pd.pivot_table(df_items_orders, index = 'product_id', columns = 'weekday', values = 'order_id', aggfunc = 'count').fillna(0)"
   ]
  },
  {
   "cell_type": "code",
   "execution_count": null,
   "metadata": {
    "id": "-XSaPtZz1GwH",
    "outputId": "7efd1444-98b4-4fac-cc1f-7e62a280e086"
   },
   "outputs": [
    {
     "data": {
      "text/html": [
       "<div>\n",
       "<style scoped>\n",
       "    .dataframe tbody tr th:only-of-type {\n",
       "        vertical-align: middle;\n",
       "    }\n",
       "\n",
       "    .dataframe tbody tr th {\n",
       "        vertical-align: top;\n",
       "    }\n",
       "\n",
       "    .dataframe thead th {\n",
       "        text-align: right;\n",
       "    }\n",
       "</style>\n",
       "<table border=\"1\" class=\"dataframe\">\n",
       "  <thead>\n",
       "    <tr style=\"text-align: right;\">\n",
       "      <th>weekday</th>\n",
       "      <th>Friday</th>\n",
       "      <th>Monday</th>\n",
       "      <th>Saturday</th>\n",
       "      <th>Sunday</th>\n",
       "      <th>Thursday</th>\n",
       "      <th>Tuesday</th>\n",
       "      <th>Wednesday</th>\n",
       "    </tr>\n",
       "    <tr>\n",
       "      <th>product_id</th>\n",
       "      <th></th>\n",
       "      <th></th>\n",
       "      <th></th>\n",
       "      <th></th>\n",
       "      <th></th>\n",
       "      <th></th>\n",
       "      <th></th>\n",
       "    </tr>\n",
       "  </thead>\n",
       "  <tbody>\n",
       "    <tr>\n",
       "      <th>00066f42aeeb9f3007548bb9d3f33c38</th>\n",
       "      <td>0.0</td>\n",
       "      <td>0.0</td>\n",
       "      <td>0.0</td>\n",
       "      <td>1.0</td>\n",
       "      <td>0.0</td>\n",
       "      <td>0.0</td>\n",
       "      <td>0.0</td>\n",
       "    </tr>\n",
       "    <tr>\n",
       "      <th>00088930e925c41fd95ebfe695fd2655</th>\n",
       "      <td>0.0</td>\n",
       "      <td>0.0</td>\n",
       "      <td>0.0</td>\n",
       "      <td>0.0</td>\n",
       "      <td>0.0</td>\n",
       "      <td>1.0</td>\n",
       "      <td>0.0</td>\n",
       "    </tr>\n",
       "    <tr>\n",
       "      <th>0009406fd7479715e4bef61dd91f2462</th>\n",
       "      <td>0.0</td>\n",
       "      <td>0.0</td>\n",
       "      <td>0.0</td>\n",
       "      <td>0.0</td>\n",
       "      <td>1.0</td>\n",
       "      <td>0.0</td>\n",
       "      <td>0.0</td>\n",
       "    </tr>\n",
       "    <tr>\n",
       "      <th>000b8f95fcb9e0096488278317764d19</th>\n",
       "      <td>1.0</td>\n",
       "      <td>0.0</td>\n",
       "      <td>0.0</td>\n",
       "      <td>0.0</td>\n",
       "      <td>0.0</td>\n",
       "      <td>0.0</td>\n",
       "      <td>1.0</td>\n",
       "    </tr>\n",
       "    <tr>\n",
       "      <th>000d9be29b5207b54e86aa1b1ac54872</th>\n",
       "      <td>0.0</td>\n",
       "      <td>0.0</td>\n",
       "      <td>0.0</td>\n",
       "      <td>0.0</td>\n",
       "      <td>0.0</td>\n",
       "      <td>1.0</td>\n",
       "      <td>0.0</td>\n",
       "    </tr>\n",
       "    <tr>\n",
       "      <th>...</th>\n",
       "      <td>...</td>\n",
       "      <td>...</td>\n",
       "      <td>...</td>\n",
       "      <td>...</td>\n",
       "      <td>...</td>\n",
       "      <td>...</td>\n",
       "      <td>...</td>\n",
       "    </tr>\n",
       "    <tr>\n",
       "      <th>fff6177642830a9a94a0f2cba5e476d1</th>\n",
       "      <td>0.0</td>\n",
       "      <td>0.0</td>\n",
       "      <td>1.0</td>\n",
       "      <td>1.0</td>\n",
       "      <td>0.0</td>\n",
       "      <td>0.0</td>\n",
       "      <td>0.0</td>\n",
       "    </tr>\n",
       "    <tr>\n",
       "      <th>fff81cc3158d2725c0655ab9ba0f712c</th>\n",
       "      <td>0.0</td>\n",
       "      <td>1.0</td>\n",
       "      <td>0.0</td>\n",
       "      <td>0.0</td>\n",
       "      <td>0.0</td>\n",
       "      <td>0.0</td>\n",
       "      <td>0.0</td>\n",
       "    </tr>\n",
       "    <tr>\n",
       "      <th>fff9553ac224cec9d15d49f5a263411f</th>\n",
       "      <td>1.0</td>\n",
       "      <td>0.0</td>\n",
       "      <td>0.0</td>\n",
       "      <td>0.0</td>\n",
       "      <td>0.0</td>\n",
       "      <td>0.0</td>\n",
       "      <td>0.0</td>\n",
       "    </tr>\n",
       "    <tr>\n",
       "      <th>fffdb2d0ec8d6a61f0a0a0db3f25b441</th>\n",
       "      <td>1.0</td>\n",
       "      <td>0.0</td>\n",
       "      <td>0.0</td>\n",
       "      <td>1.0</td>\n",
       "      <td>1.0</td>\n",
       "      <td>2.0</td>\n",
       "      <td>0.0</td>\n",
       "    </tr>\n",
       "    <tr>\n",
       "      <th>fffe9eeff12fcbd74a2f2b007dde0c58</th>\n",
       "      <td>0.0</td>\n",
       "      <td>0.0</td>\n",
       "      <td>0.0</td>\n",
       "      <td>0.0</td>\n",
       "      <td>0.0</td>\n",
       "      <td>0.0</td>\n",
       "      <td>1.0</td>\n",
       "    </tr>\n",
       "  </tbody>\n",
       "</table>\n",
       "<p>32951 rows × 7 columns</p>\n",
       "</div>"
      ],
      "text/plain": [
       "weekday                           Friday  Monday  Saturday  Sunday  Thursday  \\\n",
       "product_id                                                                     \n",
       "00066f42aeeb9f3007548bb9d3f33c38     0.0     0.0       0.0     1.0       0.0   \n",
       "00088930e925c41fd95ebfe695fd2655     0.0     0.0       0.0     0.0       0.0   \n",
       "0009406fd7479715e4bef61dd91f2462     0.0     0.0       0.0     0.0       1.0   \n",
       "000b8f95fcb9e0096488278317764d19     1.0     0.0       0.0     0.0       0.0   \n",
       "000d9be29b5207b54e86aa1b1ac54872     0.0     0.0       0.0     0.0       0.0   \n",
       "...                                  ...     ...       ...     ...       ...   \n",
       "fff6177642830a9a94a0f2cba5e476d1     0.0     0.0       1.0     1.0       0.0   \n",
       "fff81cc3158d2725c0655ab9ba0f712c     0.0     1.0       0.0     0.0       0.0   \n",
       "fff9553ac224cec9d15d49f5a263411f     1.0     0.0       0.0     0.0       0.0   \n",
       "fffdb2d0ec8d6a61f0a0a0db3f25b441     1.0     0.0       0.0     1.0       1.0   \n",
       "fffe9eeff12fcbd74a2f2b007dde0c58     0.0     0.0       0.0     0.0       0.0   \n",
       "\n",
       "weekday                           Tuesday  Wednesday  \n",
       "product_id                                            \n",
       "00066f42aeeb9f3007548bb9d3f33c38      0.0        0.0  \n",
       "00088930e925c41fd95ebfe695fd2655      1.0        0.0  \n",
       "0009406fd7479715e4bef61dd91f2462      0.0        0.0  \n",
       "000b8f95fcb9e0096488278317764d19      0.0        1.0  \n",
       "000d9be29b5207b54e86aa1b1ac54872      1.0        0.0  \n",
       "...                                   ...        ...  \n",
       "fff6177642830a9a94a0f2cba5e476d1      0.0        0.0  \n",
       "fff81cc3158d2725c0655ab9ba0f712c      0.0        0.0  \n",
       "fff9553ac224cec9d15d49f5a263411f      0.0        0.0  \n",
       "fffdb2d0ec8d6a61f0a0a0db3f25b441      2.0        0.0  \n",
       "fffe9eeff12fcbd74a2f2b007dde0c58      0.0        1.0  \n",
       "\n",
       "[32951 rows x 7 columns]"
      ]
     },
     "execution_count": 43,
     "metadata": {},
     "output_type": "execute_result"
    }
   ],
   "source": [
    "df_products_weekday"
   ]
  },
  {
   "cell_type": "code",
   "execution_count": null,
   "metadata": {
    "id": "4jp8chND1GwH"
   },
   "outputs": [],
   "source": [
    "df_products_weekday['top_day'] = df_products_weekday.idxmax(axis=1)"
   ]
  },
  {
   "cell_type": "code",
   "execution_count": null,
   "metadata": {
    "id": "ahOLe6Dp1GwI",
    "outputId": "8c15c212-682b-44eb-8130-4ca1f8307fba"
   },
   "outputs": [
    {
     "data": {
      "text/html": [
       "<div>\n",
       "<style scoped>\n",
       "    .dataframe tbody tr th:only-of-type {\n",
       "        vertical-align: middle;\n",
       "    }\n",
       "\n",
       "    .dataframe tbody tr th {\n",
       "        vertical-align: top;\n",
       "    }\n",
       "\n",
       "    .dataframe thead th {\n",
       "        text-align: right;\n",
       "    }\n",
       "</style>\n",
       "<table border=\"1\" class=\"dataframe\">\n",
       "  <thead>\n",
       "    <tr style=\"text-align: right;\">\n",
       "      <th></th>\n",
       "      <th></th>\n",
       "      <th>count_orders</th>\n",
       "    </tr>\n",
       "    <tr>\n",
       "      <th>product_id</th>\n",
       "      <th>weekday</th>\n",
       "      <th></th>\n",
       "    </tr>\n",
       "  </thead>\n",
       "  <tbody>\n",
       "    <tr>\n",
       "      <th>00066f42aeeb9f3007548bb9d3f33c38</th>\n",
       "      <th>Sunday</th>\n",
       "      <td>1</td>\n",
       "    </tr>\n",
       "    <tr>\n",
       "      <th>00088930e925c41fd95ebfe695fd2655</th>\n",
       "      <th>Tuesday</th>\n",
       "      <td>1</td>\n",
       "    </tr>\n",
       "    <tr>\n",
       "      <th>0009406fd7479715e4bef61dd91f2462</th>\n",
       "      <th>Thursday</th>\n",
       "      <td>1</td>\n",
       "    </tr>\n",
       "    <tr>\n",
       "      <th rowspan=\"2\" valign=\"top\">000b8f95fcb9e0096488278317764d19</th>\n",
       "      <th>Friday</th>\n",
       "      <td>1</td>\n",
       "    </tr>\n",
       "    <tr>\n",
       "      <th>Wednesday</th>\n",
       "      <td>1</td>\n",
       "    </tr>\n",
       "    <tr>\n",
       "      <th>...</th>\n",
       "      <th>...</th>\n",
       "      <td>...</td>\n",
       "    </tr>\n",
       "    <tr>\n",
       "      <th>fff6177642830a9a94a0f2cba5e476d1</th>\n",
       "      <th>Sunday</th>\n",
       "      <td>1</td>\n",
       "    </tr>\n",
       "    <tr>\n",
       "      <th>fff81cc3158d2725c0655ab9ba0f712c</th>\n",
       "      <th>Monday</th>\n",
       "      <td>1</td>\n",
       "    </tr>\n",
       "    <tr>\n",
       "      <th>fff9553ac224cec9d15d49f5a263411f</th>\n",
       "      <th>Friday</th>\n",
       "      <td>1</td>\n",
       "    </tr>\n",
       "    <tr>\n",
       "      <th>fffdb2d0ec8d6a61f0a0a0db3f25b441</th>\n",
       "      <th>Tuesday</th>\n",
       "      <td>2</td>\n",
       "    </tr>\n",
       "    <tr>\n",
       "      <th>fffe9eeff12fcbd74a2f2b007dde0c58</th>\n",
       "      <th>Wednesday</th>\n",
       "      <td>1</td>\n",
       "    </tr>\n",
       "  </tbody>\n",
       "</table>\n",
       "<p>42705 rows × 1 columns</p>\n",
       "</div>"
      ],
      "text/plain": [
       "                                           count_orders\n",
       "product_id                       weekday               \n",
       "00066f42aeeb9f3007548bb9d3f33c38 Sunday               1\n",
       "00088930e925c41fd95ebfe695fd2655 Tuesday              1\n",
       "0009406fd7479715e4bef61dd91f2462 Thursday             1\n",
       "000b8f95fcb9e0096488278317764d19 Friday               1\n",
       "                                 Wednesday            1\n",
       "...                                                 ...\n",
       "fff6177642830a9a94a0f2cba5e476d1 Sunday               1\n",
       "fff81cc3158d2725c0655ab9ba0f712c Monday               1\n",
       "fff9553ac224cec9d15d49f5a263411f Friday               1\n",
       "fffdb2d0ec8d6a61f0a0a0db3f25b441 Tuesday              2\n",
       "fffe9eeff12fcbd74a2f2b007dde0c58 Wednesday            1\n",
       "\n",
       "[42705 rows x 1 columns]"
      ]
     },
     "execution_count": 45,
     "metadata": {},
     "output_type": "execute_result"
    }
   ],
   "source": [
    "# результат представлен в колонке weekday. Следует обратить внимание, что в некоторых случаях топ-дней у того или иного товара более одного (например, товар с product_id = 000b8f95fcb9e0096488278317764d19)\n",
    "pd.DataFrame(df_products_weekday.where(df_products_weekday.eq(df_products_weekday.max(1), axis=0)).stack()).rename(columns={0 : 'count_orders'})"
   ]
  },
  {
   "cell_type": "markdown",
   "metadata": {
    "id": "BrTgbypW1GwI"
   },
   "source": [
    "### Сколько у каждого из пользователей в среднем покупок в неделю (по месяцам)? Не стоит забывать, что внутри месяца может быть не целое количество недель. Например, в ноябре 2021 года 4,28 недели. И внутри метрики это нужно учесть."
   ]
  },
  {
   "cell_type": "markdown",
   "metadata": {
    "id": "j5zU71pv1GwI"
   },
   "source": [
    "Посчитаем общее количество покупок по каждому пользователю в месяц, и поделим эти суммы на число недель в соответствующем месяце"
   ]
  },
  {
   "cell_type": "code",
   "execution_count": null,
   "metadata": {
    "id": "67F3-cXY1GwI"
   },
   "outputs": [],
   "source": [
    "# выберем нужные колонки (юник и дата покупки) для тех пользователей, которые, как мы ранее определили, совершили завершенные покупки\n",
    "df_customers_order_purchase = df_customers_orders.query('(order_status == \"delivered\") & (order_delivered_customer_date == order_delivered_customer_date)')[['customer_unique_id', 'order_purchase_timestamp']]"
   ]
  },
  {
   "cell_type": "code",
   "execution_count": null,
   "metadata": {
    "id": "BuK8UGwz1GwI",
    "outputId": "e5aa9425-52d3-4589-c5c5-5aff744bb20e"
   },
   "outputs": [
    {
     "data": {
      "text/html": [
       "<div>\n",
       "<style scoped>\n",
       "    .dataframe tbody tr th:only-of-type {\n",
       "        vertical-align: middle;\n",
       "    }\n",
       "\n",
       "    .dataframe tbody tr th {\n",
       "        vertical-align: top;\n",
       "    }\n",
       "\n",
       "    .dataframe thead th {\n",
       "        text-align: right;\n",
       "    }\n",
       "</style>\n",
       "<table border=\"1\" class=\"dataframe\">\n",
       "  <thead>\n",
       "    <tr style=\"text-align: right;\">\n",
       "      <th></th>\n",
       "      <th>customer_unique_id</th>\n",
       "      <th>order_purchase_timestamp</th>\n",
       "    </tr>\n",
       "  </thead>\n",
       "  <tbody>\n",
       "    <tr>\n",
       "      <th>0</th>\n",
       "      <td>7c396fd4830fd04220f754e42b4e5bff</td>\n",
       "      <td>2017-10-02 10:56:33</td>\n",
       "    </tr>\n",
       "    <tr>\n",
       "      <th>1</th>\n",
       "      <td>af07308b275d755c9edb36a90c618231</td>\n",
       "      <td>2018-07-24 20:41:37</td>\n",
       "    </tr>\n",
       "    <tr>\n",
       "      <th>2</th>\n",
       "      <td>3a653a41f6f9fc3d2a113cf8398680e8</td>\n",
       "      <td>2018-08-08 08:38:49</td>\n",
       "    </tr>\n",
       "    <tr>\n",
       "      <th>3</th>\n",
       "      <td>7c142cf63193a1473d2e66489a9ae977</td>\n",
       "      <td>2017-11-18 19:28:06</td>\n",
       "    </tr>\n",
       "    <tr>\n",
       "      <th>4</th>\n",
       "      <td>72632f0f9dd73dfee390c9b22eb56dd6</td>\n",
       "      <td>2018-02-13 21:18:39</td>\n",
       "    </tr>\n",
       "    <tr>\n",
       "      <th>...</th>\n",
       "      <td>...</td>\n",
       "      <td>...</td>\n",
       "    </tr>\n",
       "    <tr>\n",
       "      <th>99436</th>\n",
       "      <td>6359f309b166b0196dbf7ad2ac62bb5a</td>\n",
       "      <td>2017-03-09 09:54:05</td>\n",
       "    </tr>\n",
       "    <tr>\n",
       "      <th>99437</th>\n",
       "      <td>da62f9e57a76d978d02ab5362c509660</td>\n",
       "      <td>2018-02-06 12:58:58</td>\n",
       "    </tr>\n",
       "    <tr>\n",
       "      <th>99438</th>\n",
       "      <td>737520a9aad80b3fbbdad19b66b37b30</td>\n",
       "      <td>2017-08-27 14:46:43</td>\n",
       "    </tr>\n",
       "    <tr>\n",
       "      <th>99439</th>\n",
       "      <td>5097a5312c8b157bb7be58ae360ef43c</td>\n",
       "      <td>2018-01-08 21:28:27</td>\n",
       "    </tr>\n",
       "    <tr>\n",
       "      <th>99440</th>\n",
       "      <td>60350aa974b26ff12caad89e55993bd6</td>\n",
       "      <td>2018-03-08 20:57:30</td>\n",
       "    </tr>\n",
       "  </tbody>\n",
       "</table>\n",
       "<p>96470 rows × 2 columns</p>\n",
       "</div>"
      ],
      "text/plain": [
       "                     customer_unique_id order_purchase_timestamp\n",
       "0      7c396fd4830fd04220f754e42b4e5bff      2017-10-02 10:56:33\n",
       "1      af07308b275d755c9edb36a90c618231      2018-07-24 20:41:37\n",
       "2      3a653a41f6f9fc3d2a113cf8398680e8      2018-08-08 08:38:49\n",
       "3      7c142cf63193a1473d2e66489a9ae977      2017-11-18 19:28:06\n",
       "4      72632f0f9dd73dfee390c9b22eb56dd6      2018-02-13 21:18:39\n",
       "...                                 ...                      ...\n",
       "99436  6359f309b166b0196dbf7ad2ac62bb5a      2017-03-09 09:54:05\n",
       "99437  da62f9e57a76d978d02ab5362c509660      2018-02-06 12:58:58\n",
       "99438  737520a9aad80b3fbbdad19b66b37b30      2017-08-27 14:46:43\n",
       "99439  5097a5312c8b157bb7be58ae360ef43c      2018-01-08 21:28:27\n",
       "99440  60350aa974b26ff12caad89e55993bd6      2018-03-08 20:57:30\n",
       "\n",
       "[96470 rows x 2 columns]"
      ]
     },
     "execution_count": 47,
     "metadata": {},
     "output_type": "execute_result"
    }
   ],
   "source": [
    "df_customers_order_purchase"
   ]
  },
  {
   "cell_type": "code",
   "execution_count": null,
   "metadata": {
    "id": "oCOqpdsV1GwI"
   },
   "outputs": [],
   "source": [
    "# создадим колонки с годом и месяцем\n",
    "df_customers_order_purchase['month'] = df_customers_order_purchase.order_purchase_timestamp.dt.month\n",
    "df_customers_order_purchase['year'] = df_customers_order_purchase.order_purchase_timestamp.dt.year"
   ]
  },
  {
   "cell_type": "code",
   "execution_count": null,
   "metadata": {
    "id": "5LCzcI8Z1GwI",
    "outputId": "5f699a57-ee87-49b2-e85b-cc61255b63a8"
   },
   "outputs": [
    {
     "data": {
      "text/html": [
       "<div>\n",
       "<style scoped>\n",
       "    .dataframe tbody tr th:only-of-type {\n",
       "        vertical-align: middle;\n",
       "    }\n",
       "\n",
       "    .dataframe tbody tr th {\n",
       "        vertical-align: top;\n",
       "    }\n",
       "\n",
       "    .dataframe thead th {\n",
       "        text-align: right;\n",
       "    }\n",
       "</style>\n",
       "<table border=\"1\" class=\"dataframe\">\n",
       "  <thead>\n",
       "    <tr style=\"text-align: right;\">\n",
       "      <th></th>\n",
       "      <th>customer_unique_id</th>\n",
       "      <th>order_purchase_timestamp</th>\n",
       "      <th>month</th>\n",
       "      <th>year</th>\n",
       "    </tr>\n",
       "  </thead>\n",
       "  <tbody>\n",
       "    <tr>\n",
       "      <th>0</th>\n",
       "      <td>7c396fd4830fd04220f754e42b4e5bff</td>\n",
       "      <td>2017-10-02 10:56:33</td>\n",
       "      <td>10</td>\n",
       "      <td>2017</td>\n",
       "    </tr>\n",
       "    <tr>\n",
       "      <th>1</th>\n",
       "      <td>af07308b275d755c9edb36a90c618231</td>\n",
       "      <td>2018-07-24 20:41:37</td>\n",
       "      <td>7</td>\n",
       "      <td>2018</td>\n",
       "    </tr>\n",
       "    <tr>\n",
       "      <th>2</th>\n",
       "      <td>3a653a41f6f9fc3d2a113cf8398680e8</td>\n",
       "      <td>2018-08-08 08:38:49</td>\n",
       "      <td>8</td>\n",
       "      <td>2018</td>\n",
       "    </tr>\n",
       "    <tr>\n",
       "      <th>3</th>\n",
       "      <td>7c142cf63193a1473d2e66489a9ae977</td>\n",
       "      <td>2017-11-18 19:28:06</td>\n",
       "      <td>11</td>\n",
       "      <td>2017</td>\n",
       "    </tr>\n",
       "    <tr>\n",
       "      <th>4</th>\n",
       "      <td>72632f0f9dd73dfee390c9b22eb56dd6</td>\n",
       "      <td>2018-02-13 21:18:39</td>\n",
       "      <td>2</td>\n",
       "      <td>2018</td>\n",
       "    </tr>\n",
       "  </tbody>\n",
       "</table>\n",
       "</div>"
      ],
      "text/plain": [
       "                 customer_unique_id order_purchase_timestamp  month  year\n",
       "0  7c396fd4830fd04220f754e42b4e5bff      2017-10-02 10:56:33     10  2017\n",
       "1  af07308b275d755c9edb36a90c618231      2018-07-24 20:41:37      7  2018\n",
       "2  3a653a41f6f9fc3d2a113cf8398680e8      2018-08-08 08:38:49      8  2018\n",
       "3  7c142cf63193a1473d2e66489a9ae977      2017-11-18 19:28:06     11  2017\n",
       "4  72632f0f9dd73dfee390c9b22eb56dd6      2018-02-13 21:18:39      2  2018"
      ]
     },
     "execution_count": 49,
     "metadata": {},
     "output_type": "execute_result"
    }
   ],
   "source": [
    "df_customers_order_purchase.head()"
   ]
  },
  {
   "cell_type": "code",
   "execution_count": null,
   "metadata": {
    "id": "_GsaxuVH1GwJ"
   },
   "outputs": [],
   "source": [
    "# сделаем справочную таблицу с количеством недель в соответствующих месяцев\n",
    "df_m_y = pd.DataFrame(df_customers_order_purchase.order_purchase_timestamp)"
   ]
  },
  {
   "cell_type": "code",
   "execution_count": null,
   "metadata": {
    "id": "uF-sROF91GwJ",
    "outputId": "fc02e927-4d0c-463a-edcf-8acdb2137bbe"
   },
   "outputs": [
    {
     "data": {
      "text/html": [
       "<div>\n",
       "<style scoped>\n",
       "    .dataframe tbody tr th:only-of-type {\n",
       "        vertical-align: middle;\n",
       "    }\n",
       "\n",
       "    .dataframe tbody tr th {\n",
       "        vertical-align: top;\n",
       "    }\n",
       "\n",
       "    .dataframe thead th {\n",
       "        text-align: right;\n",
       "    }\n",
       "</style>\n",
       "<table border=\"1\" class=\"dataframe\">\n",
       "  <thead>\n",
       "    <tr style=\"text-align: right;\">\n",
       "      <th></th>\n",
       "      <th>order_purchase_timestamp</th>\n",
       "    </tr>\n",
       "  </thead>\n",
       "  <tbody>\n",
       "    <tr>\n",
       "      <th>0</th>\n",
       "      <td>2017-10-02 10:56:33</td>\n",
       "    </tr>\n",
       "    <tr>\n",
       "      <th>1</th>\n",
       "      <td>2018-07-24 20:41:37</td>\n",
       "    </tr>\n",
       "    <tr>\n",
       "      <th>2</th>\n",
       "      <td>2018-08-08 08:38:49</td>\n",
       "    </tr>\n",
       "    <tr>\n",
       "      <th>3</th>\n",
       "      <td>2017-11-18 19:28:06</td>\n",
       "    </tr>\n",
       "    <tr>\n",
       "      <th>4</th>\n",
       "      <td>2018-02-13 21:18:39</td>\n",
       "    </tr>\n",
       "    <tr>\n",
       "      <th>...</th>\n",
       "      <td>...</td>\n",
       "    </tr>\n",
       "    <tr>\n",
       "      <th>99436</th>\n",
       "      <td>2017-03-09 09:54:05</td>\n",
       "    </tr>\n",
       "    <tr>\n",
       "      <th>99437</th>\n",
       "      <td>2018-02-06 12:58:58</td>\n",
       "    </tr>\n",
       "    <tr>\n",
       "      <th>99438</th>\n",
       "      <td>2017-08-27 14:46:43</td>\n",
       "    </tr>\n",
       "    <tr>\n",
       "      <th>99439</th>\n",
       "      <td>2018-01-08 21:28:27</td>\n",
       "    </tr>\n",
       "    <tr>\n",
       "      <th>99440</th>\n",
       "      <td>2018-03-08 20:57:30</td>\n",
       "    </tr>\n",
       "  </tbody>\n",
       "</table>\n",
       "<p>96470 rows × 1 columns</p>\n",
       "</div>"
      ],
      "text/plain": [
       "      order_purchase_timestamp\n",
       "0          2017-10-02 10:56:33\n",
       "1          2018-07-24 20:41:37\n",
       "2          2018-08-08 08:38:49\n",
       "3          2017-11-18 19:28:06\n",
       "4          2018-02-13 21:18:39\n",
       "...                        ...\n",
       "99436      2017-03-09 09:54:05\n",
       "99437      2018-02-06 12:58:58\n",
       "99438      2017-08-27 14:46:43\n",
       "99439      2018-01-08 21:28:27\n",
       "99440      2018-03-08 20:57:30\n",
       "\n",
       "[96470 rows x 1 columns]"
      ]
     },
     "execution_count": 51,
     "metadata": {},
     "output_type": "execute_result"
    }
   ],
   "source": [
    "df_m_y"
   ]
  },
  {
   "cell_type": "code",
   "execution_count": null,
   "metadata": {
    "id": "ythxwCco1GwJ"
   },
   "outputs": [],
   "source": [
    "df_m_y['month'] = df_m_y.order_purchase_timestamp.dt.month\n",
    "df_m_y['year'] = df_m_y.order_purchase_timestamp.dt.year"
   ]
  },
  {
   "cell_type": "code",
   "execution_count": null,
   "metadata": {
    "id": "dRb_GJ781GwJ"
   },
   "outputs": [],
   "source": [
    "df_m_y.month = df_m_y.month.apply(lambda x: str(x))\n",
    "df_m_y.year = df_m_y.year.apply(lambda x: str(x))"
   ]
  },
  {
   "cell_type": "code",
   "execution_count": null,
   "metadata": {
    "id": "bV3WQCuI1GwJ",
    "outputId": "11211817-3ded-48a1-f9cc-76051a33a17b"
   },
   "outputs": [
    {
     "data": {
      "text/html": [
       "<div>\n",
       "<style scoped>\n",
       "    .dataframe tbody tr th:only-of-type {\n",
       "        vertical-align: middle;\n",
       "    }\n",
       "\n",
       "    .dataframe tbody tr th {\n",
       "        vertical-align: top;\n",
       "    }\n",
       "\n",
       "    .dataframe thead th {\n",
       "        text-align: right;\n",
       "    }\n",
       "</style>\n",
       "<table border=\"1\" class=\"dataframe\">\n",
       "  <thead>\n",
       "    <tr style=\"text-align: right;\">\n",
       "      <th></th>\n",
       "      <th>order_purchase_timestamp</th>\n",
       "      <th>month</th>\n",
       "      <th>year</th>\n",
       "    </tr>\n",
       "  </thead>\n",
       "  <tbody>\n",
       "    <tr>\n",
       "      <th>0</th>\n",
       "      <td>2017-10-02 10:56:33</td>\n",
       "      <td>10</td>\n",
       "      <td>2017</td>\n",
       "    </tr>\n",
       "    <tr>\n",
       "      <th>1</th>\n",
       "      <td>2018-07-24 20:41:37</td>\n",
       "      <td>7</td>\n",
       "      <td>2018</td>\n",
       "    </tr>\n",
       "    <tr>\n",
       "      <th>2</th>\n",
       "      <td>2018-08-08 08:38:49</td>\n",
       "      <td>8</td>\n",
       "      <td>2018</td>\n",
       "    </tr>\n",
       "    <tr>\n",
       "      <th>3</th>\n",
       "      <td>2017-11-18 19:28:06</td>\n",
       "      <td>11</td>\n",
       "      <td>2017</td>\n",
       "    </tr>\n",
       "    <tr>\n",
       "      <th>4</th>\n",
       "      <td>2018-02-13 21:18:39</td>\n",
       "      <td>2</td>\n",
       "      <td>2018</td>\n",
       "    </tr>\n",
       "    <tr>\n",
       "      <th>...</th>\n",
       "      <td>...</td>\n",
       "      <td>...</td>\n",
       "      <td>...</td>\n",
       "    </tr>\n",
       "    <tr>\n",
       "      <th>99436</th>\n",
       "      <td>2017-03-09 09:54:05</td>\n",
       "      <td>3</td>\n",
       "      <td>2017</td>\n",
       "    </tr>\n",
       "    <tr>\n",
       "      <th>99437</th>\n",
       "      <td>2018-02-06 12:58:58</td>\n",
       "      <td>2</td>\n",
       "      <td>2018</td>\n",
       "    </tr>\n",
       "    <tr>\n",
       "      <th>99438</th>\n",
       "      <td>2017-08-27 14:46:43</td>\n",
       "      <td>8</td>\n",
       "      <td>2017</td>\n",
       "    </tr>\n",
       "    <tr>\n",
       "      <th>99439</th>\n",
       "      <td>2018-01-08 21:28:27</td>\n",
       "      <td>1</td>\n",
       "      <td>2018</td>\n",
       "    </tr>\n",
       "    <tr>\n",
       "      <th>99440</th>\n",
       "      <td>2018-03-08 20:57:30</td>\n",
       "      <td>3</td>\n",
       "      <td>2018</td>\n",
       "    </tr>\n",
       "  </tbody>\n",
       "</table>\n",
       "<p>96470 rows × 3 columns</p>\n",
       "</div>"
      ],
      "text/plain": [
       "      order_purchase_timestamp month  year\n",
       "0          2017-10-02 10:56:33    10  2017\n",
       "1          2018-07-24 20:41:37     7  2018\n",
       "2          2018-08-08 08:38:49     8  2018\n",
       "3          2017-11-18 19:28:06    11  2017\n",
       "4          2018-02-13 21:18:39     2  2018\n",
       "...                        ...   ...   ...\n",
       "99436      2017-03-09 09:54:05     3  2017\n",
       "99437      2018-02-06 12:58:58     2  2018\n",
       "99438      2017-08-27 14:46:43     8  2017\n",
       "99439      2018-01-08 21:28:27     1  2018\n",
       "99440      2018-03-08 20:57:30     3  2018\n",
       "\n",
       "[96470 rows x 3 columns]"
      ]
     },
     "execution_count": 54,
     "metadata": {},
     "output_type": "execute_result"
    }
   ],
   "source": [
    "df_m_y"
   ]
  },
  {
   "cell_type": "code",
   "execution_count": null,
   "metadata": {
    "id": "IinOM-ET1GwK"
   },
   "outputs": [],
   "source": [
    "df_m_y['m_y'] = df_m_y.year + '/' + df_m_y.month"
   ]
  },
  {
   "cell_type": "code",
   "execution_count": null,
   "metadata": {
    "id": "c6bOqKpC1GwK"
   },
   "outputs": [],
   "source": [
    "df_m_y['day_in_month'] = df_m_y.order_purchase_timestamp.dt.daysinmonth"
   ]
  },
  {
   "cell_type": "code",
   "execution_count": null,
   "metadata": {
    "id": "bLsBdati1GwK"
   },
   "outputs": [],
   "source": [
    "df_m_y['weeks_in_month'] = round((df_m_y.day_in_month / 7), 2)"
   ]
  },
  {
   "cell_type": "code",
   "execution_count": null,
   "metadata": {
    "id": "7ma5gXyL1GwK",
    "outputId": "5f7c9c4f-2174-4d0d-f166-c7831c2bfc81"
   },
   "outputs": [
    {
     "data": {
      "text/html": [
       "<div>\n",
       "<style scoped>\n",
       "    .dataframe tbody tr th:only-of-type {\n",
       "        vertical-align: middle;\n",
       "    }\n",
       "\n",
       "    .dataframe tbody tr th {\n",
       "        vertical-align: top;\n",
       "    }\n",
       "\n",
       "    .dataframe thead th {\n",
       "        text-align: right;\n",
       "    }\n",
       "</style>\n",
       "<table border=\"1\" class=\"dataframe\">\n",
       "  <thead>\n",
       "    <tr style=\"text-align: right;\">\n",
       "      <th></th>\n",
       "      <th>order_purchase_timestamp</th>\n",
       "      <th>month</th>\n",
       "      <th>year</th>\n",
       "      <th>m_y</th>\n",
       "      <th>day_in_month</th>\n",
       "      <th>weeks_in_month</th>\n",
       "    </tr>\n",
       "  </thead>\n",
       "  <tbody>\n",
       "    <tr>\n",
       "      <th>0</th>\n",
       "      <td>2017-10-02 10:56:33</td>\n",
       "      <td>10</td>\n",
       "      <td>2017</td>\n",
       "      <td>2017/10</td>\n",
       "      <td>31</td>\n",
       "      <td>4.43</td>\n",
       "    </tr>\n",
       "    <tr>\n",
       "      <th>1</th>\n",
       "      <td>2018-07-24 20:41:37</td>\n",
       "      <td>7</td>\n",
       "      <td>2018</td>\n",
       "      <td>2018/7</td>\n",
       "      <td>31</td>\n",
       "      <td>4.43</td>\n",
       "    </tr>\n",
       "    <tr>\n",
       "      <th>2</th>\n",
       "      <td>2018-08-08 08:38:49</td>\n",
       "      <td>8</td>\n",
       "      <td>2018</td>\n",
       "      <td>2018/8</td>\n",
       "      <td>31</td>\n",
       "      <td>4.43</td>\n",
       "    </tr>\n",
       "    <tr>\n",
       "      <th>3</th>\n",
       "      <td>2017-11-18 19:28:06</td>\n",
       "      <td>11</td>\n",
       "      <td>2017</td>\n",
       "      <td>2017/11</td>\n",
       "      <td>30</td>\n",
       "      <td>4.29</td>\n",
       "    </tr>\n",
       "    <tr>\n",
       "      <th>4</th>\n",
       "      <td>2018-02-13 21:18:39</td>\n",
       "      <td>2</td>\n",
       "      <td>2018</td>\n",
       "      <td>2018/2</td>\n",
       "      <td>28</td>\n",
       "      <td>4.00</td>\n",
       "    </tr>\n",
       "    <tr>\n",
       "      <th>...</th>\n",
       "      <td>...</td>\n",
       "      <td>...</td>\n",
       "      <td>...</td>\n",
       "      <td>...</td>\n",
       "      <td>...</td>\n",
       "      <td>...</td>\n",
       "    </tr>\n",
       "    <tr>\n",
       "      <th>99436</th>\n",
       "      <td>2017-03-09 09:54:05</td>\n",
       "      <td>3</td>\n",
       "      <td>2017</td>\n",
       "      <td>2017/3</td>\n",
       "      <td>31</td>\n",
       "      <td>4.43</td>\n",
       "    </tr>\n",
       "    <tr>\n",
       "      <th>99437</th>\n",
       "      <td>2018-02-06 12:58:58</td>\n",
       "      <td>2</td>\n",
       "      <td>2018</td>\n",
       "      <td>2018/2</td>\n",
       "      <td>28</td>\n",
       "      <td>4.00</td>\n",
       "    </tr>\n",
       "    <tr>\n",
       "      <th>99438</th>\n",
       "      <td>2017-08-27 14:46:43</td>\n",
       "      <td>8</td>\n",
       "      <td>2017</td>\n",
       "      <td>2017/8</td>\n",
       "      <td>31</td>\n",
       "      <td>4.43</td>\n",
       "    </tr>\n",
       "    <tr>\n",
       "      <th>99439</th>\n",
       "      <td>2018-01-08 21:28:27</td>\n",
       "      <td>1</td>\n",
       "      <td>2018</td>\n",
       "      <td>2018/1</td>\n",
       "      <td>31</td>\n",
       "      <td>4.43</td>\n",
       "    </tr>\n",
       "    <tr>\n",
       "      <th>99440</th>\n",
       "      <td>2018-03-08 20:57:30</td>\n",
       "      <td>3</td>\n",
       "      <td>2018</td>\n",
       "      <td>2018/3</td>\n",
       "      <td>31</td>\n",
       "      <td>4.43</td>\n",
       "    </tr>\n",
       "  </tbody>\n",
       "</table>\n",
       "<p>96470 rows × 6 columns</p>\n",
       "</div>"
      ],
      "text/plain": [
       "      order_purchase_timestamp month  year      m_y  day_in_month  \\\n",
       "0          2017-10-02 10:56:33    10  2017  2017/10            31   \n",
       "1          2018-07-24 20:41:37     7  2018   2018/7            31   \n",
       "2          2018-08-08 08:38:49     8  2018   2018/8            31   \n",
       "3          2017-11-18 19:28:06    11  2017  2017/11            30   \n",
       "4          2018-02-13 21:18:39     2  2018   2018/2            28   \n",
       "...                        ...   ...   ...      ...           ...   \n",
       "99436      2017-03-09 09:54:05     3  2017   2017/3            31   \n",
       "99437      2018-02-06 12:58:58     2  2018   2018/2            28   \n",
       "99438      2017-08-27 14:46:43     8  2017   2017/8            31   \n",
       "99439      2018-01-08 21:28:27     1  2018   2018/1            31   \n",
       "99440      2018-03-08 20:57:30     3  2018   2018/3            31   \n",
       "\n",
       "       weeks_in_month  \n",
       "0                4.43  \n",
       "1                4.43  \n",
       "2                4.43  \n",
       "3                4.29  \n",
       "4                4.00  \n",
       "...               ...  \n",
       "99436            4.43  \n",
       "99437            4.00  \n",
       "99438            4.43  \n",
       "99439            4.43  \n",
       "99440            4.43  \n",
       "\n",
       "[96470 rows x 6 columns]"
      ]
     },
     "execution_count": 58,
     "metadata": {},
     "output_type": "execute_result"
    }
   ],
   "source": [
    "df_m_y"
   ]
  },
  {
   "cell_type": "code",
   "execution_count": null,
   "metadata": {
    "id": "BWre3-_H1GwK"
   },
   "outputs": [],
   "source": [
    "# результирующая справочная таблица\n",
    "df_month_week = df_m_y.groupby('m_y', as_index = False) \\\n",
    ".agg({'weeks_in_month' : 'mean'})"
   ]
  },
  {
   "cell_type": "code",
   "execution_count": null,
   "metadata": {
    "id": "FuXCXYbv1GwK"
   },
   "outputs": [],
   "source": [
    "# получим количество покупок в месяц для каждого юника\n",
    "df_customers_count_orders = df_customers_order_purchase.groupby(['customer_unique_id', 'month', 'year'], as_index = False) \\\n",
    ".agg({'order_purchase_timestamp' : 'count'}) \\\n",
    ".rename(columns = {'order_purchase_timestamp' : 'count_orders'}) \\\n",
    ".sort_values('count_orders', ascending = False)"
   ]
  },
  {
   "cell_type": "code",
   "execution_count": null,
   "metadata": {
    "id": "wM5Ph5Sc1GwK",
    "outputId": "640d4906-3ba6-4ff1-ddc8-e45608044b25"
   },
   "outputs": [
    {
     "data": {
      "text/html": [
       "<div>\n",
       "<style scoped>\n",
       "    .dataframe tbody tr th:only-of-type {\n",
       "        vertical-align: middle;\n",
       "    }\n",
       "\n",
       "    .dataframe tbody tr th {\n",
       "        vertical-align: top;\n",
       "    }\n",
       "\n",
       "    .dataframe thead th {\n",
       "        text-align: right;\n",
       "    }\n",
       "</style>\n",
       "<table border=\"1\" class=\"dataframe\">\n",
       "  <thead>\n",
       "    <tr style=\"text-align: right;\">\n",
       "      <th></th>\n",
       "      <th>customer_unique_id</th>\n",
       "      <th>month</th>\n",
       "      <th>year</th>\n",
       "      <th>count_orders</th>\n",
       "    </tr>\n",
       "  </thead>\n",
       "  <tbody>\n",
       "    <tr>\n",
       "      <th>7099</th>\n",
       "      <td>12f5d6e1cbf93dafd9dcc19095df0b3d</td>\n",
       "      <td>1</td>\n",
       "      <td>2017</td>\n",
       "      <td>6</td>\n",
       "    </tr>\n",
       "    <tr>\n",
       "      <th>60365</th>\n",
       "      <td>a239b8e2fbce33780f1f1912e2ee5275</td>\n",
       "      <td>2</td>\n",
       "      <td>2017</td>\n",
       "      <td>4</td>\n",
       "    </tr>\n",
       "    <tr>\n",
       "      <th>65765</th>\n",
       "      <td>b08fab27d47a1eb6deda07bfd965ad43</td>\n",
       "      <td>9</td>\n",
       "      <td>2017</td>\n",
       "      <td>4</td>\n",
       "    </tr>\n",
       "    <tr>\n",
       "      <th>14054</th>\n",
       "      <td>25a560b9a6006157838aab1bdbd68624</td>\n",
       "      <td>4</td>\n",
       "      <td>2017</td>\n",
       "      <td>4</td>\n",
       "    </tr>\n",
       "    <tr>\n",
       "      <th>67354</th>\n",
       "      <td>b4e4f24de1e8725b74e4a1f4975116ed</td>\n",
       "      <td>2</td>\n",
       "      <td>2018</td>\n",
       "      <td>4</td>\n",
       "    </tr>\n",
       "    <tr>\n",
       "      <th>...</th>\n",
       "      <td>...</td>\n",
       "      <td>...</td>\n",
       "      <td>...</td>\n",
       "      <td>...</td>\n",
       "    </tr>\n",
       "    <tr>\n",
       "      <th>31897</th>\n",
       "      <td>55a82b1881c249c04755d69057227ece</td>\n",
       "      <td>6</td>\n",
       "      <td>2018</td>\n",
       "      <td>1</td>\n",
       "    </tr>\n",
       "    <tr>\n",
       "      <th>31896</th>\n",
       "      <td>55a5d857599f61f045f9956f9180262d</td>\n",
       "      <td>7</td>\n",
       "      <td>2018</td>\n",
       "      <td>1</td>\n",
       "    </tr>\n",
       "    <tr>\n",
       "      <th>31895</th>\n",
       "      <td>55a55b65ef7f279bf0e5846a645e5ba6</td>\n",
       "      <td>12</td>\n",
       "      <td>2017</td>\n",
       "      <td>1</td>\n",
       "    </tr>\n",
       "    <tr>\n",
       "      <th>31894</th>\n",
       "      <td>55a4c5ebfd8fcc86eb83882fa0464977</td>\n",
       "      <td>1</td>\n",
       "      <td>2018</td>\n",
       "      <td>1</td>\n",
       "    </tr>\n",
       "    <tr>\n",
       "      <th>95185</th>\n",
       "      <td>ffffd2657e2aad2907e67c3e9daecbeb</td>\n",
       "      <td>5</td>\n",
       "      <td>2017</td>\n",
       "      <td>1</td>\n",
       "    </tr>\n",
       "  </tbody>\n",
       "</table>\n",
       "<p>95186 rows × 4 columns</p>\n",
       "</div>"
      ],
      "text/plain": [
       "                     customer_unique_id  month  year  count_orders\n",
       "7099   12f5d6e1cbf93dafd9dcc19095df0b3d      1  2017             6\n",
       "60365  a239b8e2fbce33780f1f1912e2ee5275      2  2017             4\n",
       "65765  b08fab27d47a1eb6deda07bfd965ad43      9  2017             4\n",
       "14054  25a560b9a6006157838aab1bdbd68624      4  2017             4\n",
       "67354  b4e4f24de1e8725b74e4a1f4975116ed      2  2018             4\n",
       "...                                 ...    ...   ...           ...\n",
       "31897  55a82b1881c249c04755d69057227ece      6  2018             1\n",
       "31896  55a5d857599f61f045f9956f9180262d      7  2018             1\n",
       "31895  55a55b65ef7f279bf0e5846a645e5ba6     12  2017             1\n",
       "31894  55a4c5ebfd8fcc86eb83882fa0464977      1  2018             1\n",
       "95185  ffffd2657e2aad2907e67c3e9daecbeb      5  2017             1\n",
       "\n",
       "[95186 rows x 4 columns]"
      ]
     },
     "execution_count": 61,
     "metadata": {},
     "output_type": "execute_result"
    }
   ],
   "source": [
    "df_customers_count_orders"
   ]
  },
  {
   "cell_type": "code",
   "execution_count": null,
   "metadata": {
    "id": "SE8sRYjJ1GwL"
   },
   "outputs": [],
   "source": [
    "df_customers_count_orders.month = df_customers_count_orders.month.apply(lambda x: str(x))\n",
    "df_customers_count_orders.year = df_customers_count_orders.year.apply(lambda x: str(x))"
   ]
  },
  {
   "cell_type": "code",
   "execution_count": null,
   "metadata": {
    "id": "YxoiFBoe1GwL"
   },
   "outputs": [],
   "source": [
    "df_customers_count_orders['m_y'] = df_customers_count_orders.year + '/' + df_customers_count_orders.month"
   ]
  },
  {
   "cell_type": "code",
   "execution_count": null,
   "metadata": {
    "id": "t-izmaLR1GwL",
    "outputId": "47246ac9-732a-4bdc-ee03-e8f439f73bb0"
   },
   "outputs": [
    {
     "data": {
      "text/html": [
       "<div>\n",
       "<style scoped>\n",
       "    .dataframe tbody tr th:only-of-type {\n",
       "        vertical-align: middle;\n",
       "    }\n",
       "\n",
       "    .dataframe tbody tr th {\n",
       "        vertical-align: top;\n",
       "    }\n",
       "\n",
       "    .dataframe thead th {\n",
       "        text-align: right;\n",
       "    }\n",
       "</style>\n",
       "<table border=\"1\" class=\"dataframe\">\n",
       "  <thead>\n",
       "    <tr style=\"text-align: right;\">\n",
       "      <th></th>\n",
       "      <th>customer_unique_id</th>\n",
       "      <th>month</th>\n",
       "      <th>year</th>\n",
       "      <th>count_orders</th>\n",
       "      <th>m_y</th>\n",
       "    </tr>\n",
       "  </thead>\n",
       "  <tbody>\n",
       "    <tr>\n",
       "      <th>7099</th>\n",
       "      <td>12f5d6e1cbf93dafd9dcc19095df0b3d</td>\n",
       "      <td>1</td>\n",
       "      <td>2017</td>\n",
       "      <td>6</td>\n",
       "      <td>2017/1</td>\n",
       "    </tr>\n",
       "    <tr>\n",
       "      <th>60365</th>\n",
       "      <td>a239b8e2fbce33780f1f1912e2ee5275</td>\n",
       "      <td>2</td>\n",
       "      <td>2017</td>\n",
       "      <td>4</td>\n",
       "      <td>2017/2</td>\n",
       "    </tr>\n",
       "    <tr>\n",
       "      <th>65765</th>\n",
       "      <td>b08fab27d47a1eb6deda07bfd965ad43</td>\n",
       "      <td>9</td>\n",
       "      <td>2017</td>\n",
       "      <td>4</td>\n",
       "      <td>2017/9</td>\n",
       "    </tr>\n",
       "    <tr>\n",
       "      <th>14054</th>\n",
       "      <td>25a560b9a6006157838aab1bdbd68624</td>\n",
       "      <td>4</td>\n",
       "      <td>2017</td>\n",
       "      <td>4</td>\n",
       "      <td>2017/4</td>\n",
       "    </tr>\n",
       "    <tr>\n",
       "      <th>67354</th>\n",
       "      <td>b4e4f24de1e8725b74e4a1f4975116ed</td>\n",
       "      <td>2</td>\n",
       "      <td>2018</td>\n",
       "      <td>4</td>\n",
       "      <td>2018/2</td>\n",
       "    </tr>\n",
       "    <tr>\n",
       "      <th>...</th>\n",
       "      <td>...</td>\n",
       "      <td>...</td>\n",
       "      <td>...</td>\n",
       "      <td>...</td>\n",
       "      <td>...</td>\n",
       "    </tr>\n",
       "    <tr>\n",
       "      <th>31897</th>\n",
       "      <td>55a82b1881c249c04755d69057227ece</td>\n",
       "      <td>6</td>\n",
       "      <td>2018</td>\n",
       "      <td>1</td>\n",
       "      <td>2018/6</td>\n",
       "    </tr>\n",
       "    <tr>\n",
       "      <th>31896</th>\n",
       "      <td>55a5d857599f61f045f9956f9180262d</td>\n",
       "      <td>7</td>\n",
       "      <td>2018</td>\n",
       "      <td>1</td>\n",
       "      <td>2018/7</td>\n",
       "    </tr>\n",
       "    <tr>\n",
       "      <th>31895</th>\n",
       "      <td>55a55b65ef7f279bf0e5846a645e5ba6</td>\n",
       "      <td>12</td>\n",
       "      <td>2017</td>\n",
       "      <td>1</td>\n",
       "      <td>2017/12</td>\n",
       "    </tr>\n",
       "    <tr>\n",
       "      <th>31894</th>\n",
       "      <td>55a4c5ebfd8fcc86eb83882fa0464977</td>\n",
       "      <td>1</td>\n",
       "      <td>2018</td>\n",
       "      <td>1</td>\n",
       "      <td>2018/1</td>\n",
       "    </tr>\n",
       "    <tr>\n",
       "      <th>95185</th>\n",
       "      <td>ffffd2657e2aad2907e67c3e9daecbeb</td>\n",
       "      <td>5</td>\n",
       "      <td>2017</td>\n",
       "      <td>1</td>\n",
       "      <td>2017/5</td>\n",
       "    </tr>\n",
       "  </tbody>\n",
       "</table>\n",
       "<p>95186 rows × 5 columns</p>\n",
       "</div>"
      ],
      "text/plain": [
       "                     customer_unique_id month  year  count_orders      m_y\n",
       "7099   12f5d6e1cbf93dafd9dcc19095df0b3d     1  2017             6   2017/1\n",
       "60365  a239b8e2fbce33780f1f1912e2ee5275     2  2017             4   2017/2\n",
       "65765  b08fab27d47a1eb6deda07bfd965ad43     9  2017             4   2017/9\n",
       "14054  25a560b9a6006157838aab1bdbd68624     4  2017             4   2017/4\n",
       "67354  b4e4f24de1e8725b74e4a1f4975116ed     2  2018             4   2018/2\n",
       "...                                 ...   ...   ...           ...      ...\n",
       "31897  55a82b1881c249c04755d69057227ece     6  2018             1   2018/6\n",
       "31896  55a5d857599f61f045f9956f9180262d     7  2018             1   2018/7\n",
       "31895  55a55b65ef7f279bf0e5846a645e5ba6    12  2017             1  2017/12\n",
       "31894  55a4c5ebfd8fcc86eb83882fa0464977     1  2018             1   2018/1\n",
       "95185  ffffd2657e2aad2907e67c3e9daecbeb     5  2017             1   2017/5\n",
       "\n",
       "[95186 rows x 5 columns]"
      ]
     },
     "execution_count": 64,
     "metadata": {},
     "output_type": "execute_result"
    }
   ],
   "source": [
    "# таблица по юникам для мерджа справочной таблицы с количеством недель\n",
    "df_customers_count_orders"
   ]
  },
  {
   "cell_type": "code",
   "execution_count": null,
   "metadata": {
    "id": "LjnBTjkZ1GwL"
   },
   "outputs": [],
   "source": [
    "# мерджим к таблице юников справочную инфу\n",
    "df_orders_week = df_customers_count_orders.merge(df_month_week, how = 'left', on = 'm_y')"
   ]
  },
  {
   "cell_type": "code",
   "execution_count": null,
   "metadata": {
    "id": "A8Q-5nvH1GwL",
    "outputId": "15242c75-7e8e-47ff-d77d-02961856d2b4"
   },
   "outputs": [
    {
     "data": {
      "text/html": [
       "<div>\n",
       "<style scoped>\n",
       "    .dataframe tbody tr th:only-of-type {\n",
       "        vertical-align: middle;\n",
       "    }\n",
       "\n",
       "    .dataframe tbody tr th {\n",
       "        vertical-align: top;\n",
       "    }\n",
       "\n",
       "    .dataframe thead th {\n",
       "        text-align: right;\n",
       "    }\n",
       "</style>\n",
       "<table border=\"1\" class=\"dataframe\">\n",
       "  <thead>\n",
       "    <tr style=\"text-align: right;\">\n",
       "      <th></th>\n",
       "      <th>customer_unique_id</th>\n",
       "      <th>month</th>\n",
       "      <th>year</th>\n",
       "      <th>count_orders</th>\n",
       "      <th>m_y</th>\n",
       "      <th>weeks_in_month</th>\n",
       "    </tr>\n",
       "  </thead>\n",
       "  <tbody>\n",
       "    <tr>\n",
       "      <th>0</th>\n",
       "      <td>12f5d6e1cbf93dafd9dcc19095df0b3d</td>\n",
       "      <td>1</td>\n",
       "      <td>2017</td>\n",
       "      <td>6</td>\n",
       "      <td>2017/1</td>\n",
       "      <td>4.43</td>\n",
       "    </tr>\n",
       "    <tr>\n",
       "      <th>1</th>\n",
       "      <td>a239b8e2fbce33780f1f1912e2ee5275</td>\n",
       "      <td>2</td>\n",
       "      <td>2017</td>\n",
       "      <td>4</td>\n",
       "      <td>2017/2</td>\n",
       "      <td>4.00</td>\n",
       "    </tr>\n",
       "    <tr>\n",
       "      <th>2</th>\n",
       "      <td>b08fab27d47a1eb6deda07bfd965ad43</td>\n",
       "      <td>9</td>\n",
       "      <td>2017</td>\n",
       "      <td>4</td>\n",
       "      <td>2017/9</td>\n",
       "      <td>4.29</td>\n",
       "    </tr>\n",
       "    <tr>\n",
       "      <th>3</th>\n",
       "      <td>25a560b9a6006157838aab1bdbd68624</td>\n",
       "      <td>4</td>\n",
       "      <td>2017</td>\n",
       "      <td>4</td>\n",
       "      <td>2017/4</td>\n",
       "      <td>4.29</td>\n",
       "    </tr>\n",
       "    <tr>\n",
       "      <th>4</th>\n",
       "      <td>b4e4f24de1e8725b74e4a1f4975116ed</td>\n",
       "      <td>2</td>\n",
       "      <td>2018</td>\n",
       "      <td>4</td>\n",
       "      <td>2018/2</td>\n",
       "      <td>4.00</td>\n",
       "    </tr>\n",
       "  </tbody>\n",
       "</table>\n",
       "</div>"
      ],
      "text/plain": [
       "                 customer_unique_id month  year  count_orders     m_y  \\\n",
       "0  12f5d6e1cbf93dafd9dcc19095df0b3d     1  2017             6  2017/1   \n",
       "1  a239b8e2fbce33780f1f1912e2ee5275     2  2017             4  2017/2   \n",
       "2  b08fab27d47a1eb6deda07bfd965ad43     9  2017             4  2017/9   \n",
       "3  25a560b9a6006157838aab1bdbd68624     4  2017             4  2017/4   \n",
       "4  b4e4f24de1e8725b74e4a1f4975116ed     2  2018             4  2018/2   \n",
       "\n",
       "   weeks_in_month  \n",
       "0            4.43  \n",
       "1            4.00  \n",
       "2            4.29  \n",
       "3            4.29  \n",
       "4            4.00  "
      ]
     },
     "execution_count": 66,
     "metadata": {},
     "output_type": "execute_result"
    }
   ],
   "source": [
    "df_orders_week.head()"
   ]
  },
  {
   "cell_type": "code",
   "execution_count": null,
   "metadata": {
    "id": "G2Dj2y_91GwL"
   },
   "outputs": [],
   "source": [
    "# создаем соответствующий столбец\n",
    "df_orders_week['count_orders_week'] = df_orders_week.count_orders / df_orders_week.weeks_in_month"
   ]
  },
  {
   "cell_type": "code",
   "execution_count": null,
   "metadata": {
    "id": "2RbjPqEz1GwM",
    "outputId": "b4401e69-659f-4622-b822-58a4efe76c0c"
   },
   "outputs": [
    {
     "data": {
      "text/html": [
       "<div>\n",
       "<style scoped>\n",
       "    .dataframe tbody tr th:only-of-type {\n",
       "        vertical-align: middle;\n",
       "    }\n",
       "\n",
       "    .dataframe tbody tr th {\n",
       "        vertical-align: top;\n",
       "    }\n",
       "\n",
       "    .dataframe thead th {\n",
       "        text-align: right;\n",
       "    }\n",
       "</style>\n",
       "<table border=\"1\" class=\"dataframe\">\n",
       "  <thead>\n",
       "    <tr style=\"text-align: right;\">\n",
       "      <th></th>\n",
       "      <th>customer_unique_id</th>\n",
       "      <th>month</th>\n",
       "      <th>year</th>\n",
       "      <th>count_orders</th>\n",
       "      <th>m_y</th>\n",
       "      <th>weeks_in_month</th>\n",
       "      <th>count_orders_week</th>\n",
       "    </tr>\n",
       "  </thead>\n",
       "  <tbody>\n",
       "    <tr>\n",
       "      <th>95185</th>\n",
       "      <td>ffffd2657e2aad2907e67c3e9daecbeb</td>\n",
       "      <td>5</td>\n",
       "      <td>2017</td>\n",
       "      <td>1</td>\n",
       "      <td>2017/5</td>\n",
       "      <td>4.43</td>\n",
       "      <td>0.225734</td>\n",
       "    </tr>\n",
       "    <tr>\n",
       "      <th>32130</th>\n",
       "      <td>ffff5962728ec6157033ef9805bacc48</td>\n",
       "      <td>5</td>\n",
       "      <td>2018</td>\n",
       "      <td>1</td>\n",
       "      <td>2018/5</td>\n",
       "      <td>4.43</td>\n",
       "      <td>0.225734</td>\n",
       "    </tr>\n",
       "    <tr>\n",
       "      <th>32131</th>\n",
       "      <td>ffff371b4d645b6ecea244b27531430a</td>\n",
       "      <td>2</td>\n",
       "      <td>2017</td>\n",
       "      <td>1</td>\n",
       "      <td>2017/2</td>\n",
       "      <td>4.00</td>\n",
       "      <td>0.250000</td>\n",
       "    </tr>\n",
       "    <tr>\n",
       "      <th>32132</th>\n",
       "      <td>fffea47cd6d3cc0a88bd621562a9d061</td>\n",
       "      <td>12</td>\n",
       "      <td>2017</td>\n",
       "      <td>1</td>\n",
       "      <td>2017/12</td>\n",
       "      <td>4.43</td>\n",
       "      <td>0.225734</td>\n",
       "    </tr>\n",
       "    <tr>\n",
       "      <th>32133</th>\n",
       "      <td>fffcf5a5ff07b0908bd4e2dbc735a684</td>\n",
       "      <td>6</td>\n",
       "      <td>2017</td>\n",
       "      <td>1</td>\n",
       "      <td>2017/6</td>\n",
       "      <td>4.29</td>\n",
       "      <td>0.233100</td>\n",
       "    </tr>\n",
       "    <tr>\n",
       "      <th>...</th>\n",
       "      <td>...</td>\n",
       "      <td>...</td>\n",
       "      <td>...</td>\n",
       "      <td>...</td>\n",
       "      <td>...</td>\n",
       "      <td>...</td>\n",
       "      <td>...</td>\n",
       "    </tr>\n",
       "    <tr>\n",
       "      <th>63674</th>\n",
       "      <td>0004aac84e0df4da2b147fca70cf8255</td>\n",
       "      <td>11</td>\n",
       "      <td>2017</td>\n",
       "      <td>1</td>\n",
       "      <td>2017/11</td>\n",
       "      <td>4.29</td>\n",
       "      <td>0.233100</td>\n",
       "    </tr>\n",
       "    <tr>\n",
       "      <th>63675</th>\n",
       "      <td>0000f6ccb0745a6a4b88665a16c9f078</td>\n",
       "      <td>10</td>\n",
       "      <td>2017</td>\n",
       "      <td>1</td>\n",
       "      <td>2017/10</td>\n",
       "      <td>4.43</td>\n",
       "      <td>0.225734</td>\n",
       "    </tr>\n",
       "    <tr>\n",
       "      <th>63676</th>\n",
       "      <td>0000f46a3911fa3c0805444483337064</td>\n",
       "      <td>3</td>\n",
       "      <td>2017</td>\n",
       "      <td>1</td>\n",
       "      <td>2017/3</td>\n",
       "      <td>4.43</td>\n",
       "      <td>0.225734</td>\n",
       "    </tr>\n",
       "    <tr>\n",
       "      <th>79505</th>\n",
       "      <td>0000b849f77a49e4a4ce2b2a4ca5be3f</td>\n",
       "      <td>5</td>\n",
       "      <td>2018</td>\n",
       "      <td>1</td>\n",
       "      <td>2018/5</td>\n",
       "      <td>4.43</td>\n",
       "      <td>0.225734</td>\n",
       "    </tr>\n",
       "    <tr>\n",
       "      <th>3608</th>\n",
       "      <td>0000366f3b9a7992bf8c76cfdf3221e2</td>\n",
       "      <td>5</td>\n",
       "      <td>2018</td>\n",
       "      <td>1</td>\n",
       "      <td>2018/5</td>\n",
       "      <td>4.43</td>\n",
       "      <td>0.225734</td>\n",
       "    </tr>\n",
       "  </tbody>\n",
       "</table>\n",
       "<p>95186 rows × 7 columns</p>\n",
       "</div>"
      ],
      "text/plain": [
       "                     customer_unique_id month  year  count_orders      m_y  \\\n",
       "95185  ffffd2657e2aad2907e67c3e9daecbeb     5  2017             1   2017/5   \n",
       "32130  ffff5962728ec6157033ef9805bacc48     5  2018             1   2018/5   \n",
       "32131  ffff371b4d645b6ecea244b27531430a     2  2017             1   2017/2   \n",
       "32132  fffea47cd6d3cc0a88bd621562a9d061    12  2017             1  2017/12   \n",
       "32133  fffcf5a5ff07b0908bd4e2dbc735a684     6  2017             1   2017/6   \n",
       "...                                 ...   ...   ...           ...      ...   \n",
       "63674  0004aac84e0df4da2b147fca70cf8255    11  2017             1  2017/11   \n",
       "63675  0000f6ccb0745a6a4b88665a16c9f078    10  2017             1  2017/10   \n",
       "63676  0000f46a3911fa3c0805444483337064     3  2017             1   2017/3   \n",
       "79505  0000b849f77a49e4a4ce2b2a4ca5be3f     5  2018             1   2018/5   \n",
       "3608   0000366f3b9a7992bf8c76cfdf3221e2     5  2018             1   2018/5   \n",
       "\n",
       "       weeks_in_month  count_orders_week  \n",
       "95185            4.43           0.225734  \n",
       "32130            4.43           0.225734  \n",
       "32131            4.00           0.250000  \n",
       "32132            4.43           0.225734  \n",
       "32133            4.29           0.233100  \n",
       "...               ...                ...  \n",
       "63674            4.29           0.233100  \n",
       "63675            4.43           0.225734  \n",
       "63676            4.43           0.225734  \n",
       "79505            4.43           0.225734  \n",
       "3608             4.43           0.225734  \n",
       "\n",
       "[95186 rows x 7 columns]"
      ]
     },
     "execution_count": 68,
     "metadata": {},
     "output_type": "execute_result"
    }
   ],
   "source": [
    "# результирующие данные содержатся в столбце count_orders_week\n",
    "df_orders_week.sort_values('customer_unique_id', ascending = False)"
   ]
  },
  {
   "cell_type": "code",
   "execution_count": null,
   "metadata": {
    "id": "ZSpu7ZpB1GwM",
    "outputId": "16df3133-fe21-4784-a049-9263b4117033"
   },
   "outputs": [
    {
     "data": {
      "text/plain": [
       "<matplotlib.axes._subplots.AxesSubplot at 0x7f1f02c59da0>"
      ]
     },
     "execution_count": 69,
     "metadata": {},
     "output_type": "execute_result"
    },
    {
     "data": {
      "image/png": "[encoded data removed]",
      "text/plain": [
       "<Figure size 432x288 with 1 Axes>"
      ]
     },
     "metadata": {
      "needs_background": "light"
     },
     "output_type": "display_data"
    }
   ],
   "source": [
    "df_orders_week.count_orders_week.hist()"
   ]
  },
  {
   "cell_type": "markdown",
   "metadata": {
    "id": "LR7_TyXs1GwM"
   },
   "source": [
    "### Когортный анализ пользователей за период с января по декабрь (найти  когорту с самым высоким retention на 3й месяц)"
   ]
  },
  {
   "cell_type": "markdown",
   "metadata": {
    "id": "OmsKdTx31GwM"
   },
   "source": [
    "Поскольку на предыдущем этапе мы заметили, что более 90 % наших клиентов сделали только по одной покупке, можно ожидать маленький ретеншн. Возьмем пользователей, совершивших покупки в 2017 году"
   ]
  },
  {
   "cell_type": "code",
   "execution_count": null,
   "metadata": {
    "id": "pURXtgUN1GwM"
   },
   "outputs": [],
   "source": [
    "df_cohort = df_customers_orders.query('(order_status == \"delivered\") & (order_delivered_customer_date == order_delivered_customer_date)')"
   ]
  },
  {
   "cell_type": "code",
   "execution_count": null,
   "metadata": {
    "id": "q8xS9px61GwM",
    "outputId": "916c4b64-9012-41ef-c947-ba8e0979eeea"
   },
   "outputs": [
    {
     "name": "stderr",
     "output_type": "stream",
     "text": [
      "/opt/tljh/user/lib/python3.7/site-packages/ipykernel_launcher.py:2: SettingWithCopyWarning: \n",
      "A value is trying to be set on a copy of a slice from a DataFrame.\n",
      "Try using .loc[row_indexer,col_indexer] = value instead\n",
      "\n",
      "See the caveats in the documentation: https://pandas.pydata.org/pandas-docs/stable/user_guide/indexing.html#returning-a-view-versus-a-copy\n",
      "  \n"
     ]
    }
   ],
   "source": [
    "# для фильтрации данных за 2017 год добавим графу год, и отберем по ней интересующих нас юников\n",
    "df_cohort['year'] = df_cohort.order_purchase_timestamp.dt.year"
   ]
  },
  {
   "cell_type": "code",
   "execution_count": null,
   "metadata": {
    "id": "yqZlrJfg1GwN"
   },
   "outputs": [],
   "source": [
    "df_cohort = df_cohort.query('year == \"2017\"')"
   ]
  },
  {
   "cell_type": "code",
   "execution_count": null,
   "metadata": {
    "id": "mE8w49iA1GwN",
    "outputId": "abf91236-5cf4-4061-f1e3-73cea0edce48"
   },
   "outputs": [
    {
     "data": {
      "text/html": [
       "<div>\n",
       "<style scoped>\n",
       "    .dataframe tbody tr th:only-of-type {\n",
       "        vertical-align: middle;\n",
       "    }\n",
       "\n",
       "    .dataframe tbody tr th {\n",
       "        vertical-align: top;\n",
       "    }\n",
       "\n",
       "    .dataframe thead th {\n",
       "        text-align: right;\n",
       "    }\n",
       "</style>\n",
       "<table border=\"1\" class=\"dataframe\">\n",
       "  <thead>\n",
       "    <tr style=\"text-align: right;\">\n",
       "      <th></th>\n",
       "      <th>order_id</th>\n",
       "      <th>customer_id</th>\n",
       "      <th>order_status</th>\n",
       "      <th>order_purchase_timestamp</th>\n",
       "      <th>order_approved_at</th>\n",
       "      <th>order_delivered_carrier_date</th>\n",
       "      <th>order_delivered_customer_date</th>\n",
       "      <th>order_estimated_delivery_date</th>\n",
       "      <th>customer_unique_id</th>\n",
       "      <th>customer_zip_code_prefix</th>\n",
       "      <th>customer_city</th>\n",
       "      <th>customer_state</th>\n",
       "      <th>year</th>\n",
       "    </tr>\n",
       "  </thead>\n",
       "  <tbody>\n",
       "    <tr>\n",
       "      <th>0</th>\n",
       "      <td>e481f51cbdc54678b7cc49136f2d6af7</td>\n",
       "      <td>9ef432eb6251297304e76186b10a928d</td>\n",
       "      <td>delivered</td>\n",
       "      <td>2017-10-02 10:56:33</td>\n",
       "      <td>2017-10-02 11:07:15</td>\n",
       "      <td>2017-10-04 19:55:00</td>\n",
       "      <td>2017-10-10 21:25:13</td>\n",
       "      <td>2017-10-18</td>\n",
       "      <td>7c396fd4830fd04220f754e42b4e5bff</td>\n",
       "      <td>3149</td>\n",
       "      <td>sao paulo</td>\n",
       "      <td>SP</td>\n",
       "      <td>2017</td>\n",
       "    </tr>\n",
       "    <tr>\n",
       "      <th>3</th>\n",
       "      <td>949d5b44dbf5de918fe9c16f97b45f8a</td>\n",
       "      <td>f88197465ea7920adcdbec7375364d82</td>\n",
       "      <td>delivered</td>\n",
       "      <td>2017-11-18 19:28:06</td>\n",
       "      <td>2017-11-18 19:45:59</td>\n",
       "      <td>2017-11-22 13:39:59</td>\n",
       "      <td>2017-12-02 00:28:42</td>\n",
       "      <td>2017-12-15</td>\n",
       "      <td>7c142cf63193a1473d2e66489a9ae977</td>\n",
       "      <td>59296</td>\n",
       "      <td>sao goncalo do amarante</td>\n",
       "      <td>RN</td>\n",
       "      <td>2017</td>\n",
       "    </tr>\n",
       "    <tr>\n",
       "      <th>5</th>\n",
       "      <td>a4591c265e18cb1dcee52889e2d8acc3</td>\n",
       "      <td>503740e9ca751ccdda7ba28e9ab8f608</td>\n",
       "      <td>delivered</td>\n",
       "      <td>2017-07-09 21:57:05</td>\n",
       "      <td>2017-07-09 22:10:13</td>\n",
       "      <td>2017-07-11 14:58:04</td>\n",
       "      <td>2017-07-26 10:57:55</td>\n",
       "      <td>2017-08-01</td>\n",
       "      <td>80bb27c7c16e8f973207a5086ab329e2</td>\n",
       "      <td>86320</td>\n",
       "      <td>congonhinhas</td>\n",
       "      <td>PR</td>\n",
       "      <td>2017</td>\n",
       "    </tr>\n",
       "    <tr>\n",
       "      <th>7</th>\n",
       "      <td>6514b8ad8028c9f2cc2374ded245783f</td>\n",
       "      <td>9bdf08b4b3b52b5526ff42d37d47f222</td>\n",
       "      <td>delivered</td>\n",
       "      <td>2017-05-16 13:10:30</td>\n",
       "      <td>2017-05-16 13:22:11</td>\n",
       "      <td>2017-05-22 10:07:46</td>\n",
       "      <td>2017-05-26 12:55:51</td>\n",
       "      <td>2017-06-07</td>\n",
       "      <td>932afa1e708222e5821dac9cd5db4cae</td>\n",
       "      <td>26525</td>\n",
       "      <td>nilopolis</td>\n",
       "      <td>RJ</td>\n",
       "      <td>2017</td>\n",
       "    </tr>\n",
       "    <tr>\n",
       "      <th>8</th>\n",
       "      <td>76c6e866289321a7c93b82b54852dc33</td>\n",
       "      <td>f54a9f0e6b351c431402b8461ea51999</td>\n",
       "      <td>delivered</td>\n",
       "      <td>2017-01-23 18:29:09</td>\n",
       "      <td>2017-01-25 02:50:47</td>\n",
       "      <td>2017-01-26 14:16:31</td>\n",
       "      <td>2017-02-02 14:08:10</td>\n",
       "      <td>2017-03-06</td>\n",
       "      <td>39382392765b6dc74812866ee5ee92a7</td>\n",
       "      <td>99655</td>\n",
       "      <td>faxinalzinho</td>\n",
       "      <td>RS</td>\n",
       "      <td>2017</td>\n",
       "    </tr>\n",
       "    <tr>\n",
       "      <th>...</th>\n",
       "      <td>...</td>\n",
       "      <td>...</td>\n",
       "      <td>...</td>\n",
       "      <td>...</td>\n",
       "      <td>...</td>\n",
       "      <td>...</td>\n",
       "      <td>...</td>\n",
       "      <td>...</td>\n",
       "      <td>...</td>\n",
       "      <td>...</td>\n",
       "      <td>...</td>\n",
       "      <td>...</td>\n",
       "      <td>...</td>\n",
       "    </tr>\n",
       "    <tr>\n",
       "      <th>99433</th>\n",
       "      <td>9115830be804184b91f5c00f6f49f92d</td>\n",
       "      <td>da2124f134f5dfbce9d06f29bdb6c308</td>\n",
       "      <td>delivered</td>\n",
       "      <td>2017-10-04 19:57:37</td>\n",
       "      <td>2017-10-04 20:07:14</td>\n",
       "      <td>2017-10-05 16:52:52</td>\n",
       "      <td>2017-10-20 20:25:45</td>\n",
       "      <td>2017-11-07</td>\n",
       "      <td>c716cf2b5b86fb24257cffe9e7969df8</td>\n",
       "      <td>78048</td>\n",
       "      <td>cuiaba</td>\n",
       "      <td>MT</td>\n",
       "      <td>2017</td>\n",
       "    </tr>\n",
       "    <tr>\n",
       "      <th>99434</th>\n",
       "      <td>aa04ef5214580b06b10e2a378300db44</td>\n",
       "      <td>f01a6bfcc730456317e4081fe0c9940e</td>\n",
       "      <td>delivered</td>\n",
       "      <td>2017-01-27 00:30:03</td>\n",
       "      <td>2017-01-27 01:05:25</td>\n",
       "      <td>2017-01-30 11:40:16</td>\n",
       "      <td>2017-02-07 13:15:25</td>\n",
       "      <td>2017-03-17</td>\n",
       "      <td>e03dbdf5e56c96b106d8115ac336f47f</td>\n",
       "      <td>35502</td>\n",
       "      <td>divinopolis</td>\n",
       "      <td>MG</td>\n",
       "      <td>2017</td>\n",
       "    </tr>\n",
       "    <tr>\n",
       "      <th>99435</th>\n",
       "      <td>880675dff2150932f1601e1c07eadeeb</td>\n",
       "      <td>47cd45a6ac7b9fb16537df2ccffeb5ac</td>\n",
       "      <td>delivered</td>\n",
       "      <td>2017-02-23 09:05:12</td>\n",
       "      <td>2017-02-23 09:15:11</td>\n",
       "      <td>2017-03-01 10:22:52</td>\n",
       "      <td>2017-03-06 11:08:08</td>\n",
       "      <td>2017-03-22</td>\n",
       "      <td>831ce3f1bacbd424fc4e38fbd4d66d29</td>\n",
       "      <td>5127</td>\n",
       "      <td>sao paulo</td>\n",
       "      <td>SP</td>\n",
       "      <td>2017</td>\n",
       "    </tr>\n",
       "    <tr>\n",
       "      <th>99436</th>\n",
       "      <td>9c5dedf39a927c1b2549525ed64a053c</td>\n",
       "      <td>39bd1228ee8140590ac3aca26f2dfe00</td>\n",
       "      <td>delivered</td>\n",
       "      <td>2017-03-09 09:54:05</td>\n",
       "      <td>2017-03-09 09:54:05</td>\n",
       "      <td>2017-03-10 11:18:03</td>\n",
       "      <td>2017-03-17 15:08:01</td>\n",
       "      <td>2017-03-28</td>\n",
       "      <td>6359f309b166b0196dbf7ad2ac62bb5a</td>\n",
       "      <td>12209</td>\n",
       "      <td>sao jose dos campos</td>\n",
       "      <td>SP</td>\n",
       "      <td>2017</td>\n",
       "    </tr>\n",
       "    <tr>\n",
       "      <th>99438</th>\n",
       "      <td>83c1379a015df1e13d02aae0204711ab</td>\n",
       "      <td>1aa71eb042121263aafbe80c1b562c9c</td>\n",
       "      <td>delivered</td>\n",
       "      <td>2017-08-27 14:46:43</td>\n",
       "      <td>2017-08-27 15:04:16</td>\n",
       "      <td>2017-08-28 20:52:26</td>\n",
       "      <td>2017-09-21 11:24:17</td>\n",
       "      <td>2017-09-27</td>\n",
       "      <td>737520a9aad80b3fbbdad19b66b37b30</td>\n",
       "      <td>45920</td>\n",
       "      <td>nova vicosa</td>\n",
       "      <td>BA</td>\n",
       "      <td>2017</td>\n",
       "    </tr>\n",
       "  </tbody>\n",
       "</table>\n",
       "<p>43426 rows × 13 columns</p>\n",
       "</div>"
      ],
      "text/plain": [
       "                               order_id                       customer_id  \\\n",
       "0      e481f51cbdc54678b7cc49136f2d6af7  9ef432eb6251297304e76186b10a928d   \n",
       "3      949d5b44dbf5de918fe9c16f97b45f8a  f88197465ea7920adcdbec7375364d82   \n",
       "5      a4591c265e18cb1dcee52889e2d8acc3  503740e9ca751ccdda7ba28e9ab8f608   \n",
       "7      6514b8ad8028c9f2cc2374ded245783f  9bdf08b4b3b52b5526ff42d37d47f222   \n",
       "8      76c6e866289321a7c93b82b54852dc33  f54a9f0e6b351c431402b8461ea51999   \n",
       "...                                 ...                               ...   \n",
       "99433  9115830be804184b91f5c00f6f49f92d  da2124f134f5dfbce9d06f29bdb6c308   \n",
       "99434  aa04ef5214580b06b10e2a378300db44  f01a6bfcc730456317e4081fe0c9940e   \n",
       "99435  880675dff2150932f1601e1c07eadeeb  47cd45a6ac7b9fb16537df2ccffeb5ac   \n",
       "99436  9c5dedf39a927c1b2549525ed64a053c  39bd1228ee8140590ac3aca26f2dfe00   \n",
       "99438  83c1379a015df1e13d02aae0204711ab  1aa71eb042121263aafbe80c1b562c9c   \n",
       "\n",
       "      order_status order_purchase_timestamp   order_approved_at  \\\n",
       "0        delivered      2017-10-02 10:56:33 2017-10-02 11:07:15   \n",
       "3        delivered      2017-11-18 19:28:06 2017-11-18 19:45:59   \n",
       "5        delivered      2017-07-09 21:57:05 2017-07-09 22:10:13   \n",
       "7        delivered      2017-05-16 13:10:30 2017-05-16 13:22:11   \n",
       "8        delivered      2017-01-23 18:29:09 2017-01-25 02:50:47   \n",
       "...            ...                      ...                 ...   \n",
       "99433    delivered      2017-10-04 19:57:37 2017-10-04 20:07:14   \n",
       "99434    delivered      2017-01-27 00:30:03 2017-01-27 01:05:25   \n",
       "99435    delivered      2017-02-23 09:05:12 2017-02-23 09:15:11   \n",
       "99436    delivered      2017-03-09 09:54:05 2017-03-09 09:54:05   \n",
       "99438    delivered      2017-08-27 14:46:43 2017-08-27 15:04:16   \n",
       "\n",
       "      order_delivered_carrier_date order_delivered_customer_date  \\\n",
       "0              2017-10-04 19:55:00           2017-10-10 21:25:13   \n",
       "3              2017-11-22 13:39:59           2017-12-02 00:28:42   \n",
       "5              2017-07-11 14:58:04           2017-07-26 10:57:55   \n",
       "7              2017-05-22 10:07:46           2017-05-26 12:55:51   \n",
       "8              2017-01-26 14:16:31           2017-02-02 14:08:10   \n",
       "...                            ...                           ...   \n",
       "99433          2017-10-05 16:52:52           2017-10-20 20:25:45   \n",
       "99434          2017-01-30 11:40:16           2017-02-07 13:15:25   \n",
       "99435          2017-03-01 10:22:52           2017-03-06 11:08:08   \n",
       "99436          2017-03-10 11:18:03           2017-03-17 15:08:01   \n",
       "99438          2017-08-28 20:52:26           2017-09-21 11:24:17   \n",
       "\n",
       "      order_estimated_delivery_date                customer_unique_id  \\\n",
       "0                        2017-10-18  7c396fd4830fd04220f754e42b4e5bff   \n",
       "3                        2017-12-15  7c142cf63193a1473d2e66489a9ae977   \n",
       "5                        2017-08-01  80bb27c7c16e8f973207a5086ab329e2   \n",
       "7                        2017-06-07  932afa1e708222e5821dac9cd5db4cae   \n",
       "8                        2017-03-06  39382392765b6dc74812866ee5ee92a7   \n",
       "...                             ...                               ...   \n",
       "99433                    2017-11-07  c716cf2b5b86fb24257cffe9e7969df8   \n",
       "99434                    2017-03-17  e03dbdf5e56c96b106d8115ac336f47f   \n",
       "99435                    2017-03-22  831ce3f1bacbd424fc4e38fbd4d66d29   \n",
       "99436                    2017-03-28  6359f309b166b0196dbf7ad2ac62bb5a   \n",
       "99438                    2017-09-27  737520a9aad80b3fbbdad19b66b37b30   \n",
       "\n",
       "       customer_zip_code_prefix            customer_city customer_state  year  \n",
       "0                          3149                sao paulo             SP  2017  \n",
       "3                         59296  sao goncalo do amarante             RN  2017  \n",
       "5                         86320             congonhinhas             PR  2017  \n",
       "7                         26525                nilopolis             RJ  2017  \n",
       "8                         99655             faxinalzinho             RS  2017  \n",
       "...                         ...                      ...            ...   ...  \n",
       "99433                     78048                   cuiaba             MT  2017  \n",
       "99434                     35502              divinopolis             MG  2017  \n",
       "99435                      5127                sao paulo             SP  2017  \n",
       "99436                     12209      sao jose dos campos             SP  2017  \n",
       "99438                     45920              nova vicosa             BA  2017  \n",
       "\n",
       "[43426 rows x 13 columns]"
      ]
     },
     "execution_count": 73,
     "metadata": {},
     "output_type": "execute_result"
    }
   ],
   "source": [
    "df_cohort"
   ]
  },
  {
   "cell_type": "code",
   "execution_count": null,
   "metadata": {
    "id": "IGXLIzZD1GwN"
   },
   "outputs": [],
   "source": [
    "# сохраняем только релевантные столбцы - юники и дата заказа\n",
    "df = df_cohort[['customer_unique_id', 'order_purchase_timestamp']]"
   ]
  },
  {
   "cell_type": "code",
   "execution_count": null,
   "metadata": {
    "id": "POLaGFzL1GwN",
    "outputId": "cbc6eafe-671f-49e1-e7e7-5fb50c8c1166"
   },
   "outputs": [
    {
     "name": "stderr",
     "output_type": "stream",
     "text": [
      "/opt/tljh/user/lib/python3.7/site-packages/ipykernel_launcher.py:4: SettingWithCopyWarning: \n",
      "A value is trying to be set on a copy of a slice from a DataFrame.\n",
      "Try using .loc[row_indexer,col_indexer] = value instead\n",
      "\n",
      "See the caveats in the documentation: https://pandas.pydata.org/pandas-docs/stable/user_guide/indexing.html#returning-a-view-versus-a-copy\n",
      "  after removing the cwd from sys.path.\n"
     ]
    }
   ],
   "source": [
    "# создадим колонку с указанием когорты (месячная когорта на основе даты первой покупки)\n",
    "df['cohort'] = df.groupby('customer_unique_id')['order_purchase_timestamp'] \\\n",
    ".transform('min') \\\n",
    ".dt.to_period('M')"
   ]
  },
  {
   "cell_type": "code",
   "execution_count": null,
   "metadata": {
    "id": "R-FWh0IM1GwN",
    "outputId": "140225ca-efd3-4044-d8e8-3d3b4e099294"
   },
   "outputs": [
    {
     "name": "stderr",
     "output_type": "stream",
     "text": [
      "/opt/tljh/user/lib/python3.7/site-packages/ipykernel_launcher.py:2: SettingWithCopyWarning: \n",
      "A value is trying to be set on a copy of a slice from a DataFrame.\n",
      "Try using .loc[row_indexer,col_indexer] = value instead\n",
      "\n",
      "See the caveats in the documentation: https://pandas.pydata.org/pandas-docs/stable/user_guide/indexing.html#returning-a-view-versus-a-copy\n",
      "  \n"
     ]
    }
   ],
   "source": [
    "# добавим усеченный месяц даты покупки\n",
    "df['order_month'] = df['order_purchase_timestamp'].dt.to_period('M')"
   ]
  },
  {
   "cell_type": "code",
   "execution_count": null,
   "metadata": {
    "id": "1fMkWk1X1GwN",
    "outputId": "b135ea7e-0c2b-427d-8a26-f1d614a7d4af"
   },
   "outputs": [
    {
     "data": {
      "text/html": [
       "<div>\n",
       "<style scoped>\n",
       "    .dataframe tbody tr th:only-of-type {\n",
       "        vertical-align: middle;\n",
       "    }\n",
       "\n",
       "    .dataframe tbody tr th {\n",
       "        vertical-align: top;\n",
       "    }\n",
       "\n",
       "    .dataframe thead th {\n",
       "        text-align: right;\n",
       "    }\n",
       "</style>\n",
       "<table border=\"1\" class=\"dataframe\">\n",
       "  <thead>\n",
       "    <tr style=\"text-align: right;\">\n",
       "      <th></th>\n",
       "      <th>customer_unique_id</th>\n",
       "      <th>order_purchase_timestamp</th>\n",
       "      <th>cohort</th>\n",
       "      <th>order_month</th>\n",
       "    </tr>\n",
       "  </thead>\n",
       "  <tbody>\n",
       "    <tr>\n",
       "      <th>0</th>\n",
       "      <td>7c396fd4830fd04220f754e42b4e5bff</td>\n",
       "      <td>2017-10-02 10:56:33</td>\n",
       "      <td>2017-09</td>\n",
       "      <td>2017-10</td>\n",
       "    </tr>\n",
       "    <tr>\n",
       "      <th>3</th>\n",
       "      <td>7c142cf63193a1473d2e66489a9ae977</td>\n",
       "      <td>2017-11-18 19:28:06</td>\n",
       "      <td>2017-11</td>\n",
       "      <td>2017-11</td>\n",
       "    </tr>\n",
       "    <tr>\n",
       "      <th>5</th>\n",
       "      <td>80bb27c7c16e8f973207a5086ab329e2</td>\n",
       "      <td>2017-07-09 21:57:05</td>\n",
       "      <td>2017-07</td>\n",
       "      <td>2017-07</td>\n",
       "    </tr>\n",
       "    <tr>\n",
       "      <th>7</th>\n",
       "      <td>932afa1e708222e5821dac9cd5db4cae</td>\n",
       "      <td>2017-05-16 13:10:30</td>\n",
       "      <td>2017-05</td>\n",
       "      <td>2017-05</td>\n",
       "    </tr>\n",
       "    <tr>\n",
       "      <th>8</th>\n",
       "      <td>39382392765b6dc74812866ee5ee92a7</td>\n",
       "      <td>2017-01-23 18:29:09</td>\n",
       "      <td>2017-01</td>\n",
       "      <td>2017-01</td>\n",
       "    </tr>\n",
       "    <tr>\n",
       "      <th>...</th>\n",
       "      <td>...</td>\n",
       "      <td>...</td>\n",
       "      <td>...</td>\n",
       "      <td>...</td>\n",
       "    </tr>\n",
       "    <tr>\n",
       "      <th>99433</th>\n",
       "      <td>c716cf2b5b86fb24257cffe9e7969df8</td>\n",
       "      <td>2017-10-04 19:57:37</td>\n",
       "      <td>2017-10</td>\n",
       "      <td>2017-10</td>\n",
       "    </tr>\n",
       "    <tr>\n",
       "      <th>99434</th>\n",
       "      <td>e03dbdf5e56c96b106d8115ac336f47f</td>\n",
       "      <td>2017-01-27 00:30:03</td>\n",
       "      <td>2017-01</td>\n",
       "      <td>2017-01</td>\n",
       "    </tr>\n",
       "    <tr>\n",
       "      <th>99435</th>\n",
       "      <td>831ce3f1bacbd424fc4e38fbd4d66d29</td>\n",
       "      <td>2017-02-23 09:05:12</td>\n",
       "      <td>2017-02</td>\n",
       "      <td>2017-02</td>\n",
       "    </tr>\n",
       "    <tr>\n",
       "      <th>99436</th>\n",
       "      <td>6359f309b166b0196dbf7ad2ac62bb5a</td>\n",
       "      <td>2017-03-09 09:54:05</td>\n",
       "      <td>2017-03</td>\n",
       "      <td>2017-03</td>\n",
       "    </tr>\n",
       "    <tr>\n",
       "      <th>99438</th>\n",
       "      <td>737520a9aad80b3fbbdad19b66b37b30</td>\n",
       "      <td>2017-08-27 14:46:43</td>\n",
       "      <td>2017-08</td>\n",
       "      <td>2017-08</td>\n",
       "    </tr>\n",
       "  </tbody>\n",
       "</table>\n",
       "<p>43426 rows × 4 columns</p>\n",
       "</div>"
      ],
      "text/plain": [
       "                     customer_unique_id order_purchase_timestamp   cohort  \\\n",
       "0      7c396fd4830fd04220f754e42b4e5bff      2017-10-02 10:56:33  2017-09   \n",
       "3      7c142cf63193a1473d2e66489a9ae977      2017-11-18 19:28:06  2017-11   \n",
       "5      80bb27c7c16e8f973207a5086ab329e2      2017-07-09 21:57:05  2017-07   \n",
       "7      932afa1e708222e5821dac9cd5db4cae      2017-05-16 13:10:30  2017-05   \n",
       "8      39382392765b6dc74812866ee5ee92a7      2017-01-23 18:29:09  2017-01   \n",
       "...                                 ...                      ...      ...   \n",
       "99433  c716cf2b5b86fb24257cffe9e7969df8      2017-10-04 19:57:37  2017-10   \n",
       "99434  e03dbdf5e56c96b106d8115ac336f47f      2017-01-27 00:30:03  2017-01   \n",
       "99435  831ce3f1bacbd424fc4e38fbd4d66d29      2017-02-23 09:05:12  2017-02   \n",
       "99436  6359f309b166b0196dbf7ad2ac62bb5a      2017-03-09 09:54:05  2017-03   \n",
       "99438  737520a9aad80b3fbbdad19b66b37b30      2017-08-27 14:46:43  2017-08   \n",
       "\n",
       "      order_month  \n",
       "0         2017-10  \n",
       "3         2017-11  \n",
       "5         2017-07  \n",
       "7         2017-05  \n",
       "8         2017-01  \n",
       "...           ...  \n",
       "99433     2017-10  \n",
       "99434     2017-01  \n",
       "99435     2017-02  \n",
       "99436     2017-03  \n",
       "99438     2017-08  \n",
       "\n",
       "[43426 rows x 4 columns]"
      ]
     },
     "execution_count": 77,
     "metadata": {},
     "output_type": "execute_result"
    }
   ],
   "source": [
    "df"
   ]
  },
  {
   "cell_type": "code",
   "execution_count": null,
   "metadata": {
    "id": "9xICmYv91GwN"
   },
   "outputs": [],
   "source": [
    "# посчитаем распределение юников по когортам\n",
    "df1 = df.groupby(['cohort', 'order_month']) \\\n",
    ".agg({'customer_unique_id' : 'nunique'}) \\\n",
    ".rename(columns = {'customer_unique_id' : 'n_customers'}) \\\n",
    ".reset_index(drop = False)"
   ]
  },
  {
   "cell_type": "code",
   "execution_count": null,
   "metadata": {
    "id": "JgS5N7-L1GwO",
    "outputId": "83fe7af6-74c3-4576-990e-1c6e3cd49bd4"
   },
   "outputs": [
    {
     "data": {
      "text/html": [
       "<div>\n",
       "<style scoped>\n",
       "    .dataframe tbody tr th:only-of-type {\n",
       "        vertical-align: middle;\n",
       "    }\n",
       "\n",
       "    .dataframe tbody tr th {\n",
       "        vertical-align: top;\n",
       "    }\n",
       "\n",
       "    .dataframe thead th {\n",
       "        text-align: right;\n",
       "    }\n",
       "</style>\n",
       "<table border=\"1\" class=\"dataframe\">\n",
       "  <thead>\n",
       "    <tr style=\"text-align: right;\">\n",
       "      <th></th>\n",
       "      <th>cohort</th>\n",
       "      <th>order_month</th>\n",
       "      <th>n_customers</th>\n",
       "    </tr>\n",
       "  </thead>\n",
       "  <tbody>\n",
       "    <tr>\n",
       "      <th>0</th>\n",
       "      <td>2017-01</td>\n",
       "      <td>2017-01</td>\n",
       "      <td>718</td>\n",
       "    </tr>\n",
       "    <tr>\n",
       "      <th>1</th>\n",
       "      <td>2017-01</td>\n",
       "      <td>2017-02</td>\n",
       "      <td>2</td>\n",
       "    </tr>\n",
       "    <tr>\n",
       "      <th>2</th>\n",
       "      <td>2017-01</td>\n",
       "      <td>2017-03</td>\n",
       "      <td>2</td>\n",
       "    </tr>\n",
       "    <tr>\n",
       "      <th>3</th>\n",
       "      <td>2017-01</td>\n",
       "      <td>2017-04</td>\n",
       "      <td>1</td>\n",
       "    </tr>\n",
       "    <tr>\n",
       "      <th>4</th>\n",
       "      <td>2017-01</td>\n",
       "      <td>2017-05</td>\n",
       "      <td>3</td>\n",
       "    </tr>\n",
       "    <tr>\n",
       "      <th>...</th>\n",
       "      <td>...</td>\n",
       "      <td>...</td>\n",
       "      <td>...</td>\n",
       "    </tr>\n",
       "    <tr>\n",
       "      <th>72</th>\n",
       "      <td>2017-10</td>\n",
       "      <td>2017-11</td>\n",
       "      <td>31</td>\n",
       "    </tr>\n",
       "    <tr>\n",
       "      <th>73</th>\n",
       "      <td>2017-10</td>\n",
       "      <td>2017-12</td>\n",
       "      <td>11</td>\n",
       "    </tr>\n",
       "    <tr>\n",
       "      <th>74</th>\n",
       "      <td>2017-11</td>\n",
       "      <td>2017-11</td>\n",
       "      <td>7060</td>\n",
       "    </tr>\n",
       "    <tr>\n",
       "      <th>75</th>\n",
       "      <td>2017-11</td>\n",
       "      <td>2017-12</td>\n",
       "      <td>40</td>\n",
       "    </tr>\n",
       "    <tr>\n",
       "      <th>76</th>\n",
       "      <td>2017-12</td>\n",
       "      <td>2017-12</td>\n",
       "      <td>5338</td>\n",
       "    </tr>\n",
       "  </tbody>\n",
       "</table>\n",
       "<p>77 rows × 3 columns</p>\n",
       "</div>"
      ],
      "text/plain": [
       "     cohort order_month  n_customers\n",
       "0   2017-01     2017-01          718\n",
       "1   2017-01     2017-02            2\n",
       "2   2017-01     2017-03            2\n",
       "3   2017-01     2017-04            1\n",
       "4   2017-01     2017-05            3\n",
       "..      ...         ...          ...\n",
       "72  2017-10     2017-11           31\n",
       "73  2017-10     2017-12           11\n",
       "74  2017-11     2017-11         7060\n",
       "75  2017-11     2017-12           40\n",
       "76  2017-12     2017-12         5338\n",
       "\n",
       "[77 rows x 3 columns]"
      ]
     },
     "execution_count": 79,
     "metadata": {},
     "output_type": "execute_result"
    }
   ],
   "source": [
    "df1"
   ]
  },
  {
   "cell_type": "code",
   "execution_count": null,
   "metadata": {
    "id": "n77u9xVd1GwO"
   },
   "outputs": [],
   "source": [
    "df1['period_number'] = (df1.order_month - df1.cohort).apply(attrgetter('n'))"
   ]
  },
  {
   "cell_type": "code",
   "execution_count": null,
   "metadata": {
    "id": "oPbcClbc1GwO",
    "outputId": "36b5fdbc-ba68-48d4-e8e4-bae15a8265b0"
   },
   "outputs": [
    {
     "data": {
      "text/html": [
       "<div>\n",
       "<style scoped>\n",
       "    .dataframe tbody tr th:only-of-type {\n",
       "        vertical-align: middle;\n",
       "    }\n",
       "\n",
       "    .dataframe tbody tr th {\n",
       "        vertical-align: top;\n",
       "    }\n",
       "\n",
       "    .dataframe thead th {\n",
       "        text-align: right;\n",
       "    }\n",
       "</style>\n",
       "<table border=\"1\" class=\"dataframe\">\n",
       "  <thead>\n",
       "    <tr style=\"text-align: right;\">\n",
       "      <th></th>\n",
       "      <th>cohort</th>\n",
       "      <th>order_month</th>\n",
       "      <th>n_customers</th>\n",
       "      <th>period_number</th>\n",
       "    </tr>\n",
       "  </thead>\n",
       "  <tbody>\n",
       "    <tr>\n",
       "      <th>0</th>\n",
       "      <td>2017-01</td>\n",
       "      <td>2017-01</td>\n",
       "      <td>718</td>\n",
       "      <td>0</td>\n",
       "    </tr>\n",
       "    <tr>\n",
       "      <th>1</th>\n",
       "      <td>2017-01</td>\n",
       "      <td>2017-02</td>\n",
       "      <td>2</td>\n",
       "      <td>1</td>\n",
       "    </tr>\n",
       "    <tr>\n",
       "      <th>2</th>\n",
       "      <td>2017-01</td>\n",
       "      <td>2017-03</td>\n",
       "      <td>2</td>\n",
       "      <td>2</td>\n",
       "    </tr>\n",
       "    <tr>\n",
       "      <th>3</th>\n",
       "      <td>2017-01</td>\n",
       "      <td>2017-04</td>\n",
       "      <td>1</td>\n",
       "      <td>3</td>\n",
       "    </tr>\n",
       "    <tr>\n",
       "      <th>4</th>\n",
       "      <td>2017-01</td>\n",
       "      <td>2017-05</td>\n",
       "      <td>3</td>\n",
       "      <td>4</td>\n",
       "    </tr>\n",
       "    <tr>\n",
       "      <th>...</th>\n",
       "      <td>...</td>\n",
       "      <td>...</td>\n",
       "      <td>...</td>\n",
       "      <td>...</td>\n",
       "    </tr>\n",
       "    <tr>\n",
       "      <th>72</th>\n",
       "      <td>2017-10</td>\n",
       "      <td>2017-11</td>\n",
       "      <td>31</td>\n",
       "      <td>1</td>\n",
       "    </tr>\n",
       "    <tr>\n",
       "      <th>73</th>\n",
       "      <td>2017-10</td>\n",
       "      <td>2017-12</td>\n",
       "      <td>11</td>\n",
       "      <td>2</td>\n",
       "    </tr>\n",
       "    <tr>\n",
       "      <th>74</th>\n",
       "      <td>2017-11</td>\n",
       "      <td>2017-11</td>\n",
       "      <td>7060</td>\n",
       "      <td>0</td>\n",
       "    </tr>\n",
       "    <tr>\n",
       "      <th>75</th>\n",
       "      <td>2017-11</td>\n",
       "      <td>2017-12</td>\n",
       "      <td>40</td>\n",
       "      <td>1</td>\n",
       "    </tr>\n",
       "    <tr>\n",
       "      <th>76</th>\n",
       "      <td>2017-12</td>\n",
       "      <td>2017-12</td>\n",
       "      <td>5338</td>\n",
       "      <td>0</td>\n",
       "    </tr>\n",
       "  </tbody>\n",
       "</table>\n",
       "<p>77 rows × 4 columns</p>\n",
       "</div>"
      ],
      "text/plain": [
       "     cohort order_month  n_customers  period_number\n",
       "0   2017-01     2017-01          718              0\n",
       "1   2017-01     2017-02            2              1\n",
       "2   2017-01     2017-03            2              2\n",
       "3   2017-01     2017-04            1              3\n",
       "4   2017-01     2017-05            3              4\n",
       "..      ...         ...          ...            ...\n",
       "72  2017-10     2017-11           31              1\n",
       "73  2017-10     2017-12           11              2\n",
       "74  2017-11     2017-11         7060              0\n",
       "75  2017-11     2017-12           40              1\n",
       "76  2017-12     2017-12         5338              0\n",
       "\n",
       "[77 rows x 4 columns]"
      ]
     },
     "execution_count": 81,
     "metadata": {},
     "output_type": "execute_result"
    }
   ],
   "source": [
    "df1"
   ]
  },
  {
   "cell_type": "code",
   "execution_count": null,
   "metadata": {
    "id": "VYKguhFT1GwO"
   },
   "outputs": [],
   "source": [
    "df_cohort_pivot = df1.pivot_table(index = 'cohort',\n",
    "                                     columns = 'period_number',\n",
    "                                     values = 'n_customers')"
   ]
  },
  {
   "cell_type": "code",
   "execution_count": null,
   "metadata": {
    "id": "63k1PtoT1GwO",
    "outputId": "68e6d6d7-3f9c-49f1-9d01-308d3cae0409"
   },
   "outputs": [
    {
     "data": {
      "text/html": [
       "<div>\n",
       "<style scoped>\n",
       "    .dataframe tbody tr th:only-of-type {\n",
       "        vertical-align: middle;\n",
       "    }\n",
       "\n",
       "    .dataframe tbody tr th {\n",
       "        vertical-align: top;\n",
       "    }\n",
       "\n",
       "    .dataframe thead th {\n",
       "        text-align: right;\n",
       "    }\n",
       "</style>\n",
       "<table border=\"1\" class=\"dataframe\">\n",
       "  <thead>\n",
       "    <tr style=\"text-align: right;\">\n",
       "      <th>period_number</th>\n",
       "      <th>0</th>\n",
       "      <th>1</th>\n",
       "      <th>2</th>\n",
       "      <th>3</th>\n",
       "      <th>4</th>\n",
       "      <th>5</th>\n",
       "      <th>6</th>\n",
       "      <th>7</th>\n",
       "      <th>8</th>\n",
       "      <th>9</th>\n",
       "      <th>10</th>\n",
       "      <th>11</th>\n",
       "    </tr>\n",
       "    <tr>\n",
       "      <th>cohort</th>\n",
       "      <th></th>\n",
       "      <th></th>\n",
       "      <th></th>\n",
       "      <th></th>\n",
       "      <th></th>\n",
       "      <th></th>\n",
       "      <th></th>\n",
       "      <th></th>\n",
       "      <th></th>\n",
       "      <th></th>\n",
       "      <th></th>\n",
       "      <th></th>\n",
       "    </tr>\n",
       "  </thead>\n",
       "  <tbody>\n",
       "    <tr>\n",
       "      <th>2017-01</th>\n",
       "      <td>718.0</td>\n",
       "      <td>2.0</td>\n",
       "      <td>2.0</td>\n",
       "      <td>1.0</td>\n",
       "      <td>3.0</td>\n",
       "      <td>1.0</td>\n",
       "      <td>3.0</td>\n",
       "      <td>1.0</td>\n",
       "      <td>1.0</td>\n",
       "      <td>NaN</td>\n",
       "      <td>3.0</td>\n",
       "      <td>1.0</td>\n",
       "    </tr>\n",
       "    <tr>\n",
       "      <th>2017-02</th>\n",
       "      <td>1628.0</td>\n",
       "      <td>3.0</td>\n",
       "      <td>5.0</td>\n",
       "      <td>2.0</td>\n",
       "      <td>7.0</td>\n",
       "      <td>2.0</td>\n",
       "      <td>4.0</td>\n",
       "      <td>3.0</td>\n",
       "      <td>2.0</td>\n",
       "      <td>3.0</td>\n",
       "      <td>2.0</td>\n",
       "      <td>NaN</td>\n",
       "    </tr>\n",
       "    <tr>\n",
       "      <th>2017-03</th>\n",
       "      <td>2503.0</td>\n",
       "      <td>11.0</td>\n",
       "      <td>9.0</td>\n",
       "      <td>10.0</td>\n",
       "      <td>9.0</td>\n",
       "      <td>4.0</td>\n",
       "      <td>4.0</td>\n",
       "      <td>8.0</td>\n",
       "      <td>8.0</td>\n",
       "      <td>2.0</td>\n",
       "      <td>NaN</td>\n",
       "      <td>NaN</td>\n",
       "    </tr>\n",
       "    <tr>\n",
       "      <th>2017-04</th>\n",
       "      <td>2257.0</td>\n",
       "      <td>14.0</td>\n",
       "      <td>5.0</td>\n",
       "      <td>4.0</td>\n",
       "      <td>6.0</td>\n",
       "      <td>6.0</td>\n",
       "      <td>8.0</td>\n",
       "      <td>7.0</td>\n",
       "      <td>7.0</td>\n",
       "      <td>NaN</td>\n",
       "      <td>NaN</td>\n",
       "      <td>NaN</td>\n",
       "    </tr>\n",
       "    <tr>\n",
       "      <th>2017-05</th>\n",
       "      <td>3450.0</td>\n",
       "      <td>16.0</td>\n",
       "      <td>16.0</td>\n",
       "      <td>10.0</td>\n",
       "      <td>10.0</td>\n",
       "      <td>11.0</td>\n",
       "      <td>14.0</td>\n",
       "      <td>5.0</td>\n",
       "      <td>NaN</td>\n",
       "      <td>NaN</td>\n",
       "      <td>NaN</td>\n",
       "      <td>NaN</td>\n",
       "    </tr>\n",
       "    <tr>\n",
       "      <th>2017-06</th>\n",
       "      <td>3037.0</td>\n",
       "      <td>15.0</td>\n",
       "      <td>12.0</td>\n",
       "      <td>13.0</td>\n",
       "      <td>9.0</td>\n",
       "      <td>12.0</td>\n",
       "      <td>11.0</td>\n",
       "      <td>NaN</td>\n",
       "      <td>NaN</td>\n",
       "      <td>NaN</td>\n",
       "      <td>NaN</td>\n",
       "      <td>NaN</td>\n",
       "    </tr>\n",
       "    <tr>\n",
       "      <th>2017-07</th>\n",
       "      <td>3753.0</td>\n",
       "      <td>20.0</td>\n",
       "      <td>13.0</td>\n",
       "      <td>9.0</td>\n",
       "      <td>11.0</td>\n",
       "      <td>8.0</td>\n",
       "      <td>NaN</td>\n",
       "      <td>NaN</td>\n",
       "      <td>NaN</td>\n",
       "      <td>NaN</td>\n",
       "      <td>NaN</td>\n",
       "      <td>NaN</td>\n",
       "    </tr>\n",
       "    <tr>\n",
       "      <th>2017-08</th>\n",
       "      <td>4057.0</td>\n",
       "      <td>28.0</td>\n",
       "      <td>14.0</td>\n",
       "      <td>11.0</td>\n",
       "      <td>14.0</td>\n",
       "      <td>NaN</td>\n",
       "      <td>NaN</td>\n",
       "      <td>NaN</td>\n",
       "      <td>NaN</td>\n",
       "      <td>NaN</td>\n",
       "      <td>NaN</td>\n",
       "      <td>NaN</td>\n",
       "    </tr>\n",
       "    <tr>\n",
       "      <th>2017-09</th>\n",
       "      <td>4005.0</td>\n",
       "      <td>28.0</td>\n",
       "      <td>22.0</td>\n",
       "      <td>11.0</td>\n",
       "      <td>NaN</td>\n",
       "      <td>NaN</td>\n",
       "      <td>NaN</td>\n",
       "      <td>NaN</td>\n",
       "      <td>NaN</td>\n",
       "      <td>NaN</td>\n",
       "      <td>NaN</td>\n",
       "      <td>NaN</td>\n",
       "    </tr>\n",
       "    <tr>\n",
       "      <th>2017-10</th>\n",
       "      <td>4328.0</td>\n",
       "      <td>31.0</td>\n",
       "      <td>11.0</td>\n",
       "      <td>NaN</td>\n",
       "      <td>NaN</td>\n",
       "      <td>NaN</td>\n",
       "      <td>NaN</td>\n",
       "      <td>NaN</td>\n",
       "      <td>NaN</td>\n",
       "      <td>NaN</td>\n",
       "      <td>NaN</td>\n",
       "      <td>NaN</td>\n",
       "    </tr>\n",
       "    <tr>\n",
       "      <th>2017-11</th>\n",
       "      <td>7060.0</td>\n",
       "      <td>40.0</td>\n",
       "      <td>NaN</td>\n",
       "      <td>NaN</td>\n",
       "      <td>NaN</td>\n",
       "      <td>NaN</td>\n",
       "      <td>NaN</td>\n",
       "      <td>NaN</td>\n",
       "      <td>NaN</td>\n",
       "      <td>NaN</td>\n",
       "      <td>NaN</td>\n",
       "      <td>NaN</td>\n",
       "    </tr>\n",
       "    <tr>\n",
       "      <th>2017-12</th>\n",
       "      <td>5338.0</td>\n",
       "      <td>NaN</td>\n",
       "      <td>NaN</td>\n",
       "      <td>NaN</td>\n",
       "      <td>NaN</td>\n",
       "      <td>NaN</td>\n",
       "      <td>NaN</td>\n",
       "      <td>NaN</td>\n",
       "      <td>NaN</td>\n",
       "      <td>NaN</td>\n",
       "      <td>NaN</td>\n",
       "      <td>NaN</td>\n",
       "    </tr>\n",
       "  </tbody>\n",
       "</table>\n",
       "</div>"
      ],
      "text/plain": [
       "period_number      0     1     2     3     4     5     6    7    8    9    10  \\\n",
       "cohort                                                                          \n",
       "2017-01         718.0   2.0   2.0   1.0   3.0   1.0   3.0  1.0  1.0  NaN  3.0   \n",
       "2017-02        1628.0   3.0   5.0   2.0   7.0   2.0   4.0  3.0  2.0  3.0  2.0   \n",
       "2017-03        2503.0  11.0   9.0  10.0   9.0   4.0   4.0  8.0  8.0  2.0  NaN   \n",
       "2017-04        2257.0  14.0   5.0   4.0   6.0   6.0   8.0  7.0  7.0  NaN  NaN   \n",
       "2017-05        3450.0  16.0  16.0  10.0  10.0  11.0  14.0  5.0  NaN  NaN  NaN   \n",
       "2017-06        3037.0  15.0  12.0  13.0   9.0  12.0  11.0  NaN  NaN  NaN  NaN   \n",
       "2017-07        3753.0  20.0  13.0   9.0  11.0   8.0   NaN  NaN  NaN  NaN  NaN   \n",
       "2017-08        4057.0  28.0  14.0  11.0  14.0   NaN   NaN  NaN  NaN  NaN  NaN   \n",
       "2017-09        4005.0  28.0  22.0  11.0   NaN   NaN   NaN  NaN  NaN  NaN  NaN   \n",
       "2017-10        4328.0  31.0  11.0   NaN   NaN   NaN   NaN  NaN  NaN  NaN  NaN   \n",
       "2017-11        7060.0  40.0   NaN   NaN   NaN   NaN   NaN  NaN  NaN  NaN  NaN   \n",
       "2017-12        5338.0   NaN   NaN   NaN   NaN   NaN   NaN  NaN  NaN  NaN  NaN   \n",
       "\n",
       "period_number   11  \n",
       "cohort              \n",
       "2017-01        1.0  \n",
       "2017-02        NaN  \n",
       "2017-03        NaN  \n",
       "2017-04        NaN  \n",
       "2017-05        NaN  \n",
       "2017-06        NaN  \n",
       "2017-07        NaN  \n",
       "2017-08        NaN  \n",
       "2017-09        NaN  \n",
       "2017-10        NaN  \n",
       "2017-11        NaN  \n",
       "2017-12        NaN  "
      ]
     },
     "execution_count": 83,
     "metadata": {},
     "output_type": "execute_result"
    }
   ],
   "source": [
    "df_cohort_pivot"
   ]
  },
  {
   "cell_type": "code",
   "execution_count": null,
   "metadata": {
    "id": "Uxi-QCfY1GwO"
   },
   "outputs": [],
   "source": [
    "# расчитаем ретеншн в процентах, поскольку абсолютные значения крайне невелики\n",
    "cohort_size = df_cohort_pivot.iloc[:,0]\n",
    "retention_matrix = df_cohort_pivot.divide(cohort_size, axis = 0)*100"
   ]
  },
  {
   "cell_type": "code",
   "execution_count": null,
   "metadata": {
    "id": "LdTDIYfF1GwP",
    "outputId": "f8806364-d24a-4dd3-f1fb-4cc5705b965e"
   },
   "outputs": [
    {
     "data": {
      "text/html": [
       "<div>\n",
       "<style scoped>\n",
       "    .dataframe tbody tr th:only-of-type {\n",
       "        vertical-align: middle;\n",
       "    }\n",
       "\n",
       "    .dataframe tbody tr th {\n",
       "        vertical-align: top;\n",
       "    }\n",
       "\n",
       "    .dataframe thead th {\n",
       "        text-align: right;\n",
       "    }\n",
       "</style>\n",
       "<table border=\"1\" class=\"dataframe\">\n",
       "  <thead>\n",
       "    <tr style=\"text-align: right;\">\n",
       "      <th>period_number</th>\n",
       "      <th>0</th>\n",
       "      <th>1</th>\n",
       "      <th>2</th>\n",
       "      <th>3</th>\n",
       "      <th>4</th>\n",
       "      <th>5</th>\n",
       "      <th>6</th>\n",
       "      <th>7</th>\n",
       "      <th>8</th>\n",
       "      <th>9</th>\n",
       "      <th>10</th>\n",
       "      <th>11</th>\n",
       "    </tr>\n",
       "    <tr>\n",
       "      <th>cohort</th>\n",
       "      <th></th>\n",
       "      <th></th>\n",
       "      <th></th>\n",
       "      <th></th>\n",
       "      <th></th>\n",
       "      <th></th>\n",
       "      <th></th>\n",
       "      <th></th>\n",
       "      <th></th>\n",
       "      <th></th>\n",
       "      <th></th>\n",
       "      <th></th>\n",
       "    </tr>\n",
       "  </thead>\n",
       "  <tbody>\n",
       "    <tr>\n",
       "      <th>2017-01</th>\n",
       "      <td>100.0</td>\n",
       "      <td>0.278552</td>\n",
       "      <td>0.278552</td>\n",
       "      <td>0.139276</td>\n",
       "      <td>0.417827</td>\n",
       "      <td>0.139276</td>\n",
       "      <td>0.417827</td>\n",
       "      <td>0.139276</td>\n",
       "      <td>0.139276</td>\n",
       "      <td>NaN</td>\n",
       "      <td>0.417827</td>\n",
       "      <td>0.139276</td>\n",
       "    </tr>\n",
       "    <tr>\n",
       "      <th>2017-02</th>\n",
       "      <td>100.0</td>\n",
       "      <td>0.184275</td>\n",
       "      <td>0.307125</td>\n",
       "      <td>0.122850</td>\n",
       "      <td>0.429975</td>\n",
       "      <td>0.122850</td>\n",
       "      <td>0.245700</td>\n",
       "      <td>0.184275</td>\n",
       "      <td>0.122850</td>\n",
       "      <td>0.184275</td>\n",
       "      <td>0.122850</td>\n",
       "      <td>NaN</td>\n",
       "    </tr>\n",
       "    <tr>\n",
       "      <th>2017-03</th>\n",
       "      <td>100.0</td>\n",
       "      <td>0.439473</td>\n",
       "      <td>0.359569</td>\n",
       "      <td>0.399521</td>\n",
       "      <td>0.359569</td>\n",
       "      <td>0.159808</td>\n",
       "      <td>0.159808</td>\n",
       "      <td>0.319616</td>\n",
       "      <td>0.319616</td>\n",
       "      <td>0.079904</td>\n",
       "      <td>NaN</td>\n",
       "      <td>NaN</td>\n",
       "    </tr>\n",
       "    <tr>\n",
       "      <th>2017-04</th>\n",
       "      <td>100.0</td>\n",
       "      <td>0.620292</td>\n",
       "      <td>0.221533</td>\n",
       "      <td>0.177226</td>\n",
       "      <td>0.265840</td>\n",
       "      <td>0.265840</td>\n",
       "      <td>0.354453</td>\n",
       "      <td>0.310146</td>\n",
       "      <td>0.310146</td>\n",
       "      <td>NaN</td>\n",
       "      <td>NaN</td>\n",
       "      <td>NaN</td>\n",
       "    </tr>\n",
       "    <tr>\n",
       "      <th>2017-05</th>\n",
       "      <td>100.0</td>\n",
       "      <td>0.463768</td>\n",
       "      <td>0.463768</td>\n",
       "      <td>0.289855</td>\n",
       "      <td>0.289855</td>\n",
       "      <td>0.318841</td>\n",
       "      <td>0.405797</td>\n",
       "      <td>0.144928</td>\n",
       "      <td>NaN</td>\n",
       "      <td>NaN</td>\n",
       "      <td>NaN</td>\n",
       "      <td>NaN</td>\n",
       "    </tr>\n",
       "    <tr>\n",
       "      <th>2017-06</th>\n",
       "      <td>100.0</td>\n",
       "      <td>0.493908</td>\n",
       "      <td>0.395127</td>\n",
       "      <td>0.428054</td>\n",
       "      <td>0.296345</td>\n",
       "      <td>0.395127</td>\n",
       "      <td>0.362200</td>\n",
       "      <td>NaN</td>\n",
       "      <td>NaN</td>\n",
       "      <td>NaN</td>\n",
       "      <td>NaN</td>\n",
       "      <td>NaN</td>\n",
       "    </tr>\n",
       "    <tr>\n",
       "      <th>2017-07</th>\n",
       "      <td>100.0</td>\n",
       "      <td>0.532907</td>\n",
       "      <td>0.346390</td>\n",
       "      <td>0.239808</td>\n",
       "      <td>0.293099</td>\n",
       "      <td>0.213163</td>\n",
       "      <td>NaN</td>\n",
       "      <td>NaN</td>\n",
       "      <td>NaN</td>\n",
       "      <td>NaN</td>\n",
       "      <td>NaN</td>\n",
       "      <td>NaN</td>\n",
       "    </tr>\n",
       "    <tr>\n",
       "      <th>2017-08</th>\n",
       "      <td>100.0</td>\n",
       "      <td>0.690165</td>\n",
       "      <td>0.345083</td>\n",
       "      <td>0.271136</td>\n",
       "      <td>0.345083</td>\n",
       "      <td>NaN</td>\n",
       "      <td>NaN</td>\n",
       "      <td>NaN</td>\n",
       "      <td>NaN</td>\n",
       "      <td>NaN</td>\n",
       "      <td>NaN</td>\n",
       "      <td>NaN</td>\n",
       "    </tr>\n",
       "    <tr>\n",
       "      <th>2017-09</th>\n",
       "      <td>100.0</td>\n",
       "      <td>0.699126</td>\n",
       "      <td>0.549313</td>\n",
       "      <td>0.274657</td>\n",
       "      <td>NaN</td>\n",
       "      <td>NaN</td>\n",
       "      <td>NaN</td>\n",
       "      <td>NaN</td>\n",
       "      <td>NaN</td>\n",
       "      <td>NaN</td>\n",
       "      <td>NaN</td>\n",
       "      <td>NaN</td>\n",
       "    </tr>\n",
       "    <tr>\n",
       "      <th>2017-10</th>\n",
       "      <td>100.0</td>\n",
       "      <td>0.716266</td>\n",
       "      <td>0.254159</td>\n",
       "      <td>NaN</td>\n",
       "      <td>NaN</td>\n",
       "      <td>NaN</td>\n",
       "      <td>NaN</td>\n",
       "      <td>NaN</td>\n",
       "      <td>NaN</td>\n",
       "      <td>NaN</td>\n",
       "      <td>NaN</td>\n",
       "      <td>NaN</td>\n",
       "    </tr>\n",
       "    <tr>\n",
       "      <th>2017-11</th>\n",
       "      <td>100.0</td>\n",
       "      <td>0.566572</td>\n",
       "      <td>NaN</td>\n",
       "      <td>NaN</td>\n",
       "      <td>NaN</td>\n",
       "      <td>NaN</td>\n",
       "      <td>NaN</td>\n",
       "      <td>NaN</td>\n",
       "      <td>NaN</td>\n",
       "      <td>NaN</td>\n",
       "      <td>NaN</td>\n",
       "      <td>NaN</td>\n",
       "    </tr>\n",
       "    <tr>\n",
       "      <th>2017-12</th>\n",
       "      <td>100.0</td>\n",
       "      <td>NaN</td>\n",
       "      <td>NaN</td>\n",
       "      <td>NaN</td>\n",
       "      <td>NaN</td>\n",
       "      <td>NaN</td>\n",
       "      <td>NaN</td>\n",
       "      <td>NaN</td>\n",
       "      <td>NaN</td>\n",
       "      <td>NaN</td>\n",
       "      <td>NaN</td>\n",
       "      <td>NaN</td>\n",
       "    </tr>\n",
       "  </tbody>\n",
       "</table>\n",
       "</div>"
      ],
      "text/plain": [
       "period_number     0         1         2         3         4         5   \\\n",
       "cohort                                                                   \n",
       "2017-01        100.0  0.278552  0.278552  0.139276  0.417827  0.139276   \n",
       "2017-02        100.0  0.184275  0.307125  0.122850  0.429975  0.122850   \n",
       "2017-03        100.0  0.439473  0.359569  0.399521  0.359569  0.159808   \n",
       "2017-04        100.0  0.620292  0.221533  0.177226  0.265840  0.265840   \n",
       "2017-05        100.0  0.463768  0.463768  0.289855  0.289855  0.318841   \n",
       "2017-06        100.0  0.493908  0.395127  0.428054  0.296345  0.395127   \n",
       "2017-07        100.0  0.532907  0.346390  0.239808  0.293099  0.213163   \n",
       "2017-08        100.0  0.690165  0.345083  0.271136  0.345083       NaN   \n",
       "2017-09        100.0  0.699126  0.549313  0.274657       NaN       NaN   \n",
       "2017-10        100.0  0.716266  0.254159       NaN       NaN       NaN   \n",
       "2017-11        100.0  0.566572       NaN       NaN       NaN       NaN   \n",
       "2017-12        100.0       NaN       NaN       NaN       NaN       NaN   \n",
       "\n",
       "period_number        6         7         8         9         10        11  \n",
       "cohort                                                                     \n",
       "2017-01        0.417827  0.139276  0.139276       NaN  0.417827  0.139276  \n",
       "2017-02        0.245700  0.184275  0.122850  0.184275  0.122850       NaN  \n",
       "2017-03        0.159808  0.319616  0.319616  0.079904       NaN       NaN  \n",
       "2017-04        0.354453  0.310146  0.310146       NaN       NaN       NaN  \n",
       "2017-05        0.405797  0.144928       NaN       NaN       NaN       NaN  \n",
       "2017-06        0.362200       NaN       NaN       NaN       NaN       NaN  \n",
       "2017-07             NaN       NaN       NaN       NaN       NaN       NaN  \n",
       "2017-08             NaN       NaN       NaN       NaN       NaN       NaN  \n",
       "2017-09             NaN       NaN       NaN       NaN       NaN       NaN  \n",
       "2017-10             NaN       NaN       NaN       NaN       NaN       NaN  \n",
       "2017-11             NaN       NaN       NaN       NaN       NaN       NaN  \n",
       "2017-12             NaN       NaN       NaN       NaN       NaN       NaN  "
      ]
     },
     "execution_count": 85,
     "metadata": {},
     "output_type": "execute_result"
    }
   ],
   "source": [
    "retention_matrix"
   ]
  },
  {
   "cell_type": "code",
   "execution_count": null,
   "metadata": {
    "id": "4vurcpH11GwP",
    "outputId": "8c9d01be-267c-49eb-c340-dec25c57482c"
   },
   "outputs": [
    {
     "data": {
      "image/png": "[encoded data removed]",
      "text/plain": [
       "<Figure size 864x576 with 3 Axes>"
      ]
     },
     "metadata": {},
     "output_type": "display_data"
    }
   ],
   "source": [
    "with sns.axes_style(\"white\"):\n",
    "    fig, ax = plt.subplots(1, 2, figsize=(12, 8), sharey=True, gridspec_kw={'width_ratios': [1, 11]})\n",
    "\n",
    "    # retention matrix\n",
    "    sns.heatmap(retention_matrix,\n",
    "                mask=retention_matrix.isnull(),\n",
    "                annot=True,\n",
    "                fmt='.3g',\n",
    "                cmap=\"viridis\",\n",
    "                ax=ax[1])\n",
    "    ax[1].set_title('Monthly Cohorts: User Retention', fontsize=16)\n",
    "    ax[1].set(xlabel='# of periods',\n",
    "              ylabel='')\n",
    "\n",
    "    # cohort size\n",
    "    cohort_size_df = pd.DataFrame(cohort_size).rename(columns={0: 'cohort_size'})\n",
    "    white_cmap = mcolors.ListedColormap(['white'])\n",
    "    sns.heatmap(cohort_size_df,\n",
    "                annot=True,\n",
    "                cbar=False,\n",
    "                fmt='g',\n",
    "                cmap=\"viridis\",\n",
    "                ax=ax[0])\n",
    "\n",
    "    fig.tight_layout()"
   ]
  },
  {
   "cell_type": "markdown",
   "metadata": {
    "id": "RRzuCg0M1GwP"
   },
   "source": [
    "Мы видим, что при вводной \"покупка = дата доставки + статус\", наибольший ретеншн за 3й месяц приходится на когорту 2017 - 06. Однако нельзя не заметить, что по всему периоду по всем когортам ретеншн крайне невелик."
   ]
  },
  {
   "cell_type": "markdown",
   "metadata": {
    "id": "kxREVOC41GwP"
   },
   "source": [
    "### RFM-сегментация пользователей"
   ]
  },
  {
   "cell_type": "markdown",
   "metadata": {
    "id": "rulUtmqo1GwP"
   },
   "source": [
    "- recency - насколько недавно была совершена последняя покупка клиента (количество дней с момента последней покупки),  \n",
    "- frequency - как часто клиент совершает покупку (количество покупок за исследуемый период (обычно один год)),    \n",
    "- monetary - сколько денег тратит клиент (общая сумма покупок, сделанных за исследуемый период),  \n",
    "- найти квинтили для каждого из этих измерений,  \n",
    "- дайте оценку каждому параметру в зависимости от того, в каком квинтиле он находится,  \n",
    "- объединить баллы R, F и M, чтобы получить балл RFM,  \n",
    "- сопоставить оценки RF с сегментами"
   ]
  },
  {
   "cell_type": "code",
   "execution_count": null,
   "metadata": {
    "id": "2KoLQrTE1GwQ"
   },
   "outputs": [],
   "source": [
    "# поскольку для расчета показателей RFM нам нужны как айдишники заказов и юников, так и цена, смержим все таблицы\n",
    "df = df_items_orders.merge(df_customers)"
   ]
  },
  {
   "cell_type": "code",
   "execution_count": null,
   "metadata": {
    "id": "UFh4nwn51GwQ"
   },
   "outputs": [],
   "source": [
    "# общая дата по совершенным покупкам\n",
    "df = df.query('(order_status == \"delivered\") & (order_delivered_customer_date == order_delivered_customer_date)')"
   ]
  },
  {
   "cell_type": "code",
   "execution_count": null,
   "metadata": {
    "id": "_Fdndk621GwQ"
   },
   "outputs": [],
   "source": [
    "# посмотрим на общие суммы заказов в разрезе пользователей и дат\n",
    "df = df.groupby(['customer_unique_id', 'order_id', 'order_purchase_timestamp'], as_index = False) \\\n",
    ".agg({'price' : 'sum'})"
   ]
  },
  {
   "cell_type": "code",
   "execution_count": null,
   "metadata": {
    "id": "YtZT61C-1GwQ",
    "outputId": "c3b6d417-cdd8-4aab-e876-ee2073be323d"
   },
   "outputs": [
    {
     "name": "stdout",
     "output_type": "stream",
     "text": [
      "Рассматриваемый период с 2017-08-30 15:01:26 по 2018-08-29 15:00:37\n"
     ]
    }
   ],
   "source": [
    "print('Рассматриваемый период с {} по {}'.format(df1['order_purchase_timestamp'].min(),\n",
    "                                    df1['order_purchase_timestamp'].max()))"
   ]
  },
  {
   "cell_type": "code",
   "execution_count": null,
   "metadata": {
    "id": "qLdwV_JR1GwQ"
   },
   "outputs": [],
   "source": [
    "period = 365"
   ]
  },
  {
   "cell_type": "code",
   "execution_count": null,
   "metadata": {
    "id": "kr_6GbeP1GwQ"
   },
   "outputs": [],
   "source": [
    "# так как данные старые, возьмем последнюю дату, от которой считается recency, как максимальную дату в полученном датасете + 1\n",
    "last_date = df['order_purchase_timestamp'].max() + timedelta(days = 1)"
   ]
  },
  {
   "cell_type": "code",
   "execution_count": null,
   "metadata": {
    "id": "D8uV9PAn1GwQ",
    "outputId": "ab89cb56-78a4-4de8-cec4-244154c6fc67"
   },
   "outputs": [
    {
     "data": {
      "text/plain": [
       "Timestamp('2018-08-30 15:00:37')"
      ]
     },
     "execution_count": 118,
     "metadata": {},
     "output_type": "execute_result"
    }
   ],
   "source": [
    "last_date"
   ]
  },
  {
   "cell_type": "code",
   "execution_count": null,
   "metadata": {
    "id": "6GnDl46L1GwR"
   },
   "outputs": [],
   "source": [
    "# порежем датасет по полученной границе периода\n",
    "df = df[df['order_purchase_timestamp'] >= last_date - timedelta(days = period)]"
   ]
  },
  {
   "cell_type": "code",
   "execution_count": null,
   "metadata": {
    "id": "bBoDxuiC1GwR",
    "outputId": "2df7695e-a32a-4507-c35b-2865f8aeea3e"
   },
   "outputs": [
    {
     "data": {
      "text/plain": [
       "Timestamp('2017-08-30 15:01:26')"
      ]
     },
     "execution_count": 120,
     "metadata": {},
     "output_type": "execute_result"
    }
   ],
   "source": [
    "# проверим\n",
    "df.order_purchase_timestamp.min()"
   ]
  },
  {
   "cell_type": "code",
   "execution_count": null,
   "metadata": {
    "id": "o9DAyUz91GwR",
    "outputId": "c1580259-226a-486e-8e13-f3ec577e4243"
   },
   "outputs": [
    {
     "data": {
      "text/plain": [
       "Timestamp('2018-08-29 15:00:37')"
      ]
     },
     "execution_count": 121,
     "metadata": {},
     "output_type": "execute_result"
    }
   ],
   "source": [
    "df.order_purchase_timestamp.max()"
   ]
  },
  {
   "cell_type": "code",
   "execution_count": null,
   "metadata": {
    "id": "gYAEv9eS1GwR",
    "scrolled": true
   },
   "outputs": [],
   "source": [
    "# посчитаем разницу между концом периода и датой заказа\n",
    "df['diff_days'] = df.order_purchase_timestamp.apply(lambda x: (last_date - x).days)"
   ]
  },
  {
   "cell_type": "code",
   "execution_count": null,
   "metadata": {
    "id": "8xSRMg5P1GwR",
    "outputId": "2b4202e8-af05-4e66-8645-2deeec170f0d"
   },
   "outputs": [
    {
     "data": {
      "text/html": [
       "<div>\n",
       "<style scoped>\n",
       "    .dataframe tbody tr th:only-of-type {\n",
       "        vertical-align: middle;\n",
       "    }\n",
       "\n",
       "    .dataframe tbody tr th {\n",
       "        vertical-align: top;\n",
       "    }\n",
       "\n",
       "    .dataframe thead th {\n",
       "        text-align: right;\n",
       "    }\n",
       "</style>\n",
       "<table border=\"1\" class=\"dataframe\">\n",
       "  <thead>\n",
       "    <tr style=\"text-align: right;\">\n",
       "      <th></th>\n",
       "      <th>customer_unique_id</th>\n",
       "      <th>order_id</th>\n",
       "      <th>order_purchase_timestamp</th>\n",
       "      <th>price</th>\n",
       "      <th>diff_days</th>\n",
       "    </tr>\n",
       "  </thead>\n",
       "  <tbody>\n",
       "    <tr>\n",
       "      <th>0</th>\n",
       "      <td>0000366f3b9a7992bf8c76cfdf3221e2</td>\n",
       "      <td>e22acc9c116caa3f2b7121bbb380d08e</td>\n",
       "      <td>2018-05-10 10:56:27</td>\n",
       "      <td>129.90</td>\n",
       "      <td>112</td>\n",
       "    </tr>\n",
       "    <tr>\n",
       "      <th>1</th>\n",
       "      <td>0000b849f77a49e4a4ce2b2a4ca5be3f</td>\n",
       "      <td>3594e05a005ac4d06a72673270ef9ec9</td>\n",
       "      <td>2018-05-07 11:11:27</td>\n",
       "      <td>18.90</td>\n",
       "      <td>115</td>\n",
       "    </tr>\n",
       "    <tr>\n",
       "      <th>3</th>\n",
       "      <td>0000f6ccb0745a6a4b88665a16c9f078</td>\n",
       "      <td>41272756ecddd9a9ed0180413cc22fb6</td>\n",
       "      <td>2017-10-12 20:29:41</td>\n",
       "      <td>25.99</td>\n",
       "      <td>321</td>\n",
       "    </tr>\n",
       "    <tr>\n",
       "      <th>4</th>\n",
       "      <td>0004aac84e0df4da2b147fca70cf8255</td>\n",
       "      <td>d957021f1127559cd947b62533f484f7</td>\n",
       "      <td>2017-11-14 19:45:42</td>\n",
       "      <td>180.00</td>\n",
       "      <td>288</td>\n",
       "    </tr>\n",
       "    <tr>\n",
       "      <th>5</th>\n",
       "      <td>0004bd2a26a76fe21f786e4fbd80607f</td>\n",
       "      <td>3e470077b690ea3e3d501cffb5e0c499</td>\n",
       "      <td>2018-04-05 19:33:16</td>\n",
       "      <td>154.00</td>\n",
       "      <td>146</td>\n",
       "    </tr>\n",
       "    <tr>\n",
       "      <th>...</th>\n",
       "      <td>...</td>\n",
       "      <td>...</td>\n",
       "      <td>...</td>\n",
       "      <td>...</td>\n",
       "      <td>...</td>\n",
       "    </tr>\n",
       "    <tr>\n",
       "      <th>96462</th>\n",
       "      <td>fffa431dd3fcdefea4b1777d114144f2</td>\n",
       "      <td>4f8c4fa99a873ffb8452acc0e0c9c515</td>\n",
       "      <td>2017-10-30 20:39:50</td>\n",
       "      <td>64.99</td>\n",
       "      <td>303</td>\n",
       "    </tr>\n",
       "    <tr>\n",
       "      <th>96463</th>\n",
       "      <td>fffb09418989a0dbff854a28163e47c6</td>\n",
       "      <td>1f5bb5f84797dd4e234479124128b9cc</td>\n",
       "      <td>2017-12-17 19:14:35</td>\n",
       "      <td>58.00</td>\n",
       "      <td>255</td>\n",
       "    </tr>\n",
       "    <tr>\n",
       "      <th>96464</th>\n",
       "      <td>fffbf87b7a1a6fa8b03f081c5f51a201</td>\n",
       "      <td>64397307c6954ae1ad2ad8e791ad8a31</td>\n",
       "      <td>2017-12-27 22:36:41</td>\n",
       "      <td>149.00</td>\n",
       "      <td>245</td>\n",
       "    </tr>\n",
       "    <tr>\n",
       "      <th>96466</th>\n",
       "      <td>fffea47cd6d3cc0a88bd621562a9d061</td>\n",
       "      <td>c71b9252fd7b3b263aaa4cb09319a323</td>\n",
       "      <td>2017-12-10 20:07:56</td>\n",
       "      <td>64.89</td>\n",
       "      <td>262</td>\n",
       "    </tr>\n",
       "    <tr>\n",
       "      <th>96468</th>\n",
       "      <td>ffff5962728ec6157033ef9805bacc48</td>\n",
       "      <td>94d3ee0bc2a0af9d4fa47a4d63616e8d</td>\n",
       "      <td>2018-05-02 15:17:41</td>\n",
       "      <td>115.00</td>\n",
       "      <td>119</td>\n",
       "    </tr>\n",
       "  </tbody>\n",
       "</table>\n",
       "<p>74428 rows × 5 columns</p>\n",
       "</div>"
      ],
      "text/plain": [
       "                     customer_unique_id                          order_id  \\\n",
       "0      0000366f3b9a7992bf8c76cfdf3221e2  e22acc9c116caa3f2b7121bbb380d08e   \n",
       "1      0000b849f77a49e4a4ce2b2a4ca5be3f  3594e05a005ac4d06a72673270ef9ec9   \n",
       "3      0000f6ccb0745a6a4b88665a16c9f078  41272756ecddd9a9ed0180413cc22fb6   \n",
       "4      0004aac84e0df4da2b147fca70cf8255  d957021f1127559cd947b62533f484f7   \n",
       "5      0004bd2a26a76fe21f786e4fbd80607f  3e470077b690ea3e3d501cffb5e0c499   \n",
       "...                                 ...                               ...   \n",
       "96462  fffa431dd3fcdefea4b1777d114144f2  4f8c4fa99a873ffb8452acc0e0c9c515   \n",
       "96463  fffb09418989a0dbff854a28163e47c6  1f5bb5f84797dd4e234479124128b9cc   \n",
       "96464  fffbf87b7a1a6fa8b03f081c5f51a201  64397307c6954ae1ad2ad8e791ad8a31   \n",
       "96466  fffea47cd6d3cc0a88bd621562a9d061  c71b9252fd7b3b263aaa4cb09319a323   \n",
       "96468  ffff5962728ec6157033ef9805bacc48  94d3ee0bc2a0af9d4fa47a4d63616e8d   \n",
       "\n",
       "      order_purchase_timestamp   price  diff_days  \n",
       "0          2018-05-10 10:56:27  129.90        112  \n",
       "1          2018-05-07 11:11:27   18.90        115  \n",
       "3          2017-10-12 20:29:41   25.99        321  \n",
       "4          2017-11-14 19:45:42  180.00        288  \n",
       "5          2018-04-05 19:33:16  154.00        146  \n",
       "...                        ...     ...        ...  \n",
       "96462      2017-10-30 20:39:50   64.99        303  \n",
       "96463      2017-12-17 19:14:35   58.00        255  \n",
       "96464      2017-12-27 22:36:41  149.00        245  \n",
       "96466      2017-12-10 20:07:56   64.89        262  \n",
       "96468      2018-05-02 15:17:41  115.00        119  \n",
       "\n",
       "[74428 rows x 5 columns]"
      ]
     },
     "execution_count": 123,
     "metadata": {},
     "output_type": "execute_result"
    }
   ],
   "source": [
    "df"
   ]
  },
  {
   "cell_type": "code",
   "execution_count": null,
   "metadata": {
    "id": "B8F44oM91GwR"
   },
   "outputs": [],
   "source": [
    "# recency - насколько недавно была совершена последняя покупка клиента (количество дней с момента последней покупки минимальное):\n",
    "df_recency = df.groupby('customer_unique_id', as_index = False) \\\n",
    ".agg({'diff_days' : 'min'}) \\\n",
    ".rename(columns = {'diff_days' : 'recency'})"
   ]
  },
  {
   "cell_type": "code",
   "execution_count": null,
   "metadata": {
    "id": "QUTvXDEN1GwS"
   },
   "outputs": [],
   "source": [
    "# frequency - как часто клиент совершает покупку (количество покупок за исследуемый период):\n",
    "df_frequency = df.groupby('customer_unique_id', as_index = False) \\\n",
    ".agg({'order_id' : 'count'}) \\\n",
    ".rename(columns = {'order_id' : 'frequency'})"
   ]
  },
  {
   "cell_type": "code",
   "execution_count": null,
   "metadata": {
    "id": "lYrTpl9T1GwS"
   },
   "outputs": [],
   "source": [
    "# monetary - сколько денег тратит клиент (общая сумма покупок, сделанных за исследуемый период):\n",
    "df_monetary = df.groupby('customer_unique_id', as_index = False) \\\n",
    ".agg({'price' : 'sum'}) \\\n",
    ".rename(columns = {'price' : 'monetary'})"
   ]
  },
  {
   "cell_type": "code",
   "execution_count": null,
   "metadata": {
    "id": "HfT5WbMm1GwS"
   },
   "outputs": [],
   "source": [
    "df_rec_freq = df_recency.merge(df_frequency)"
   ]
  },
  {
   "cell_type": "code",
   "execution_count": null,
   "metadata": {
    "id": "Loy5O-0P1GwS"
   },
   "outputs": [],
   "source": [
    "df_rfm = df_rec_freq.merge(df_monetary)"
   ]
  },
  {
   "cell_type": "code",
   "execution_count": null,
   "metadata": {
    "id": "H5NxaWyS1GwS",
    "outputId": "e78bdd41-f584-4197-b14b-35f9348ea3e9"
   },
   "outputs": [
    {
     "data": {
      "text/html": [
       "<div>\n",
       "<style scoped>\n",
       "    .dataframe tbody tr th:only-of-type {\n",
       "        vertical-align: middle;\n",
       "    }\n",
       "\n",
       "    .dataframe tbody tr th {\n",
       "        vertical-align: top;\n",
       "    }\n",
       "\n",
       "    .dataframe thead th {\n",
       "        text-align: right;\n",
       "    }\n",
       "</style>\n",
       "<table border=\"1\" class=\"dataframe\">\n",
       "  <thead>\n",
       "    <tr style=\"text-align: right;\">\n",
       "      <th></th>\n",
       "      <th>customer_unique_id</th>\n",
       "      <th>recency</th>\n",
       "      <th>frequency</th>\n",
       "      <th>monetary</th>\n",
       "    </tr>\n",
       "  </thead>\n",
       "  <tbody>\n",
       "    <tr>\n",
       "      <th>0</th>\n",
       "      <td>0000366f3b9a7992bf8c76cfdf3221e2</td>\n",
       "      <td>112</td>\n",
       "      <td>1</td>\n",
       "      <td>129.90</td>\n",
       "    </tr>\n",
       "    <tr>\n",
       "      <th>1</th>\n",
       "      <td>0000b849f77a49e4a4ce2b2a4ca5be3f</td>\n",
       "      <td>115</td>\n",
       "      <td>1</td>\n",
       "      <td>18.90</td>\n",
       "    </tr>\n",
       "    <tr>\n",
       "      <th>2</th>\n",
       "      <td>0000f6ccb0745a6a4b88665a16c9f078</td>\n",
       "      <td>321</td>\n",
       "      <td>1</td>\n",
       "      <td>25.99</td>\n",
       "    </tr>\n",
       "    <tr>\n",
       "      <th>3</th>\n",
       "      <td>0004aac84e0df4da2b147fca70cf8255</td>\n",
       "      <td>288</td>\n",
       "      <td>1</td>\n",
       "      <td>180.00</td>\n",
       "    </tr>\n",
       "    <tr>\n",
       "      <th>4</th>\n",
       "      <td>0004bd2a26a76fe21f786e4fbd80607f</td>\n",
       "      <td>146</td>\n",
       "      <td>1</td>\n",
       "      <td>154.00</td>\n",
       "    </tr>\n",
       "  </tbody>\n",
       "</table>\n",
       "</div>"
      ],
      "text/plain": [
       "                 customer_unique_id  recency  frequency  monetary\n",
       "0  0000366f3b9a7992bf8c76cfdf3221e2      112          1    129.90\n",
       "1  0000b849f77a49e4a4ce2b2a4ca5be3f      115          1     18.90\n",
       "2  0000f6ccb0745a6a4b88665a16c9f078      321          1     25.99\n",
       "3  0004aac84e0df4da2b147fca70cf8255      288          1    180.00\n",
       "4  0004bd2a26a76fe21f786e4fbd80607f      146          1    154.00"
      ]
     },
     "execution_count": 144,
     "metadata": {},
     "output_type": "execute_result"
    }
   ],
   "source": [
    "df_rfm.head()"
   ]
  },
  {
   "cell_type": "markdown",
   "metadata": {
    "id": "HgWmp2-I1GwS"
   },
   "source": [
    "### Исследуем метрики для определения кластеров"
   ]
  },
  {
   "cell_type": "code",
   "execution_count": null,
   "metadata": {
    "id": "tGPrBE3-1GwT",
    "outputId": "5718f7c9-7221-4547-e744-b6ab90bc92f5"
   },
   "outputs": [
    {
     "data": {
      "text/plain": [
       "<matplotlib.axes._subplots.AxesSubplot at 0x7f1f0117b3c8>"
      ]
     },
     "execution_count": 138,
     "metadata": {},
     "output_type": "execute_result"
    },
    {
     "data": {
      "image/png": "[encoded data removed]",
      "text/plain": [
       "<Figure size 432x288 with 1 Axes>"
      ]
     },
     "metadata": {
      "needs_background": "light"
     },
     "output_type": "display_data"
    }
   ],
   "source": [
    "df_rfm.recency.hist()"
   ]
  },
  {
   "cell_type": "code",
   "execution_count": null,
   "metadata": {
    "id": "YzfCHYy81GwT",
    "outputId": "2f387f8c-d0cb-4569-f54f-22d641d3d9f9"
   },
   "outputs": [
    {
     "data": {
      "text/plain": [
       "count    72456.000000\n",
       "mean       173.162085\n",
       "std         99.777739\n",
       "min          1.000000\n",
       "25%         88.000000\n",
       "50%        172.000000\n",
       "75%        261.000000\n",
       "max        364.000000\n",
       "Name: recency, dtype: float64"
      ]
     },
     "execution_count": 147,
     "metadata": {},
     "output_type": "execute_result"
    }
   ],
   "source": [
    "df_rfm.recency.describe()"
   ]
  },
  {
   "cell_type": "markdown",
   "metadata": {
    "id": "FkLWgTyH1GwT"
   },
   "source": [
    "recency - показатель удаленности последней покупки. Получается, что у 25% наших клиентов последний заказ был в течение последних трех месяцев, у 50% - в последние полгода, у 75% - в последние 7 месяцев, и у оставшихся - в первое полугодие. Видится три явных группы:  \n",
    "- 0,25 (полседние три месяца купили),\n",
    "- 0,5 (покупка в последние полгода),  \n",
    "- и оставшиеся (покупка в первое полугодие)."
   ]
  },
  {
   "cell_type": "code",
   "execution_count": null,
   "metadata": {
    "id": "NtMnPd4w1GwT"
   },
   "outputs": [],
   "source": [
    "rec = df_rfm.recency.quantile([.25, .5]).to_dict()"
   ]
  },
  {
   "cell_type": "code",
   "execution_count": null,
   "metadata": {
    "id": "Lqra6Nfx1GwT",
    "outputId": "d5c42194-b5f9-4dec-feed-a0d45175f935"
   },
   "outputs": [
    {
     "data": {
      "text/plain": [
       "{0.25: 88.0, 0.5: 172.0}"
      ]
     },
     "execution_count": 199,
     "metadata": {},
     "output_type": "execute_result"
    }
   ],
   "source": [
    "rec"
   ]
  },
  {
   "cell_type": "code",
   "execution_count": null,
   "metadata": {
    "id": "tUeTDkTn1GwT",
    "outputId": "7daaaf79-a405-41c9-fd8f-c598c2d1fe9b"
   },
   "outputs": [
    {
     "data": {
      "text/plain": [
       "<matplotlib.axes._subplots.AxesSubplot at 0x7f1f04ec75c0>"
      ]
     },
     "execution_count": 150,
     "metadata": {},
     "output_type": "execute_result"
    },
    {
     "data": {
      "image/png": "[encoded data removed]",
      "text/plain": [
       "<Figure size 432x288 with 1 Axes>"
      ]
     },
     "metadata": {
      "needs_background": "light"
     },
     "output_type": "display_data"
    }
   ],
   "source": [
    "df_rfm.frequency.hist()"
   ]
  },
  {
   "cell_type": "code",
   "execution_count": null,
   "metadata": {
    "id": "ijxevCdE1GwU",
    "outputId": "a3c114be-3321-4af8-ea13-1cd8b7479469"
   },
   "outputs": [
    {
     "data": {
      "text/plain": [
       "count    72456.000000\n",
       "mean         1.027217\n",
       "std          0.185691\n",
       "min          1.000000\n",
       "25%          1.000000\n",
       "50%          1.000000\n",
       "75%          1.000000\n",
       "max         11.000000\n",
       "Name: frequency, dtype: float64"
      ]
     },
     "execution_count": 153,
     "metadata": {},
     "output_type": "execute_result"
    }
   ],
   "source": [
    "df_rfm.frequency.describe()"
   ]
  },
  {
   "cell_type": "code",
   "execution_count": null,
   "metadata": {
    "id": "LNHW4chc1GwU",
    "outputId": "78a75750-69cc-407c-8cda-33cde179d189"
   },
   "outputs": [
    {
     "data": {
      "text/plain": [
       "frequency\n",
       "2     1680\n",
       "3       94\n",
       "4       16\n",
       "5        5\n",
       "7        3\n",
       "11       1\n",
       "9        1\n",
       "dtype: int64"
      ]
     },
     "execution_count": 155,
     "metadata": {},
     "output_type": "execute_result"
    }
   ],
   "source": [
    "df_rfm.query('frequency > 1').value_counts('frequency')"
   ]
  },
  {
   "cell_type": "markdown",
   "metadata": {
    "id": "8QnjgZH61GwU"
   },
   "source": [
    "frequency - как часто клиент совершает покупку. Группы в разрезе frequency наблюдаются такими:  \n",
    "- 1 покупка (наибольшая группа),  \n",
    "- 2 покупки,  \n",
    "- 3 и более покупок"
   ]
  },
  {
   "cell_type": "code",
   "execution_count": null,
   "metadata": {
    "id": "reSB8H7g1GwU",
    "outputId": "09b2c8a2-9320-4257-afd8-50fcad98ff45"
   },
   "outputs": [
    {
     "data": {
      "text/plain": [
       "<matplotlib.axes._subplots.AxesSubplot at 0x7f1efe0b20b8>"
      ]
     },
     "execution_count": 195,
     "metadata": {},
     "output_type": "execute_result"
    },
    {
     "data": {
      "image/png": "[encoded data removed]",
      "text/plain": [
       "<Figure size 504x504 with 1 Axes>"
      ]
     },
     "metadata": {
      "needs_background": "light"
     },
     "output_type": "display_data"
    }
   ],
   "source": [
    "fig = plt.figure(figsize = (7,7))\n",
    "ax = fig.gca()\n",
    "df_rfm.monetary.hist(ax = ax)"
   ]
  },
  {
   "cell_type": "code",
   "execution_count": null,
   "metadata": {
    "id": "WooYE6Sw1GwU",
    "outputId": "838edb5e-c2bd-47e3-b3e5-174ad5e4934e"
   },
   "outputs": [
    {
     "data": {
      "text/plain": [
       "count    72456.000000\n",
       "mean       141.036199\n",
       "std        211.778033\n",
       "min          0.850000\n",
       "25%         47.900000\n",
       "50%         89.800000\n",
       "75%        152.000000\n",
       "max      13440.000000\n",
       "Name: monetary, dtype: float64"
      ]
     },
     "execution_count": 156,
     "metadata": {},
     "output_type": "execute_result"
    }
   ],
   "source": [
    "df_rfm.monetary.describe()"
   ]
  },
  {
   "cell_type": "code",
   "execution_count": null,
   "metadata": {
    "id": "Aa16JhUS1GwU",
    "outputId": "6d49e090-d2cc-42c1-f08c-6bccc2b7afee"
   },
   "outputs": [
    {
     "data": {
      "text/plain": [
       "<matplotlib.axes._subplots.AxesSubplot at 0x7f1efdf83cc0>"
      ]
     },
     "execution_count": 197,
     "metadata": {},
     "output_type": "execute_result"
    },
    {
     "data": {
      "image/png": "[encoded data removed]",
      "text/plain": [
       "<Figure size 1080x720 with 1 Axes>"
      ]
     },
     "metadata": {
      "needs_background": "light"
     },
     "output_type": "display_data"
    }
   ],
   "source": [
    "fig = plt.figure(figsize = (15,10))\n",
    "df_rfm.boxplot('monetary')"
   ]
  },
  {
   "cell_type": "markdown",
   "metadata": {
    "id": "OGkPlOzG1GwV"
   },
   "source": [
    "monetary - сколько денег тратит клиент. А клиент тратит по-разному:  \n",
    "- наибольшая группа до 152,  \n",
    "- вторая группа от 153 до 5000,\n",
    "- третья группа более 5000 (выбросы)\n",
    "Можно было бы и не делить между собой вторую и третью группы, но например это разделение можно использовать в программе лояльности, разные группы клиентов получают разные скидки(тут еще конечно надо смотреть остальные сегменты клиентов третьей группы)"
   ]
  },
  {
   "cell_type": "markdown",
   "metadata": {
    "id": "dw9BbVqZ1GwV"
   },
   "source": [
    "### Расчет баллов RFM"
   ]
  },
  {
   "cell_type": "code",
   "execution_count": null,
   "metadata": {
    "id": "_Ohrko1t1GwV"
   },
   "outputs": [],
   "source": [
    "def r_score(x):\n",
    "    if x <= rec[.25]:\n",
    "        return 1\n",
    "    elif x > rec[.5]:\n",
    "        return 3\n",
    "    else:\n",
    "        return 2\n",
    "\n",
    "def f_score(x):\n",
    "    if x == 1:\n",
    "        return 3\n",
    "    elif x > 2:\n",
    "        return 1\n",
    "    else:\n",
    "        return 2\n",
    "\n",
    "def m_score(x):\n",
    "    if x <= 152:\n",
    "        return 3\n",
    "    elif x > 5000:\n",
    "        return 1\n",
    "    else:\n",
    "        return 2"
   ]
  },
  {
   "cell_type": "code",
   "execution_count": null,
   "metadata": {
    "id": "2RtOeL4a1GwV"
   },
   "outputs": [],
   "source": [
    "# внесем в датафрейм колонки со скорами:\n",
    "df_rfm['r_score'] = df_rfm.recency.apply(lambda x: str(r_score(x)))\n",
    "df_rfm['f_score'] = df_rfm.frequency.apply(lambda x: str(f_score(x)))\n",
    "df_rfm['m_score'] = df_rfm.monetary.apply(lambda x: str(m_score(x)))"
   ]
  },
  {
   "cell_type": "code",
   "execution_count": null,
   "metadata": {
    "id": "AJ6874_x1GwV"
   },
   "outputs": [],
   "source": [
    "# создадим колонку с указанием общего кластера\n",
    "df_rfm['cluster'] = df_rfm.r_score + df_rfm.f_score + df_rfm.m_score"
   ]
  },
  {
   "cell_type": "code",
   "execution_count": null,
   "metadata": {
    "id": "xcNHF33M1GwV",
    "outputId": "965ad9f1-cdb2-4eb3-eecd-74091723a4f3"
   },
   "outputs": [
    {
     "data": {
      "text/plain": [
       "333    26884\n",
       "133    13459\n",
       "233    13314\n",
       "332     8466\n",
       "232     4370\n",
       "132     4159\n",
       "322      450\n",
       "323      324\n",
       "122      285\n",
       "222      256\n",
       "123      194\n",
       "223      171\n",
       "212       37\n",
       "112       36\n",
       "312       28\n",
       "213        8\n",
       "113        6\n",
       "313        5\n",
       "331        2\n",
       "131        2\n",
       "Name: cluster, dtype: int64"
      ]
     },
     "execution_count": 225,
     "metadata": {},
     "output_type": "execute_result"
    }
   ],
   "source": [
    "df_rfm.cluster.value_counts()"
   ]
  },
  {
   "cell_type": "code",
   "execution_count": null,
   "metadata": {
    "id": "trYl2Ee31GwV",
    "outputId": "b258f61b-8c52-46c7-bd0d-be8331aff197"
   },
   "outputs": [
    {
     "data": {
      "text/plain": [
       "20"
      ]
     },
     "execution_count": 223,
     "metadata": {},
     "output_type": "execute_result"
    }
   ],
   "source": [
    "df_rfm.cluster.nunique()"
   ]
  },
  {
   "cell_type": "markdown",
   "metadata": {
    "id": "TyF2pLu91GwW"
   },
   "source": [
    "Итак, всего у нас получилось 20 кластеров. Большинство наших клиентов попали в RFM 333 (давнишние мелкие заказы). Также в топ-3 групп входят клиенты RFM 133 (мелкие заказы, сделанные в последние три месяца) и RFM 233 (мелкие заказы давности от 3 месяцев до полугода). Идеальная группа - RFM 111 (свежие крупные заказы в большом количестве), у нас она отсутствует вобще."
   ]
  }
 ],
 "metadata": {
  "colab": {
   "include_colab_link": true,
   "provenance": []
  },
  "kernelspec": {
   "display_name": "Python 3 (ipykernel)",
   "language": "python",
   "name": "python3"
  },
  "language_info": {
   "codemirror_mode": {
    "name": "ipython",
    "version": 3
   },
   "file_extension": ".py",
   "mimetype": "text/x-python",
   "name": "python",
   "nbconvert_exporter": "python",
   "pygments_lexer": "ipython3",
   "version": "3.8.8"
  }
 },
 "nbformat": 4,
 "nbformat_minor": 4
}
